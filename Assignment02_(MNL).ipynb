{
  "nbformat": 4,
  "nbformat_minor": 0,
  "metadata": {
    "kernelspec": {
      "display_name": "Python 3",
      "language": "python",
      "name": "python3"
    },
    "language_info": {
      "codemirror_mode": {
        "name": "ipython",
        "version": 3
      },
      "file_extension": ".py",
      "mimetype": "text/x-python",
      "name": "python",
      "nbconvert_exporter": "python",
      "pygments_lexer": "ipython3",
      "version": "3.7.4"
    },
    "colab": {
      "name": "Assignment02_(MNL).ipynb",
      "provenance": [],
      "collapsed_sections": []
    }
  },
  "cells": [
    {
      "cell_type": "markdown",
      "metadata": {
        "id": "BQu32icXDMSj"
      },
      "source": [
        "# Assignment 2  <font color=\"blue\"> (15 points) </font>\n",
        " \n",
        "***\n",
        "\n",
        "### General Instructions\n",
        "  + You may need additional libraries besides the Python standard library to solve some questions. Import only necessary libraries. \n",
        "  + If more than one library exist for a same purpose, choose the one you wish as long as it does the task properly. \n",
        "  + If we want you to use a specific library, then we will state it clearly. \n",
        "  + Use the exact variable names asked in the questions. When no clear instructions given, feel free to do it the way you would like to.\n",
        "  + After each question, add the needed number of new cells and place your answers inside the cells. \n",
        "  + Use text cells for explanations. Use explanation and plain text as much as possible. \n",
        "  + Do not remove or modify the original cells provided by the instructor.\n",
        "  + In the following cell you will find some extra options to make your code more readable, including output colors RED, OKBLUE, or output text styles like BOLD or UNDERLINE that. Do not hesitate to use them. As an example, one may output text in red as follows: \n",
        "  ```python\n",
        "     print(bcolors.RED + \"your text\" + bcolors.ENDC)\n",
        "  ```\n",
        "  + Comment your code whenever needed using # sign at the beginning of the row.\n",
        "  + In some questions some of the details needed for solving the problem are **purposely** omitted to encourage additional self-directed research. This, especially, helps you develop some search skills for coding in Python (which is inevitable due to the inconsistent syntax of Python).\n",
        "  + Do not hesitate to communicate your questions to the TA's or instructors. \n",
        "    \n",
        "  Good luck! "
      ]
    },
    {
      "cell_type": "code",
      "metadata": {
        "id": "KJ3ey5VeDMSr"
      },
      "source": [
        "\n",
        "# The following piece of code gives the opportunity to show multiple outputs\n",
        "# in one cell:\n",
        "from IPython.core.interactiveshell import InteractiveShell\n",
        "InteractiveShell.ast_node_interactivity = \"all\"\n",
        "\n",
        "\n",
        "# Colorful outputs\n",
        "class bcolors:\n",
        "    RED       = '\\033[91m'\n",
        "    OKBLUE    = '\\033[94m'\n",
        "    BOLD      = '\\033[1m'\n",
        "    UNDERLINE = '\\033[4m'\n",
        "    ENDC      = '\\033[0m'"
      ],
      "execution_count": 1,
      "outputs": []
    },
    {
      "cell_type": "code",
      "metadata": {
        "id": "L-35SU0jfnqA"
      },
      "source": [
        "import numpy as np\r\n",
        "import pandas as pd\r\n",
        "import matplotlib.pyplot as plt\r\n",
        "from sklearn.linear_model import LogisticRegression\r\n",
        "from sklearn.discriminant_analysis import LinearDiscriminantAnalysis\r\n",
        "from sklearn.discriminant_analysis import QuadraticDiscriminantAnalysis\r\n",
        "from sklearn.metrics import confusion_matrix\r\n",
        "from sklearn.metrics import roc_auc_score\r\n",
        "from sklearn.decomposition import PCA"
      ],
      "execution_count": 2,
      "outputs": []
    },
    {
      "cell_type": "markdown",
      "metadata": {
        "id": "fn7Hdf97DMS0"
      },
      "source": [
        "## **Part A** <font color=\"blue\">(7 points)</font>\n",
        "\n",
        "1. **<font color=blue> (1 point) </font>** Download `Credit.csv` from <http://faculty.marshall.usc.edu/gareth-james/ISL/data.html> and upload it into this notebook. Print the first $5$ rows of the data. Using appropriate descriptive statistics or visualization methods describe the variables and possible association amongst them. Interpret the results. \n",
        "2. **<font color=blue> (0.5 points)</font>** Keep only `Income`, `Limit`, `Rating`, `Cards`, `Age`, `Education`, and `Balance` as your variables and throw the rest of variables away. Print the dimension of this new dataset. \n",
        "3.  **<font color=blue> (0.5 points) </font>** Create a binary variable `Balance_1500` which equals $1$ for the observations with `Balance` $> 1500$, and equals $0$ otherwise.\n",
        "4. **<font color=blue> (3 points) </font>** Model `Balance_1500` by the explanatory variables `Income`, `Limit`, `Rating`, `Cards`, `Age`, `Education` using the following models: \n",
        "    + logistic regression, \n",
        "    + linear discriminant, and \n",
        "    + quadratic discriminant.\n",
        "8. **<font color=blue> (0.5 points) </font>** Find the probability of (`Balance` $> 1500$), for the following values, using all three aforementionned methods:\n",
        "\n",
        "|    Income    |    Limit     |     Rating     |    Cards     |      Age        |   Education   | \n",
        "|--------------|--------------|----------------|--------------|-----------------|---------------|\n",
        "|      63      |    8100      |     600        |      4       |       30        |      13       |\n",
        "|     186      |    13414     |     950        |      2       |       41        |      13       |\n",
        "\n",
        "</br>\n",
        "Compare the probabilities and comment.\n",
        "    \n",
        "9. **<font color=blue> (1.5 points) </font>** For each method, print the confusion matrix, the accuracy score and the AUC using all observations. Compare these metrics and comment. "
      ]
    },
    {
      "cell_type": "markdown",
      "metadata": {
        "id": "u5sCKy8CHvZ9"
      },
      "source": [
        "**<font color=blue> Part A.1** <font color=black> Download Credit.csv and upload it into this notebook. Print the first  5  rows of the data. Using appropriate descriptive statistics or visualization methods describe the variables and possible association amongst them. Interpret the results."
      ]
    },
    {
      "cell_type": "code",
      "metadata": {
        "colab": {
          "resources": {
            "http://localhost:8080/nbextensions/google.colab/files.js": {
              "data": "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",
              "ok": true,
              "headers": [
                [
                  "content-type",
                  "application/javascript"
                ]
              ],
              "status": 200,
              "status_text": "OK"
            }
          },
          "base_uri": "https://localhost:8080/",
          "height": 72
        },
        "id": "QFRNZrpjJ7ur",
        "outputId": "151f366a-ab35-4cd1-f775-34ee811ce635"
      },
      "source": [
        "# Upload the file in Google Colab\r\n",
        "from google.colab import files\r\n",
        "uploaded = files.upload()"
      ],
      "execution_count": 3,
      "outputs": [
        {
          "output_type": "display_data",
          "data": {
            "text/html": [
              "\n",
              "     <input type=\"file\" id=\"files-50e9a752-d4ac-4ae0-beaa-5ab01ef8ce36\" name=\"files[]\" multiple disabled\n",
              "        style=\"border:none\" />\n",
              "     <output id=\"result-50e9a752-d4ac-4ae0-beaa-5ab01ef8ce36\">\n",
              "      Upload widget is only available when the cell has been executed in the\n",
              "      current browser session. Please rerun this cell to enable.\n",
              "      </output>\n",
              "      <script src=\"/nbextensions/google.colab/files.js\"></script> "
            ],
            "text/plain": [
              "<IPython.core.display.HTML object>"
            ]
          },
          "metadata": {
            "tags": []
          }
        },
        {
          "output_type": "stream",
          "text": [
            "Saving Credit.csv to Credit.csv\n"
          ],
          "name": "stdout"
        }
      ]
    },
    {
      "cell_type": "code",
      "metadata": {
        "colab": {
          "base_uri": "https://localhost:8080/",
          "height": 204
        },
        "id": "u1pSxSW2H3Lc",
        "outputId": "8253c7c8-32c3-4653-8d4e-b37f8c850890"
      },
      "source": [
        "# Read the cvs file and put in variable df1\r\n",
        "df1 = pd.read_csv('Credit.csv')\r\n",
        "df1.head()"
      ],
      "execution_count": 4,
      "outputs": [
        {
          "output_type": "execute_result",
          "data": {
            "text/html": [
              "<div>\n",
              "<style scoped>\n",
              "    .dataframe tbody tr th:only-of-type {\n",
              "        vertical-align: middle;\n",
              "    }\n",
              "\n",
              "    .dataframe tbody tr th {\n",
              "        vertical-align: top;\n",
              "    }\n",
              "\n",
              "    .dataframe thead th {\n",
              "        text-align: right;\n",
              "    }\n",
              "</style>\n",
              "<table border=\"1\" class=\"dataframe\">\n",
              "  <thead>\n",
              "    <tr style=\"text-align: right;\">\n",
              "      <th></th>\n",
              "      <th>Unnamed: 0</th>\n",
              "      <th>Income</th>\n",
              "      <th>Limit</th>\n",
              "      <th>Rating</th>\n",
              "      <th>Cards</th>\n",
              "      <th>Age</th>\n",
              "      <th>Education</th>\n",
              "      <th>Gender</th>\n",
              "      <th>Student</th>\n",
              "      <th>Married</th>\n",
              "      <th>Ethnicity</th>\n",
              "      <th>Balance</th>\n",
              "    </tr>\n",
              "  </thead>\n",
              "  <tbody>\n",
              "    <tr>\n",
              "      <th>0</th>\n",
              "      <td>1</td>\n",
              "      <td>14.891</td>\n",
              "      <td>3606</td>\n",
              "      <td>283</td>\n",
              "      <td>2</td>\n",
              "      <td>34</td>\n",
              "      <td>11</td>\n",
              "      <td>Male</td>\n",
              "      <td>No</td>\n",
              "      <td>Yes</td>\n",
              "      <td>Caucasian</td>\n",
              "      <td>333</td>\n",
              "    </tr>\n",
              "    <tr>\n",
              "      <th>1</th>\n",
              "      <td>2</td>\n",
              "      <td>106.025</td>\n",
              "      <td>6645</td>\n",
              "      <td>483</td>\n",
              "      <td>3</td>\n",
              "      <td>82</td>\n",
              "      <td>15</td>\n",
              "      <td>Female</td>\n",
              "      <td>Yes</td>\n",
              "      <td>Yes</td>\n",
              "      <td>Asian</td>\n",
              "      <td>903</td>\n",
              "    </tr>\n",
              "    <tr>\n",
              "      <th>2</th>\n",
              "      <td>3</td>\n",
              "      <td>104.593</td>\n",
              "      <td>7075</td>\n",
              "      <td>514</td>\n",
              "      <td>4</td>\n",
              "      <td>71</td>\n",
              "      <td>11</td>\n",
              "      <td>Male</td>\n",
              "      <td>No</td>\n",
              "      <td>No</td>\n",
              "      <td>Asian</td>\n",
              "      <td>580</td>\n",
              "    </tr>\n",
              "    <tr>\n",
              "      <th>3</th>\n",
              "      <td>4</td>\n",
              "      <td>148.924</td>\n",
              "      <td>9504</td>\n",
              "      <td>681</td>\n",
              "      <td>3</td>\n",
              "      <td>36</td>\n",
              "      <td>11</td>\n",
              "      <td>Female</td>\n",
              "      <td>No</td>\n",
              "      <td>No</td>\n",
              "      <td>Asian</td>\n",
              "      <td>964</td>\n",
              "    </tr>\n",
              "    <tr>\n",
              "      <th>4</th>\n",
              "      <td>5</td>\n",
              "      <td>55.882</td>\n",
              "      <td>4897</td>\n",
              "      <td>357</td>\n",
              "      <td>2</td>\n",
              "      <td>68</td>\n",
              "      <td>16</td>\n",
              "      <td>Male</td>\n",
              "      <td>No</td>\n",
              "      <td>Yes</td>\n",
              "      <td>Caucasian</td>\n",
              "      <td>331</td>\n",
              "    </tr>\n",
              "  </tbody>\n",
              "</table>\n",
              "</div>"
            ],
            "text/plain": [
              "   Unnamed: 0   Income  Limit  Rating  ...  Student  Married  Ethnicity Balance\n",
              "0           1   14.891   3606     283  ...       No      Yes  Caucasian     333\n",
              "1           2  106.025   6645     483  ...      Yes      Yes      Asian     903\n",
              "2           3  104.593   7075     514  ...       No       No      Asian     580\n",
              "3           4  148.924   9504     681  ...       No       No      Asian     964\n",
              "4           5   55.882   4897     357  ...       No      Yes  Caucasian     331\n",
              "\n",
              "[5 rows x 12 columns]"
            ]
          },
          "metadata": {
            "tags": []
          },
          "execution_count": 4
        }
      ]
    },
    {
      "cell_type": "code",
      "metadata": {
        "id": "kWYaNvj7g1QI"
      },
      "source": [
        "# Drop the first column\r\n",
        "df1 = df1.drop(labels=['Unnamed: 0'], axis=1)"
      ],
      "execution_count": 5,
      "outputs": []
    },
    {
      "cell_type": "code",
      "metadata": {
        "colab": {
          "base_uri": "https://localhost:8080/"
        },
        "id": "vHgp3vFSptfo",
        "outputId": "6c90fe3c-745c-470f-878d-430518c90dca"
      },
      "source": [
        "# Check the typles of columns in df1 (4 are string (object) and others are int or float)\r\n",
        "df1.dtypes"
      ],
      "execution_count": 6,
      "outputs": [
        {
          "output_type": "execute_result",
          "data": {
            "text/plain": [
              "Income       float64\n",
              "Limit          int64\n",
              "Rating         int64\n",
              "Cards          int64\n",
              "Age            int64\n",
              "Education      int64\n",
              "Gender        object\n",
              "Student       object\n",
              "Married       object\n",
              "Ethnicity     object\n",
              "Balance        int64\n",
              "dtype: object"
            ]
          },
          "metadata": {
            "tags": []
          },
          "execution_count": 6
        }
      ]
    },
    {
      "cell_type": "code",
      "metadata": {
        "colab": {
          "base_uri": "https://localhost:8080/",
          "height": 873
        },
        "id": "o4xesdo1iddg",
        "outputId": "059e4eaf-dff4-4dbf-93c5-ad3a726d2f42"
      },
      "source": [
        "# plot in histogram all columns of df1\r\n",
        "fig, axs = plt.subplots(2, 6, figsize=(20,8))\r\n",
        "\r\n",
        "axs[0, 0].hist(df1['Income'], edgecolor='darkgray')\r\n",
        "axs[0, 0].title.set_text('Income')\r\n",
        "axs[0, 0].axvline(df1['Income'].mean(), color='k', linestyle='dashed', linewidth=1)\r\n",
        "axs[0, 0].text(df1['Income'].mean()*1.1, 125, 'Mean: {:.2f}'.format(df1['Income'].mean()))\r\n",
        "\r\n",
        "axs[0, 1].hist(df1['Limit'], edgecolor='darkgray')\r\n",
        "axs[0, 1].title.set_text('Limit')\r\n",
        "axs[0, 1].axvline(df1['Limit'].mean(), color='k', linestyle='dashed', linewidth=1)\r\n",
        "axs[0, 1].text(df1['Limit'].mean()*1.5, 70, 'Mean: {:.2f}'.format(df1['Limit'].mean()))\r\n",
        "\r\n",
        "axs[0, 2].hist(df1['Rating'], edgecolor='darkgray')\r\n",
        "axs[0, 2].title.set_text('Rating')\r\n",
        "axs[0, 2].axvline(df1['Rating'].mean(), color='k', linestyle='dashed', linewidth=1)\r\n",
        "axs[0, 2].text(df1['Rating'].mean()*1.5, 70, 'Mean: {:.2f}'.format(df1['Rating'].mean()))\r\n",
        "\r\n",
        "axs[0, 3].hist(df1['Cards'], edgecolor='darkgray')\r\n",
        "axs[0, 3].title.set_text('Cards')\r\n",
        "axs[0, 3].axvline(df1['Cards'].mean(), color='k', linestyle='dashed', linewidth=1)\r\n",
        "axs[0, 3].text(df1['Cards'].mean()*1.5, 90, 'Mean: {:.2f}'.format(df1['Cards'].mean()))\r\n",
        "\r\n",
        "axs[0, 4].hist(df1['Age'], edgecolor='darkgray')\r\n",
        "axs[0, 4].title.set_text('Age')\r\n",
        "axs[0, 4].axvline(df1['Age'].mean(), color='k', linestyle='dashed', linewidth=1)\r\n",
        "axs[0, 4].text(df1['Age'].mean()*1.1, 55, 'Mean: {:.2f}'.format(df1['Age'].mean()))\r\n",
        "\r\n",
        "axs[1, 0].hist(df1['Education'], edgecolor='darkgray')\r\n",
        "axs[1, 0].title.set_text('Education')\r\n",
        "axs[1, 0].axvline(df1['Education'].mean(), color='k', linestyle='dashed', linewidth=1)\r\n",
        "axs[1, 0].text(df1['Education'].mean()*0.45, 80, 'Mean: {:.2f}'.format(df1['Education'].mean()))\r\n",
        "\r\n",
        "axs[1, 1].hist(df1['Gender'], edgecolor='darkgray', bins=2)\r\n",
        "axs[1, 1].title.set_text('Gender')\r\n",
        "\r\n",
        "axs[1, 2].hist(df1['Student'], edgecolor='darkgray', bins=2)\r\n",
        "axs[1, 2].title.set_text('Student')\r\n",
        "\r\n",
        "axs[1, 3].hist(df1['Married'], edgecolor='darkgray', bins=2)\r\n",
        "axs[1, 3].title.set_text('Married')\r\n",
        "\r\n",
        "axs[1, 4].hist(df1['Ethnicity'], edgecolor='darkgray', bins=3)\r\n",
        "axs[1, 4].title.set_text('Ethnicity')\r\n",
        "\r\n",
        "axs[1, 5].hist(df1['Balance'], edgecolor='darkgray')\r\n",
        "axs[1, 5].title.set_text('Balance')\r\n",
        "axs[1, 5].axvline(df1['Balance'].mean(), color='k', linestyle='dashed', linewidth=1)\r\n",
        "axs[1, 5].text(df1['Balance'].mean()*1.2, 120, 'Mean: {:.2f}'.format(df1['Balance'].mean()))"
      ],
      "execution_count": 7,
      "outputs": [
        {
          "output_type": "execute_result",
          "data": {
            "text/plain": [
              "(array([163., 103.,  52.,  30.,  14.,  14.,   8.,   7.,   5.,   4.]),\n",
              " array([ 10.354,  27.982,  45.61 ,  63.238,  80.866,  98.494, 116.122,\n",
              "        133.75 , 151.378, 169.006, 186.634]),\n",
              " <a list of 10 Patch objects>)"
            ]
          },
          "metadata": {
            "tags": []
          },
          "execution_count": 7
        },
        {
          "output_type": "execute_result",
          "data": {
            "text/plain": [
              "<matplotlib.lines.Line2D at 0x7f4b19b55850>"
            ]
          },
          "metadata": {
            "tags": []
          },
          "execution_count": 7
        },
        {
          "output_type": "execute_result",
          "data": {
            "text/plain": [
              "Text(49.740773500000046, 125, 'Mean: 45.22')"
            ]
          },
          "metadata": {
            "tags": []
          },
          "execution_count": 7
        },
        {
          "output_type": "execute_result",
          "data": {
            "text/plain": [
              "(array([51., 78., 84., 93., 42., 28., 11.,  8.,  3.,  2.]),\n",
              " array([  855. ,  2160.8,  3466.6,  4772.4,  6078.2,  7384. ,  8689.8,\n",
              "         9995.6, 11301.4, 12607.2, 13913. ]),\n",
              " <a list of 10 Patch objects>)"
            ]
          },
          "metadata": {
            "tags": []
          },
          "execution_count": 7
        },
        {
          "output_type": "execute_result",
          "data": {
            "text/plain": [
              "<matplotlib.lines.Line2D at 0x7f4b0723c690>"
            ]
          },
          "metadata": {
            "tags": []
          },
          "execution_count": 7
        },
        {
          "output_type": "execute_result",
          "data": {
            "text/plain": [
              "Text(7103.400000000001, 70, 'Mean: 4735.60')"
            ]
          },
          "metadata": {
            "tags": []
          },
          "execution_count": 7
        },
        {
          "output_type": "execute_result",
          "data": {
            "text/plain": [
              "(array([51., 79., 86., 91., 47., 23., 11.,  6.,  4.,  2.]),\n",
              " array([ 93. , 181.9, 270.8, 359.7, 448.6, 537.5, 626.4, 715.3, 804.2,\n",
              "        893.1, 982. ]),\n",
              " <a list of 10 Patch objects>)"
            ]
          },
          "metadata": {
            "tags": []
          },
          "execution_count": 7
        },
        {
          "output_type": "execute_result",
          "data": {
            "text/plain": [
              "<matplotlib.lines.Line2D at 0x7f4afe9f3750>"
            ]
          },
          "metadata": {
            "tags": []
          },
          "execution_count": 7
        },
        {
          "output_type": "execute_result",
          "data": {
            "text/plain": [
              "Text(532.41, 70, 'Mean: 354.94')"
            ]
          },
          "metadata": {
            "tags": []
          },
          "execution_count": 7
        },
        {
          "output_type": "execute_result",
          "data": {
            "text/plain": [
              "(array([ 51., 115., 111.,  72.,   0.,  34.,  11.,   4.,   1.,   1.]),\n",
              " array([1. , 1.8, 2.6, 3.4, 4.2, 5. , 5.8, 6.6, 7.4, 8.2, 9. ]),\n",
              " <a list of 10 Patch objects>)"
            ]
          },
          "metadata": {
            "tags": []
          },
          "execution_count": 7
        },
        {
          "output_type": "execute_result",
          "data": {
            "text/plain": [
              "<matplotlib.lines.Line2D at 0x7f4afea16810>"
            ]
          },
          "metadata": {
            "tags": []
          },
          "execution_count": 7
        },
        {
          "output_type": "execute_result",
          "data": {
            "text/plain": [
              "Text(4.43625, 90, 'Mean: 2.96')"
            ]
          },
          "metadata": {
            "tags": []
          },
          "execution_count": 7
        },
        {
          "output_type": "execute_result",
          "data": {
            "text/plain": [
              "(array([32., 43., 52., 58., 49., 49., 53., 46., 16.,  2.]),\n",
              " array([23. , 30.5, 38. , 45.5, 53. , 60.5, 68. , 75.5, 83. , 90.5, 98. ]),\n",
              " <a list of 10 Patch objects>)"
            ]
          },
          "metadata": {
            "tags": []
          },
          "execution_count": 7
        },
        {
          "output_type": "execute_result",
          "data": {
            "text/plain": [
              "<matplotlib.lines.Line2D at 0x7f4afe9b78d0>"
            ]
          },
          "metadata": {
            "tags": []
          },
          "execution_count": 7
        },
        {
          "output_type": "execute_result",
          "data": {
            "text/plain": [
              "Text(61.23425, 55, 'Mean: 55.67')"
            ]
          },
          "metadata": {
            "tags": []
          },
          "execution_count": 7
        },
        {
          "output_type": "execute_result",
          "data": {
            "text/plain": [
              "(array([ 6.,  8., 39., 24., 70., 38., 97., 50., 56., 12.]),\n",
              " array([ 5. ,  6.5,  8. ,  9.5, 11. , 12.5, 14. , 15.5, 17. , 18.5, 20. ]),\n",
              " <a list of 10 Patch objects>)"
            ]
          },
          "metadata": {
            "tags": []
          },
          "execution_count": 7
        },
        {
          "output_type": "execute_result",
          "data": {
            "text/plain": [
              "<matplotlib.lines.Line2D at 0x7f4afe982d90>"
            ]
          },
          "metadata": {
            "tags": []
          },
          "execution_count": 7
        },
        {
          "output_type": "execute_result",
          "data": {
            "text/plain": [
              "Text(6.0525, 80, 'Mean: 13.45')"
            ]
          },
          "metadata": {
            "tags": []
          },
          "execution_count": 7
        },
        {
          "output_type": "execute_result",
          "data": {
            "text/plain": [
              "(array([193., 207.]), array([0. , 0.5, 1. ]), <a list of 2 Patch objects>)"
            ]
          },
          "metadata": {
            "tags": []
          },
          "execution_count": 7
        },
        {
          "output_type": "execute_result",
          "data": {
            "text/plain": [
              "(array([360.,  40.]), array([0. , 0.5, 1. ]), <a list of 2 Patch objects>)"
            ]
          },
          "metadata": {
            "tags": []
          },
          "execution_count": 7
        },
        {
          "output_type": "execute_result",
          "data": {
            "text/plain": [
              "(array([245., 155.]), array([0. , 0.5, 1. ]), <a list of 2 Patch objects>)"
            ]
          },
          "metadata": {
            "tags": []
          },
          "execution_count": 7
        },
        {
          "output_type": "execute_result",
          "data": {
            "text/plain": [
              "(array([199., 102.,  99.]),\n",
              " array([0.        , 0.66666667, 1.33333333, 2.        ]),\n",
              " <a list of 3 Patch objects>)"
            ]
          },
          "metadata": {
            "tags": []
          },
          "execution_count": 7
        },
        {
          "output_type": "execute_result",
          "data": {
            "text/plain": [
              "(array([138.,  45.,  53.,  47.,  48.,  32.,  21.,  11.,   3.,   2.]),\n",
              " array([   0. ,  199.9,  399.8,  599.7,  799.6,  999.5, 1199.4, 1399.3,\n",
              "        1599.2, 1799.1, 1999. ]),\n",
              " <a list of 10 Patch objects>)"
            ]
          },
          "metadata": {
            "tags": []
          },
          "execution_count": 7
        },
        {
          "output_type": "execute_result",
          "data": {
            "text/plain": [
              "<matplotlib.lines.Line2D at 0x7f4afe99a6d0>"
            ]
          },
          "metadata": {
            "tags": []
          },
          "execution_count": 7
        },
        {
          "output_type": "execute_result",
          "data": {
            "text/plain": [
              "Text(624.0179999999999, 120, 'Mean: 520.01')"
            ]
          },
          "metadata": {
            "tags": []
          },
          "execution_count": 7
        },
        {
          "output_type": "display_data",
          "data": {
            "image/png": "[encoded data removed]",
            "text/plain": [
              "<Figure size 1440x576 with 12 Axes>"
            ]
          },
          "metadata": {
            "tags": [],
            "needs_background": "light"
          }
        }
      ]
    },
    {
      "cell_type": "markdown",
      "metadata": {
        "id": "gkjQ3QvQg6KI"
      },
      "source": [
        "\r\n",
        "\r\n",
        "---\r\n",
        "\r\n",
        "\r\n",
        "<font color=blue> We can see all the distributions and the means of the variables. In this table, there is sensitive data that we must be careful of as it could lead to discrimination (gender, married, ethnic origin, age). https://www.chrc-ccdp.gc.ca/eng/content/what-discrimination\r\n",
        "\r\n",
        "\r\n",
        "---\r\n",
        "\r\n"
      ]
    },
    {
      "cell_type": "code",
      "metadata": {
        "colab": {
          "base_uri": "https://localhost:8080/",
          "height": 390
        },
        "id": "G-GtuUgq0LGG",
        "outputId": "a86ef557-0ba4-428a-dbba-ba5407eec830"
      },
      "source": [
        "# For descriptive statistics\r\n",
        "df1.describe(include='all')"
      ],
      "execution_count": 8,
      "outputs": [
        {
          "output_type": "execute_result",
          "data": {
            "text/html": [
              "<div>\n",
              "<style scoped>\n",
              "    .dataframe tbody tr th:only-of-type {\n",
              "        vertical-align: middle;\n",
              "    }\n",
              "\n",
              "    .dataframe tbody tr th {\n",
              "        vertical-align: top;\n",
              "    }\n",
              "\n",
              "    .dataframe thead th {\n",
              "        text-align: right;\n",
              "    }\n",
              "</style>\n",
              "<table border=\"1\" class=\"dataframe\">\n",
              "  <thead>\n",
              "    <tr style=\"text-align: right;\">\n",
              "      <th></th>\n",
              "      <th>Income</th>\n",
              "      <th>Limit</th>\n",
              "      <th>Rating</th>\n",
              "      <th>Cards</th>\n",
              "      <th>Age</th>\n",
              "      <th>Education</th>\n",
              "      <th>Gender</th>\n",
              "      <th>Student</th>\n",
              "      <th>Married</th>\n",
              "      <th>Ethnicity</th>\n",
              "      <th>Balance</th>\n",
              "    </tr>\n",
              "  </thead>\n",
              "  <tbody>\n",
              "    <tr>\n",
              "      <th>count</th>\n",
              "      <td>400.000000</td>\n",
              "      <td>400.000000</td>\n",
              "      <td>400.000000</td>\n",
              "      <td>400.000000</td>\n",
              "      <td>400.000000</td>\n",
              "      <td>400.000000</td>\n",
              "      <td>400</td>\n",
              "      <td>400</td>\n",
              "      <td>400</td>\n",
              "      <td>400</td>\n",
              "      <td>400.000000</td>\n",
              "    </tr>\n",
              "    <tr>\n",
              "      <th>unique</th>\n",
              "      <td>NaN</td>\n",
              "      <td>NaN</td>\n",
              "      <td>NaN</td>\n",
              "      <td>NaN</td>\n",
              "      <td>NaN</td>\n",
              "      <td>NaN</td>\n",
              "      <td>2</td>\n",
              "      <td>2</td>\n",
              "      <td>2</td>\n",
              "      <td>3</td>\n",
              "      <td>NaN</td>\n",
              "    </tr>\n",
              "    <tr>\n",
              "      <th>top</th>\n",
              "      <td>NaN</td>\n",
              "      <td>NaN</td>\n",
              "      <td>NaN</td>\n",
              "      <td>NaN</td>\n",
              "      <td>NaN</td>\n",
              "      <td>NaN</td>\n",
              "      <td>Female</td>\n",
              "      <td>No</td>\n",
              "      <td>Yes</td>\n",
              "      <td>Caucasian</td>\n",
              "      <td>NaN</td>\n",
              "    </tr>\n",
              "    <tr>\n",
              "      <th>freq</th>\n",
              "      <td>NaN</td>\n",
              "      <td>NaN</td>\n",
              "      <td>NaN</td>\n",
              "      <td>NaN</td>\n",
              "      <td>NaN</td>\n",
              "      <td>NaN</td>\n",
              "      <td>207</td>\n",
              "      <td>360</td>\n",
              "      <td>245</td>\n",
              "      <td>199</td>\n",
              "      <td>NaN</td>\n",
              "    </tr>\n",
              "    <tr>\n",
              "      <th>mean</th>\n",
              "      <td>45.218885</td>\n",
              "      <td>4735.600000</td>\n",
              "      <td>354.940000</td>\n",
              "      <td>2.957500</td>\n",
              "      <td>55.667500</td>\n",
              "      <td>13.450000</td>\n",
              "      <td>NaN</td>\n",
              "      <td>NaN</td>\n",
              "      <td>NaN</td>\n",
              "      <td>NaN</td>\n",
              "      <td>520.015000</td>\n",
              "    </tr>\n",
              "    <tr>\n",
              "      <th>std</th>\n",
              "      <td>35.244273</td>\n",
              "      <td>2308.198848</td>\n",
              "      <td>154.724143</td>\n",
              "      <td>1.371275</td>\n",
              "      <td>17.249807</td>\n",
              "      <td>3.125207</td>\n",
              "      <td>NaN</td>\n",
              "      <td>NaN</td>\n",
              "      <td>NaN</td>\n",
              "      <td>NaN</td>\n",
              "      <td>459.758877</td>\n",
              "    </tr>\n",
              "    <tr>\n",
              "      <th>min</th>\n",
              "      <td>10.354000</td>\n",
              "      <td>855.000000</td>\n",
              "      <td>93.000000</td>\n",
              "      <td>1.000000</td>\n",
              "      <td>23.000000</td>\n",
              "      <td>5.000000</td>\n",
              "      <td>NaN</td>\n",
              "      <td>NaN</td>\n",
              "      <td>NaN</td>\n",
              "      <td>NaN</td>\n",
              "      <td>0.000000</td>\n",
              "    </tr>\n",
              "    <tr>\n",
              "      <th>25%</th>\n",
              "      <td>21.007250</td>\n",
              "      <td>3088.000000</td>\n",
              "      <td>247.250000</td>\n",
              "      <td>2.000000</td>\n",
              "      <td>41.750000</td>\n",
              "      <td>11.000000</td>\n",
              "      <td>NaN</td>\n",
              "      <td>NaN</td>\n",
              "      <td>NaN</td>\n",
              "      <td>NaN</td>\n",
              "      <td>68.750000</td>\n",
              "    </tr>\n",
              "    <tr>\n",
              "      <th>50%</th>\n",
              "      <td>33.115500</td>\n",
              "      <td>4622.500000</td>\n",
              "      <td>344.000000</td>\n",
              "      <td>3.000000</td>\n",
              "      <td>56.000000</td>\n",
              "      <td>14.000000</td>\n",
              "      <td>NaN</td>\n",
              "      <td>NaN</td>\n",
              "      <td>NaN</td>\n",
              "      <td>NaN</td>\n",
              "      <td>459.500000</td>\n",
              "    </tr>\n",
              "    <tr>\n",
              "      <th>75%</th>\n",
              "      <td>57.470750</td>\n",
              "      <td>5872.750000</td>\n",
              "      <td>437.250000</td>\n",
              "      <td>4.000000</td>\n",
              "      <td>70.000000</td>\n",
              "      <td>16.000000</td>\n",
              "      <td>NaN</td>\n",
              "      <td>NaN</td>\n",
              "      <td>NaN</td>\n",
              "      <td>NaN</td>\n",
              "      <td>863.000000</td>\n",
              "    </tr>\n",
              "    <tr>\n",
              "      <th>max</th>\n",
              "      <td>186.634000</td>\n",
              "      <td>13913.000000</td>\n",
              "      <td>982.000000</td>\n",
              "      <td>9.000000</td>\n",
              "      <td>98.000000</td>\n",
              "      <td>20.000000</td>\n",
              "      <td>NaN</td>\n",
              "      <td>NaN</td>\n",
              "      <td>NaN</td>\n",
              "      <td>NaN</td>\n",
              "      <td>1999.000000</td>\n",
              "    </tr>\n",
              "  </tbody>\n",
              "</table>\n",
              "</div>"
            ],
            "text/plain": [
              "            Income         Limit      Rating  ...  Married  Ethnicity      Balance\n",
              "count   400.000000    400.000000  400.000000  ...      400        400   400.000000\n",
              "unique         NaN           NaN         NaN  ...        2          3          NaN\n",
              "top            NaN           NaN         NaN  ...      Yes  Caucasian          NaN\n",
              "freq           NaN           NaN         NaN  ...      245        199          NaN\n",
              "mean     45.218885   4735.600000  354.940000  ...      NaN        NaN   520.015000\n",
              "std      35.244273   2308.198848  154.724143  ...      NaN        NaN   459.758877\n",
              "min      10.354000    855.000000   93.000000  ...      NaN        NaN     0.000000\n",
              "25%      21.007250   3088.000000  247.250000  ...      NaN        NaN    68.750000\n",
              "50%      33.115500   4622.500000  344.000000  ...      NaN        NaN   459.500000\n",
              "75%      57.470750   5872.750000  437.250000  ...      NaN        NaN   863.000000\n",
              "max     186.634000  13913.000000  982.000000  ...      NaN        NaN  1999.000000\n",
              "\n",
              "[11 rows x 11 columns]"
            ]
          },
          "metadata": {
            "tags": []
          },
          "execution_count": 8
        }
      ]
    },
    {
      "cell_type": "markdown",
      "metadata": {
        "id": "Ov8un3bkHnCL"
      },
      "source": [
        "---\r\n",
        "<font color=blue> In the table we see come descriptive statistics include those that summarize the central tendency, dispersion and shape of a dataset’s distribution. We don't have row with null data (all count columns are equal 400). 4 variables are string (Gender, Student, Married & Ethinicity).\r\n",
        "\r\n",
        "\r\n",
        "---\r\n",
        "\r\n",
        "\r\n"
      ]
    },
    {
      "cell_type": "markdown",
      "metadata": {
        "id": "all6Y2GaTCZH"
      },
      "source": [
        "\r\n",
        "\r\n",
        "---\r\n",
        "<font color=blue>For a dichotomous categorical variable and a continuous variable you can calculate a Pearson correlation if the categorical variable has a 0/1-coding for the categories. This correlation is then also known as a point-biserial correlation coefficient.\r\n",
        "But when you have more than two categories for the categorical variable (in my case the feature Ethnicity) the Pearson correlation is not appropriate anymore. You should then use Cramer's V.\r\n",
        "\r\n",
        "\r\n",
        "\r\n",
        "<font color=blue>Given a dataset, Dython will automatically find which features are categorical and which are numerical, compute a relevant measure of association between each and every feature, and plot it all as an easy-to-read heat-map. And all this is done with a single line:\r\n",
        "http://shakedzy.xyz/dython/\r\n",
        "\r\n",
        "\r\n",
        "\r\n",
        "---\r\n",
        "\r\n"
      ]
    },
    {
      "cell_type": "code",
      "metadata": {
        "colab": {
          "base_uri": "https://localhost:8080/",
          "height": 1000
        },
        "id": "tBgfnkBdeNBO",
        "outputId": "fead2790-94fb-4293-a61b-2197eed7c50f"
      },
      "source": [
        "!pip install dython\r\n",
        "from dython.nominal import associations\r\n",
        "\r\n",
        "# Correlation with categorical & numerical features\r\n",
        "associations(df1, nominal_columns=['Student','Gender','Married','Ethnicity'], figsize=(10, 10), title='Correlation Heatmap with Dython Library')"
      ],
      "execution_count": 9,
      "outputs": [
        {
          "output_type": "stream",
          "text": [
            "Collecting dython\n",
            "  Downloading https://files.pythonhosted.org/packages/3c/f6/b07c7e407b6081526e45b0487da2bec0ec3b378fcb0e92a5883e335637cc/dython-0.6.3-py3-none-any.whl\n",
            "Requirement already satisfied: scipy in /usr/local/lib/python3.7/dist-packages (from dython) (1.4.1)\n",
            "Requirement already satisfied: pandas>=0.23.4 in /usr/local/lib/python3.7/dist-packages (from dython) (1.1.5)\n",
            "Requirement already satisfied: scikit-learn in /usr/local/lib/python3.7/dist-packages (from dython) (0.22.2.post1)\n",
            "Requirement already satisfied: numpy in /usr/local/lib/python3.7/dist-packages (from dython) (1.19.5)\n",
            "Requirement already satisfied: seaborn in /usr/local/lib/python3.7/dist-packages (from dython) (0.11.1)\n",
            "Requirement already satisfied: matplotlib in /usr/local/lib/python3.7/dist-packages (from dython) (3.2.2)\n",
            "Requirement already satisfied: python-dateutil>=2.7.3 in /usr/local/lib/python3.7/dist-packages (from pandas>=0.23.4->dython) (2.8.1)\n",
            "Requirement already satisfied: pytz>=2017.2 in /usr/local/lib/python3.7/dist-packages (from pandas>=0.23.4->dython) (2018.9)\n",
            "Requirement already satisfied: joblib>=0.11 in /usr/local/lib/python3.7/dist-packages (from scikit-learn->dython) (1.0.1)\n",
            "Requirement already satisfied: cycler>=0.10 in /usr/local/lib/python3.7/dist-packages (from matplotlib->dython) (0.10.0)\n",
            "Requirement already satisfied: kiwisolver>=1.0.1 in /usr/local/lib/python3.7/dist-packages (from matplotlib->dython) (1.3.1)\n",
            "Requirement already satisfied: pyparsing!=2.0.4,!=2.1.2,!=2.1.6,>=2.0.1 in /usr/local/lib/python3.7/dist-packages (from matplotlib->dython) (2.4.7)\n",
            "Requirement already satisfied: six>=1.5 in /usr/local/lib/python3.7/dist-packages (from python-dateutil>=2.7.3->pandas>=0.23.4->dython) (1.15.0)\n",
            "Installing collected packages: dython\n",
            "Successfully installed dython-0.6.3\n"
          ],
          "name": "stdout"
        },
        {
          "output_type": "display_data",
          "data": {
            "image/png": "[encoded data removed]",
            "text/plain": [
              "<Figure size 720x720 with 2 Axes>"
            ]
          },
          "metadata": {
            "tags": [],
            "needs_background": "light"
          }
        },
        {
          "output_type": "execute_result",
          "data": {
            "text/plain": [
              "{'ax': <matplotlib.axes._subplots.AxesSubplot at 0x7f4afda11350>,\n",
              " 'corr':              Income     Limit    Rating  ...   Married  Ethnicity   Balance\n",
              " Income     1.000000  0.792088  0.791378  ...  0.035652   0.040321  0.463656\n",
              " Limit      0.792088  1.000000  0.996880  ...  0.031155   0.042200  0.861697\n",
              " Rating     0.791378  0.996880  1.000000  ...  0.036751   0.045053  0.863625\n",
              " Cards     -0.018273  0.010231  0.053239  ...  0.009695   0.006309  0.086456\n",
              " Age        0.175338  0.100888  0.103165  ...  0.073136   0.073921  0.001835\n",
              " Education -0.027692 -0.023549 -0.030136  ...  0.048911   0.038873 -0.008062\n",
              " Gender     0.010738  0.009397  0.008885  ...  0.000000   0.000000  0.021474\n",
              " Student    0.019632  0.006015  0.002028  ...  0.046697   0.000000  0.259018\n",
              " Married    0.035652  0.031155  0.036751  ...  1.000000   0.094131  0.005673\n",
              " Ethnicity  0.040321  0.042200  0.045053  ...  0.094131   1.000000  0.014792\n",
              " Balance    0.463656  0.861697  0.863625  ...  0.005673   0.014792  1.000000\n",
              " \n",
              " [11 rows x 11 columns]}"
            ]
          },
          "metadata": {
            "tags": []
          },
          "execution_count": 9
        }
      ]
    },
    {
      "cell_type": "markdown",
      "metadata": {
        "id": "Sz-CvNnKJuAP"
      },
      "source": [
        "\r\n",
        "\r\n",
        "---\r\n",
        "<font color=blue> Correlation coefficients are indicators of the strength of the linear relationship between two different variables, x and y. A linear correlation coefficient that is greater than zero indicates a positive relationship. A value that is less than zero signifies a negative relationship. Negative correlation describes when two variables tend to move in opposite size and direction from one another, such that when one increases the other variable decreases, and vice-versa. Finally, a value of zero indicates no relationship between the two variables x and y.\r\n",
        "![image.png](data:image/png;base64,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)\r\n",
        "\r\n",
        "<font color=blue>We can see the correlation with all variables. The best are:\r\n",
        "\r\n",
        "\r\n",
        "\r\n",
        "<font color=blue>Income --> Limit (0.79), Rating (0.79)\r\n",
        "\r\n",
        "<font color=blue>Limit --> Income (0.79), Rating (1.00), Balance (0.86)\r\n",
        "\r\n",
        "<font color=blue>Rating --> Income (0.79), Limit (1.00), Balance (0.86)\r\n",
        "\r\n",
        "<font color=blue>Balance --> Limit (0.86), Rating (0.86)\r\n",
        "\r\n",
        "\r\n",
        "---\r\n",
        "\r\n",
        "\r\n",
        "\r\n",
        "\r\n",
        "\r\n",
        "\r\n",
        "\r\n",
        "\r\n",
        "\r\n",
        "\r\n",
        "\r\n",
        "\r\n",
        "\r\n"
      ]
    },
    {
      "cell_type": "markdown",
      "metadata": {
        "id": "-9qFPXFFbumz"
      },
      "source": [
        "**<font color=blue> Part A.2** <font color=black>Keep only Income, Limit, Rating, Cards, Age, Education, and Balance as your variables and throw the rest of variables away. Print the dimension of this new dataset."
      ]
    },
    {
      "cell_type": "code",
      "metadata": {
        "colab": {
          "base_uri": "https://localhost:8080/",
          "height": 204
        },
        "id": "pQWTjOOabuC-",
        "outputId": "e60f38f3-498a-4d30-a7bf-df91731184eb"
      },
      "source": [
        "# Drop columns of the table\r\n",
        "df1 = df1.drop(['Gender','Student','Married','Ethnicity'], axis=1)\r\n",
        "df1.head()"
      ],
      "execution_count": 10,
      "outputs": [
        {
          "output_type": "execute_result",
          "data": {
            "text/html": [
              "<div>\n",
              "<style scoped>\n",
              "    .dataframe tbody tr th:only-of-type {\n",
              "        vertical-align: middle;\n",
              "    }\n",
              "\n",
              "    .dataframe tbody tr th {\n",
              "        vertical-align: top;\n",
              "    }\n",
              "\n",
              "    .dataframe thead th {\n",
              "        text-align: right;\n",
              "    }\n",
              "</style>\n",
              "<table border=\"1\" class=\"dataframe\">\n",
              "  <thead>\n",
              "    <tr style=\"text-align: right;\">\n",
              "      <th></th>\n",
              "      <th>Income</th>\n",
              "      <th>Limit</th>\n",
              "      <th>Rating</th>\n",
              "      <th>Cards</th>\n",
              "      <th>Age</th>\n",
              "      <th>Education</th>\n",
              "      <th>Balance</th>\n",
              "    </tr>\n",
              "  </thead>\n",
              "  <tbody>\n",
              "    <tr>\n",
              "      <th>0</th>\n",
              "      <td>14.891</td>\n",
              "      <td>3606</td>\n",
              "      <td>283</td>\n",
              "      <td>2</td>\n",
              "      <td>34</td>\n",
              "      <td>11</td>\n",
              "      <td>333</td>\n",
              "    </tr>\n",
              "    <tr>\n",
              "      <th>1</th>\n",
              "      <td>106.025</td>\n",
              "      <td>6645</td>\n",
              "      <td>483</td>\n",
              "      <td>3</td>\n",
              "      <td>82</td>\n",
              "      <td>15</td>\n",
              "      <td>903</td>\n",
              "    </tr>\n",
              "    <tr>\n",
              "      <th>2</th>\n",
              "      <td>104.593</td>\n",
              "      <td>7075</td>\n",
              "      <td>514</td>\n",
              "      <td>4</td>\n",
              "      <td>71</td>\n",
              "      <td>11</td>\n",
              "      <td>580</td>\n",
              "    </tr>\n",
              "    <tr>\n",
              "      <th>3</th>\n",
              "      <td>148.924</td>\n",
              "      <td>9504</td>\n",
              "      <td>681</td>\n",
              "      <td>3</td>\n",
              "      <td>36</td>\n",
              "      <td>11</td>\n",
              "      <td>964</td>\n",
              "    </tr>\n",
              "    <tr>\n",
              "      <th>4</th>\n",
              "      <td>55.882</td>\n",
              "      <td>4897</td>\n",
              "      <td>357</td>\n",
              "      <td>2</td>\n",
              "      <td>68</td>\n",
              "      <td>16</td>\n",
              "      <td>331</td>\n",
              "    </tr>\n",
              "  </tbody>\n",
              "</table>\n",
              "</div>"
            ],
            "text/plain": [
              "    Income  Limit  Rating  Cards  Age  Education  Balance\n",
              "0   14.891   3606     283      2   34         11      333\n",
              "1  106.025   6645     483      3   82         15      903\n",
              "2  104.593   7075     514      4   71         11      580\n",
              "3  148.924   9504     681      3   36         11      964\n",
              "4   55.882   4897     357      2   68         16      331"
            ]
          },
          "metadata": {
            "tags": []
          },
          "execution_count": 10
        }
      ]
    },
    {
      "cell_type": "code",
      "metadata": {
        "colab": {
          "base_uri": "https://localhost:8080/"
        },
        "id": "fLENQV8UcjUh",
        "outputId": "cf16613f-93b6-45de-e50d-8d10df47e9c4"
      },
      "source": [
        "# Descriptive info about the DataFrame\r\n",
        "# We can see the Range Index = 400 & Data columns =7\r\n",
        "print(df1.info())  "
      ],
      "execution_count": 11,
      "outputs": [
        {
          "output_type": "stream",
          "text": [
            "<class 'pandas.core.frame.DataFrame'>\n",
            "RangeIndex: 400 entries, 0 to 399\n",
            "Data columns (total 7 columns):\n",
            " #   Column     Non-Null Count  Dtype  \n",
            "---  ------     --------------  -----  \n",
            " 0   Income     400 non-null    float64\n",
            " 1   Limit      400 non-null    int64  \n",
            " 2   Rating     400 non-null    int64  \n",
            " 3   Cards      400 non-null    int64  \n",
            " 4   Age        400 non-null    int64  \n",
            " 5   Education  400 non-null    int64  \n",
            " 6   Balance    400 non-null    int64  \n",
            "dtypes: float64(1), int64(6)\n",
            "memory usage: 22.0 KB\n",
            "None\n"
          ],
          "name": "stdout"
        }
      ]
    },
    {
      "cell_type": "code",
      "metadata": {
        "colab": {
          "base_uri": "https://localhost:8080/"
        },
        "id": "4cmBhQKrdLU6",
        "outputId": "5d3aca64-24ab-4ec2-c012-d9db6f147826"
      },
      "source": [
        "# Gives a tuple with the shape of DataFrame\r\n",
        "# 400 rows, 7 columns\r\n",
        "print(df1.shape)   "
      ],
      "execution_count": 12,
      "outputs": [
        {
          "output_type": "stream",
          "text": [
            "(400, 7)\n"
          ],
          "name": "stdout"
        }
      ]
    },
    {
      "cell_type": "markdown",
      "metadata": {
        "id": "5JrdrdE4dV-C"
      },
      "source": [
        "**<font color=blue>Part A.3** <font color=black>Create a binary variable Balance_1500 which equals  1  for the observations with Balance  >1500 , and equals  0  otherwise."
      ]
    },
    {
      "cell_type": "code",
      "metadata": {
        "colab": {
          "base_uri": "https://localhost:8080/"
        },
        "id": "GCaG9Ovne9Kc",
        "outputId": "ebb64a32-8cbf-49ef-de8e-e187b551c333"
      },
      "source": [
        "# Create new column Balance_1500 with binary variable 0 or 1\r\n",
        "df1['Balance_1500'] = np.where(df1['Balance'] > 1500, 1, 0)\r\n",
        "print(df1.sort_values(by=['Balance'], ascending=False))"
      ],
      "execution_count": 13,
      "outputs": [
        {
          "output_type": "stream",
          "text": [
            "      Income  Limit  Rating  Cards  Age  Education  Balance  Balance_1500\n",
            "323  182.728  13913     982      4   98         17     1999             1\n",
            "28   186.634  13414     949      2   41         14     1809             1\n",
            "85   152.298  12066     828      4   41         12     1779             1\n",
            "191  124.290   9560     701      3   52         17     1687             1\n",
            "293  140.672  11200     817      7   46          9     1677             1\n",
            "..       ...    ...     ...    ...  ...        ...      ...           ...\n",
            "233   11.603   2278     187      3   71         11        0             0\n",
            "34    20.150   2646     199      2   25         14        0             0\n",
            "64    32.164   2937     223      2   79         15        0             0\n",
            "241   15.602    906     103      2   36         11        0             0\n",
            "345   30.012   1511     137      2   33         17        0             0\n",
            "\n",
            "[400 rows x 8 columns]\n"
          ],
          "name": "stdout"
        }
      ]
    },
    {
      "cell_type": "markdown",
      "metadata": {
        "id": "oX4i3kqXhOTJ"
      },
      "source": [
        "**<font color=blue>Part A.4** <font color=black>Model Balance_1500 by the explanatory variables Income, Limit, \r\n",
        "Rating, Cards, Age, Education using the following models:\r\n",
        "\r\n",
        "\r\n",
        "1.   logistic regression,\r\n",
        "2.   linear discriminant, and\r\n",
        "3.   quadratic discriminant.\r\n",
        "\r\n"
      ]
    },
    {
      "cell_type": "code",
      "metadata": {
        "id": "xraVq5sGa6D1"
      },
      "source": [
        "# Create vector X (features) and y (response variable)\r\n",
        "X = df1[['Income','Limit','Rating','Cards','Age','Education']]\r\n",
        "y = df1['Balance_1500']"
      ],
      "execution_count": 14,
      "outputs": []
    },
    {
      "cell_type": "code",
      "metadata": {
        "colab": {
          "base_uri": "https://localhost:8080/"
        },
        "id": "WerIjnw1Ey3b",
        "outputId": "5cdcc424-fd11-4312-fbcd-da386871e013"
      },
      "source": [
        "# Logistic Regression\r\n",
        "lr = LogisticRegression(max_iter=1000)    #We need increase the number of iterations. Convergence Warning if I don't use max_iter = 1000\r\n",
        "lr.fit(X, y)\r\n",
        "print(f'\\nThe intercept is: {lr.intercept_}')\r\n",
        "print(f'The coefficients are: {lr.coef_}')"
      ],
      "execution_count": 16,
      "outputs": [
        {
          "output_type": "execute_result",
          "data": {
            "text/plain": [
              "LogisticRegression(C=1.0, class_weight=None, dual=False, fit_intercept=True,\n",
              "                   intercept_scaling=1, l1_ratio=None, max_iter=1000,\n",
              "                   multi_class='auto', n_jobs=None, penalty='l2',\n",
              "                   random_state=None, solver='lbfgs', tol=0.0001, verbose=0,\n",
              "                   warm_start=False)"
            ]
          },
          "metadata": {
            "tags": []
          },
          "execution_count": 16
        },
        {
          "output_type": "stream",
          "text": [
            "\n",
            "The intercept is: [-16.85952933]\n",
            "The coefficients are: [[-0.0839841   0.00176509  0.01392991  0.10481563 -0.02056184 -0.07340342]]\n"
          ],
          "name": "stdout"
        }
      ]
    },
    {
      "cell_type": "code",
      "metadata": {
        "colab": {
          "base_uri": "https://localhost:8080/"
        },
        "id": "Zrgxv8C6Nhvn",
        "outputId": "7188fccb-ef51-4e73-890c-1970212fb74e"
      },
      "source": [
        "# Linear discriminant\r\n",
        "lda = LinearDiscriminantAnalysis()\r\n",
        "lda.fit(X,y)\r\n",
        "print(f'\\nThe intercept is: {lda.intercept_}')\r\n",
        "print(f'The coefficients are: {lda.coef_}')"
      ],
      "execution_count": 17,
      "outputs": [
        {
          "output_type": "execute_result",
          "data": {
            "text/plain": [
              "LinearDiscriminantAnalysis(n_components=None, priors=None, shrinkage=None,\n",
              "                           solver='svd', store_covariance=False, tol=0.0001)"
            ]
          },
          "metadata": {
            "tags": []
          },
          "execution_count": 17
        },
        {
          "output_type": "stream",
          "text": [
            "\n",
            "The intercept is: [-14.25754044]\n",
            "The coefficients are: [[ 2.50503328e-02 -2.46350024e-04  1.90771457e-02  2.92958512e-01\n",
            "  -1.61624107e-02 -1.68504978e-02]]\n"
          ],
          "name": "stdout"
        }
      ]
    },
    {
      "cell_type": "code",
      "metadata": {
        "colab": {
          "base_uri": "https://localhost:8080/"
        },
        "id": "-6yicn15Nz1c",
        "outputId": "17051daf-295b-434c-fadd-08015d5d3500"
      },
      "source": [
        "# Quadratic Discriminant\r\n",
        "# Not contain the coefficients of the linear discriminants. The QDA classifier involves a quadratic, rather than a linear, function of the predictors.\r\n",
        "qda = QuadraticDiscriminantAnalysis()\r\n",
        "qda.fit(X,y)"
      ],
      "execution_count": 18,
      "outputs": [
        {
          "output_type": "execute_result",
          "data": {
            "text/plain": [
              "QuadraticDiscriminantAnalysis(priors=None, reg_param=0.0,\n",
              "                              store_covariance=False, tol=0.0001)"
            ]
          },
          "metadata": {
            "tags": []
          },
          "execution_count": 18
        }
      ]
    },
    {
      "cell_type": "markdown",
      "metadata": {
        "id": "yeHqou_1iAnt"
      },
      "source": [
        "**<font color=blue>Part A. 5** <font color=black>Find the probability of (Balance  >1500 ), for the following values, using all three aforementionned methods:\r\n",
        "![image.png](data:image/png;base64,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)\r\n",
        "\r\n",
        "\r\n",
        "Compare the probabilities and comment."
      ]
    },
    {
      "cell_type": "code",
      "metadata": {
        "id": "9ccP6BNCxh5k"
      },
      "source": [
        "# Create vector with variables of xi\r\n",
        "prob_1 = [63, 8100, 600, 4, 30, 13]\r\n",
        "prob_2 = [186, 13414, 950, 2, 41, 13]"
      ],
      "execution_count": 19,
      "outputs": []
    },
    {
      "cell_type": "code",
      "metadata": {
        "colab": {
          "base_uri": "https://localhost:8080/"
        },
        "id": "0zMR-XAzirph",
        "outputId": "0d68162a-0b5e-4112-bbc1-0ebe8abe83f5"
      },
      "source": [
        "# Logistic Regression\r\n",
        "print(lr.predict_proba([prob_1, prob_2]))"
      ],
      "execution_count": 20,
      "outputs": [
        {
          "output_type": "stream",
          "text": [
            "[[0.65637094 0.34362906]\n",
            " [0.05508825 0.94491175]]\n"
          ],
          "name": "stdout"
        }
      ]
    },
    {
      "cell_type": "code",
      "metadata": {
        "colab": {
          "base_uri": "https://localhost:8080/"
        },
        "id": "Jsida6aYl7FM",
        "outputId": "907a99f9-0153-4715-cc2e-1b2c27b28d94"
      },
      "source": [
        "# Linear Discriminant\r\n",
        "print(lda.predict_proba([prob_1, prob_2]))"
      ],
      "execution_count": 21,
      "outputs": [
        {
          "output_type": "stream",
          "text": [
            "[[0.94050988 0.05949012]\n",
            " [0.00721199 0.99278801]]\n"
          ],
          "name": "stdout"
        }
      ]
    },
    {
      "cell_type": "code",
      "metadata": {
        "colab": {
          "base_uri": "https://localhost:8080/"
        },
        "id": "j5piL4cQmHBC",
        "outputId": "b7bbd802-b56a-484e-ec0f-07905e557d24"
      },
      "source": [
        "# Quadratic Discriminant\r\n",
        "print(qda.predict_proba([prob_1, prob_2]))"
      ],
      "execution_count": 22,
      "outputs": [
        {
          "output_type": "stream",
          "text": [
            "[[9.99999995e-01 4.93626009e-09]\n",
            " [7.83057752e-04 9.99216942e-01]]\n"
          ],
          "name": "stdout"
        }
      ]
    },
    {
      "cell_type": "markdown",
      "metadata": {
        "id": "5qT2pZfAfZiF"
      },
      "source": [
        "\r\n",
        "\r\n",
        "---\r\n",
        "<font color=blue>Assuming your target is (0,1), then the classifier would output a probability matrix of dimension (N,2). The first index refers to the probability that the data belong to class 0, and the second refers to the probability that the data belong to class 1.\r\n",
        "\r\n",
        "\r\n",
        "<font color=blue>In our case, the probability 1 represent the first row and the probability of balance > 1500 is the second column in the matrix.\r\n",
        "\r\n",
        "<font color=blue>Probability x = [63, 8100, 600, 4, 30, 13] and  y (balance) > 1500:\r\n",
        "\r\n",
        "<font color=blue>Logistic Regression: 34.36%\r\n",
        "Linear Discriminant: 5.95%\r\n",
        "Quadratic Discriminant: 0%\r\n",
        "\r\n",
        "<font color=blue>The probability 2 represent the second row and the probability of balance > 1500 is the second column in the matrix.\r\n",
        "\r\n",
        "<font color=blue>Probability x = [186, 13414, 950, 2, 41, 13] and  y (balance) > 1500:\r\n",
        "\r\n",
        "<font color=blue>Logistic Regression: 94.49%\r\n",
        "Linear Discriminant: 99.28%\r\n",
        "Quadratic Discriminant: 99.92%\r\n",
        "\r\n",
        "<font color=blue>We see a non negligeant difference in the probability with the logistic Regression. Linear Discriminant and Quadratic Discriminant ar most near in their result.\r\n",
        "\r\n",
        "---\r\n",
        "\r\n",
        "\r\n",
        "\r\n"
      ]
    },
    {
      "cell_type": "markdown",
      "metadata": {
        "id": "c171HENQm3Oj"
      },
      "source": [
        "**Part A.6** For each method, print the confusion matrix, the accuracy score and the AUC using all observations. Compare these metrics and comment."
      ]
    },
    {
      "cell_type": "code",
      "metadata": {
        "colab": {
          "base_uri": "https://localhost:8080/"
        },
        "id": "L2Yn8dNAnrEQ",
        "outputId": "ac1644c7-8b3c-4885-fb30-66f408fcea52"
      },
      "source": [
        "# Logistic Regression\r\n",
        "\r\n",
        "# Confusion matrix\r\n",
        "y_pred = lr.predict(X)\r\n",
        "conf_matrix_lr = confusion_matrix(y, y_pred)\r\n",
        "conf_matrix_lr\r\n"
      ],
      "execution_count": 23,
      "outputs": [
        {
          "output_type": "execute_result",
          "data": {
            "text/plain": [
              "array([[391,   0],\n",
              "       [  3,   6]])"
            ]
          },
          "metadata": {
            "tags": []
          },
          "execution_count": 23
        }
      ]
    },
    {
      "cell_type": "code",
      "metadata": {
        "colab": {
          "base_uri": "https://localhost:8080/"
        },
        "id": "g6VHt8NkoemX",
        "outputId": "83894bb2-a102-4007-bfda-1ec275b74ce4"
      },
      "source": [
        "# Calculate accuracy.\r\n",
        "np.trace(conf_matrix_lr)/np.sum(conf_matrix_lr)"
      ],
      "execution_count": 24,
      "outputs": [
        {
          "output_type": "execute_result",
          "data": {
            "text/plain": [
              "0.9925"
            ]
          },
          "metadata": {
            "tags": []
          },
          "execution_count": 24
        }
      ]
    },
    {
      "cell_type": "code",
      "metadata": {
        "colab": {
          "base_uri": "https://localhost:8080/"
        },
        "id": "zCnKKgh8rLGy",
        "outputId": "3b59f15f-6f36-4f83-bd78-8fb70e626239"
      },
      "source": [
        "# AUC\r\n",
        "roc_auc_score(y, lr.predict_proba(X)[:, 1])"
      ],
      "execution_count": 25,
      "outputs": [
        {
          "output_type": "execute_result",
          "data": {
            "text/plain": [
              "0.9766979255470304"
            ]
          },
          "metadata": {
            "tags": []
          },
          "execution_count": 25
        }
      ]
    },
    {
      "cell_type": "code",
      "metadata": {
        "colab": {
          "base_uri": "https://localhost:8080/"
        },
        "id": "iu5iGzjan_Zd",
        "outputId": "1a1fda63-e84e-4428-bf5b-b4e4e97516e2"
      },
      "source": [
        "# Linear Discriminant\r\n",
        "\r\n",
        "# Confusion matrix\r\n",
        "y_pred = lda.predict(X)\r\n",
        "conf_matrix_lda = confusion_matrix(y, y_pred)\r\n",
        "conf_matrix_lda"
      ],
      "execution_count": 26,
      "outputs": [
        {
          "output_type": "execute_result",
          "data": {
            "text/plain": [
              "array([[383,   8],\n",
              "       [  4,   5]])"
            ]
          },
          "metadata": {
            "tags": []
          },
          "execution_count": 26
        }
      ]
    },
    {
      "cell_type": "code",
      "metadata": {
        "colab": {
          "base_uri": "https://localhost:8080/"
        },
        "id": "5Xw1-EbAovTb",
        "outputId": "f7b848f5-4252-40bc-a110-a73473cab48b"
      },
      "source": [
        "# Calculate accuracy.\r\n",
        "np.trace(conf_matrix_lda)/np.sum(conf_matrix_lda)"
      ],
      "execution_count": 27,
      "outputs": [
        {
          "output_type": "execute_result",
          "data": {
            "text/plain": [
              "0.97"
            ]
          },
          "metadata": {
            "tags": []
          },
          "execution_count": 27
        }
      ]
    },
    {
      "cell_type": "code",
      "metadata": {
        "colab": {
          "base_uri": "https://localhost:8080/"
        },
        "id": "uUvmzf3xuXEi",
        "outputId": "e7eb2f7d-a28b-4f50-d48a-fe4a239a88ae"
      },
      "source": [
        "# AUC\r\n",
        "roc_auc_score(y, lda.predict_proba(X)[:, 1])"
      ],
      "execution_count": 28,
      "outputs": [
        {
          "output_type": "execute_result",
          "data": {
            "text/plain": [
              "0.9516908212560387"
            ]
          },
          "metadata": {
            "tags": []
          },
          "execution_count": 28
        }
      ]
    },
    {
      "cell_type": "code",
      "metadata": {
        "colab": {
          "base_uri": "https://localhost:8080/"
        },
        "id": "UZij_ybWoJ82",
        "outputId": "566a532c-f03b-4f84-ab01-5df759ab572d"
      },
      "source": [
        "# Quadratic Discriminant\r\n",
        "\r\n",
        "# Confusion matrix\r\n",
        "y_pred = qda.predict(X)\r\n",
        "conf_matrix_qda = confusion_matrix(y, y_pred)\r\n",
        "conf_matrix_qda"
      ],
      "execution_count": 29,
      "outputs": [
        {
          "output_type": "execute_result",
          "data": {
            "text/plain": [
              "array([[390,   1],\n",
              "       [  2,   7]])"
            ]
          },
          "metadata": {
            "tags": []
          },
          "execution_count": 29
        }
      ]
    },
    {
      "cell_type": "code",
      "metadata": {
        "colab": {
          "base_uri": "https://localhost:8080/"
        },
        "id": "YHPWq9dco5Ps",
        "outputId": "8d274bb2-8726-4413-c321-5375e7f3b97a"
      },
      "source": [
        "# Calculate accuracy.\r\n",
        "np.trace(conf_matrix_qda)/np.sum(conf_matrix_qda)"
      ],
      "execution_count": 30,
      "outputs": [
        {
          "output_type": "execute_result",
          "data": {
            "text/plain": [
              "0.9925"
            ]
          },
          "metadata": {
            "tags": []
          },
          "execution_count": 30
        }
      ]
    },
    {
      "cell_type": "code",
      "metadata": {
        "colab": {
          "base_uri": "https://localhost:8080/"
        },
        "id": "vtkpXEzQvs7g",
        "outputId": "35c5820d-22fb-4d3c-88a7-795908537539"
      },
      "source": [
        "# AUC\r\n",
        "roc_auc_score(y, qda.predict_proba(X)[:, 1])"
      ],
      "execution_count": 31,
      "outputs": [
        {
          "output_type": "execute_result",
          "data": {
            "text/plain": [
              "0.9948849104859335"
            ]
          },
          "metadata": {
            "tags": []
          },
          "execution_count": 31
        }
      ]
    },
    {
      "cell_type": "markdown",
      "metadata": {
        "id": "W8VgukPi6_bX"
      },
      "source": [
        "\r\n",
        "\r\n",
        "---\r\n",
        "<font color=blue>**Confusion matrix** are tools taht help summaize or evaluate the performance of classifier, especially bi-classifier.\r\n",
        "![image.png](data:image/png;base64,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)\r\n"
      ]
    },
    {
      "cell_type": "markdown",
      "metadata": {
        "id": "BfPNszil7mM0"
      },
      "source": [
        "<font color=blue>Logistic Regression: False positive = 3 and False Negetive = 0\r\n",
        "\r\n",
        "<font color=blue>Linear Discriminant: False positive = 4 and False Negetive = 8\r\n",
        "\r\n",
        "<font color=blue>Quadratic Discriminant: False positive = 2 and False Negetive = 1\r\n",
        "\r\n",
        "<font color=blue> --> We have more errors with Linear Discriminant if we compare result with Logistic Regression & Quatradric Discriminant. In Logistic Regression we don't have a type I erros (FN) but 1 more type II error (FP) if you compare with the Quadratic Discriminant. In Logistic Regression we have\r\n",
        "\r\n",
        "\r\n",
        "\r\n",
        "\r\n",
        "\r\n",
        "\r\n"
      ]
    },
    {
      "cell_type": "markdown",
      "metadata": {
        "id": "5iDdsfFi80hI"
      },
      "source": [
        "<font color=blue>**Accuracy** is the overall proportion of the objects that have been correctly classified.\r\n",
        "\r\n",
        "<font color=blue>Logistic Regression: 397 / 400 = 99.25%\r\n",
        "\r\n",
        "<font color=blue>Linear Discriminant: 388 / 400 = 97%\r\n",
        "\r\n",
        "<font color=blue>Quadratic Discriminant: 397 / 400 = 99.25%\r\n",
        "\r\n",
        "<font color=blue> -->The accuracy for Logistic Regression and Quadratic Discriminant are the same and better of the Linear Discriminant.\r\n",
        "\r\n"
      ]
    },
    {
      "cell_type": "markdown",
      "metadata": {
        "id": "hZuJMP369vXj"
      },
      "source": [
        "<font color=blue>The Receiver Operating Characteristic (ROC) plot shows both positives rates simultaneously. Sometimes, we use the **AUC**, a shorthand for the area under the curve, to sommarize the overall performance. A higher AUC shows a better model.\r\n",
        "\r\n",
        "<font color=blue>Logistic Regression: 97.67%\r\n",
        "\r\n",
        "<font color=blue>Linear Discriminant: 95.17%\r\n",
        "\r\n",
        "<font color=blue>Quadratic Discriminant: 99.49%\r\n",
        "\r\n",
        "<font color=blue> --> The better AUC is the Quadratic Discriminant.\r\n",
        "\r\n",
        "---\r\n",
        "\r\n"
      ]
    },
    {
      "cell_type": "markdown",
      "metadata": {
        "id": "5KzgIsCdn_ux"
      },
      "source": [
        "## **Part B** <font color=\"blue\">(8 points)</font>\n",
        "\n",
        "Donwload  `ziptrain.csv` and `ziptest.csv` datasets from  **Athena/Content/Data**. Save them and upload them here as **two separate datasets** and name them `ziptrain` and `ziptest`, respectively. Explore the data in order to understand it. \n",
        "\n",
        "  1. **<font color=\"blue\">(1 point)</font>** From `ziptrain` dataset select only the rows corresponding to digits $2$ and $7$ and save them in a new dataset called `binar_train`. Do the same thing in `ziptest` and call it `binar_test`. \n",
        "  2. **<font color=\"blue\">(1 point)</font>** Project `binar_train` onto the first **two principal components** and make a scatterplot of the data in the new space (two-dimensional space spanned by the frist two PCs). Use a different color (or marker) for each digit. Based on the plot do you think that these two digits can be separated well using only two PCs? Explain.\n",
        "  3. **<font color=\"blue\">(1 point)</font>** Fit a **logistic regression**, in the new space, to separate digits $2$ and $7$. \n",
        "  4. **<font color=\"blue\">(1 point)</font>** Evaluate the trainded model on `binar_test` using **accuracy**, and an **appropriate F-measure**. \n",
        "  5. **<font color=\"blue\">(0.5 points)</font>** Build and print a confusion matrix for your predictions.\n",
        "\n",
        "For the rest of the questions use the **whole training data**, i.e., `ziptrain` (**not** `binar_train`). \n",
        "\n",
        "  6. **<font color=\"blue\">(1 point)</font>** Project the whole data onto the first $m=2, 3, 4, 5$ principal components (one $m$ at a time).\n",
        "  7. **<font color=\"blue\">(1.5 points)</font>** For each $m$, and using **$5$-fold cross-validation**, train a **linear discriminant** classifier on `ziptrain`. \n",
        "  8. **<font color=\"blue\">(1 point)</font>** Based on **cross-validated accuracy**, select the best number of principal components $m$.\n"
      ]
    },
    {
      "cell_type": "code",
      "metadata": {
        "colab": {
          "resources": {
            "http://localhost:8080/nbextensions/google.colab/files.js": {
              "data": "Ly8gQ29weXJpZ2h0IDIwMTcgR29vZ2xlIExMQwovLwovLyBMaWNlbnNlZCB1bmRlciB0aGUgQXBhY2hlIExpY2Vuc2UsIFZlcnNpb24gMi4wICh0aGUgIkxpY2Vuc2UiKTsKLy8geW91IG1heSBub3QgdXNlIHRoaXMgZmlsZSBleGNlcHQgaW4gY29tcGxpYW5jZSB3aXRoIHRoZSBMaWNlbnNlLgovLyBZb3UgbWF5IG9idGFpbiBhIGNvcHkgb2YgdGhlIExpY2Vuc2UgYXQKLy8KLy8gICAgICBodHRwOi8vd3d3LmFwYWNoZS5vcmcvbGljZW5zZXMvTElDRU5TRS0yLjAKLy8KLy8gVW5sZXNzIHJlcXVpcmVkIGJ5IGFwcGxpY2FibGUgbGF3IG9yIGFncmVlZCB0byBpbiB3cml0aW5nLCBzb2Z0d2FyZQovLyBkaXN0cmlidXRlZCB1bmRlciB0aGUgTGljZW5zZSBpcyBkaXN0cmlidXRlZCBvbiBhbiAiQVMgSVMiIEJBU0lTLAovLyBXSVRIT1VUIFdBUlJBTlRJRVMgT1IgQ09ORElUSU9OUyBPRiBBTlkgS0lORCwgZWl0aGVyIGV4cHJlc3Mgb3IgaW1wbGllZC4KLy8gU2VlIHRoZSBMaWNlbnNlIGZvciB0aGUgc3BlY2lmaWMgbGFuZ3VhZ2UgZ292ZXJuaW5nIHBlcm1pc3Npb25zIGFuZAovLyBsaW1pdGF0aW9ucyB1bmRlciB0aGUgTGljZW5zZS4KCi8qKgogKiBAZmlsZW92ZXJ2aWV3IEhlbHBlcnMgZm9yIGdvb2dsZS5jb2xhYiBQeXRob24gbW9kdWxlLgogKi8KKGZ1bmN0aW9uKHNjb3BlKSB7CmZ1bmN0aW9uIHNwYW4odGV4dCwgc3R5bGVBdHRyaWJ1dGVzID0ge30pIHsKICBjb25zdCBlbGVtZW50ID0gZG9jdW1lbnQuY3JlYXRlRWxlbWVudCgnc3BhbicpOwogIGVsZW1lbnQudGV4dENvbnRlbnQgPSB0ZXh0OwogIGZvciAoY29uc3Qga2V5IG9mIE9iamVjdC5rZXlzKHN0eWxlQXR0cmlidXRlcykpIHsKICAgIGVsZW1lbnQuc3R5bGVba2V5XSA9IHN0eWxlQXR0cmlidXRlc1trZXldOwogIH0KICByZXR1cm4gZWxlbWVudDsKfQoKLy8gTWF4IG51bWJlciBvZiBieXRlcyB3aGljaCB3aWxsIGJlIHVwbG9hZGVkIGF0IGEgdGltZS4KY29uc3QgTUFYX1BBWUxPQURfU0laRSA9IDEwMCAqIDEwMjQ7CgpmdW5jdGlvbiBfdXBsb2FkRmlsZXMoaW5wdXRJZCwgb3V0cHV0SWQpIHsKICBjb25zdCBzdGVwcyA9IHVwbG9hZEZpbGVzU3RlcChpbnB1dElkLCBvdXRwdXRJZCk7CiAgY29uc3Qgb3V0cHV0RWxlbWVudCA9IGRvY3VtZW50LmdldEVsZW1lbnRCeUlkKG91dHB1dElkKTsKICAvLyBDYWNoZSBzdGVwcyBvbiB0aGUgb3V0cHV0RWxlbWVudCB0byBtYWtlIGl0IGF2YWlsYWJsZSBmb3IgdGhlIG5leHQgY2FsbAogIC8vIHRvIHVwbG9hZEZpbGVzQ29udGludWUgZnJvbSBQeXRob24uCiAgb3V0cHV0RWxlbWVudC5zdGVwcyA9IHN0ZXBzOwoKICByZXR1cm4gX3VwbG9hZEZpbGVzQ29udGludWUob3V0cHV0SWQpOwp9CgovLyBUaGlzIGlzIHJvdWdobHkgYW4gYXN5bmMgZ2VuZXJhdG9yIChub3Qgc3VwcG9ydGVkIGluIHRoZSBicm93c2VyIHlldCksCi8vIHdoZXJlIHRoZXJlIGFyZSBtdWx0aXBsZSBhc3luY2hyb25vdXMgc3RlcHMgYW5kIHRoZSBQeXRob24gc2lkZSBpcyBnb2luZwovLyB0byBwb2xsIGZvciBjb21wbGV0aW9uIG9mIGVhY2ggc3RlcC4KLy8gVGhpcyB1c2VzIGEgUHJvbWlzZSB0byBibG9jayB0aGUgcHl0aG9uIHNpZGUgb24gY29tcGxldGlvbiBvZiBlYWNoIHN0ZXAsCi8vIHRoZW4gcGFzc2VzIHRoZSByZXN1bHQgb2YgdGhlIHByZXZpb3VzIHN0ZXAgYXMgdGhlIGlucHV0IHRvIHRoZSBuZXh0IHN0ZXAuCmZ1bmN0aW9uIF91cGxvYWRGaWxlc0NvbnRpbnVlKG91dHB1dElkKSB7CiAgY29uc3Qgb3V0cHV0RWxlbWVudCA9IGRvY3VtZW50LmdldEVsZW1lbnRCeUlkKG91dHB1dElkKTsKICBjb25zdCBzdGVwcyA9IG91dHB1dEVsZW1lbnQuc3RlcHM7CgogIGNvbnN0IG5leHQgPSBzdGVwcy5uZXh0KG91dHB1dEVsZW1lbnQubGFzdFByb21pc2VWYWx1ZSk7CiAgcmV0dXJuIFByb21pc2UucmVzb2x2ZShuZXh0LnZhbHVlLnByb21pc2UpLnRoZW4oKHZhbHVlKSA9PiB7CiAgICAvLyBDYWNoZSB0aGUgbGFzdCBwcm9taXNlIHZhbHVlIHRvIG1ha2UgaXQgYXZhaWxhYmxlIHRvIHRoZSBuZXh0CiAgICAvLyBzdGVwIG9mIHRoZSBnZW5lcmF0b3IuCiAgICBvdXRwdXRFbGVtZW50Lmxhc3RQcm9taXNlVmFsdWUgPSB2YWx1ZTsKICAgIHJldHVybiBuZXh0LnZhbHVlLnJlc3BvbnNlOwogIH0pOwp9CgovKioKICogR2VuZXJhdG9yIGZ1bmN0aW9uIHdoaWNoIGlzIGNhbGxlZCBiZXR3ZWVuIGVhY2ggYXN5bmMgc3RlcCBvZiB0aGUgdXBsb2FkCiAqIHByb2Nlc3MuCiAqIEBwYXJhbSB7c3RyaW5nfSBpbnB1dElkIEVsZW1lbnQgSUQgb2YgdGhlIGlucHV0IGZpbGUgcGlja2VyIGVsZW1lbnQuCiAqIEBwYXJhbSB7c3RyaW5nfSBvdXRwdXRJZCBFbGVtZW50IElEIG9mIHRoZSBvdXRwdXQgZGlzcGxheS4KICogQHJldHVybiB7IUl0ZXJhYmxlPCFPYmplY3Q+fSBJdGVyYWJsZSBvZiBuZXh0IHN0ZXBzLgogKi8KZnVuY3Rpb24qIHVwbG9hZEZpbGVzU3RlcChpbnB1dElkLCBvdXRwdXRJZCkgewogIGNvbnN0IGlucHV0RWxlbWVudCA9IGRvY3VtZW50LmdldEVsZW1lbnRCeUlkKGlucHV0SWQpOwogIGlucHV0RWxlbWVudC5kaXNhYmxlZCA9IGZhbHNlOwoKICBjb25zdCBvdXRwdXRFbGVtZW50ID0gZG9jdW1lbnQuZ2V0RWxlbWVudEJ5SWQob3V0cHV0SWQpOwogIG91dHB1dEVsZW1lbnQuaW5uZXJIVE1MID0gJyc7CgogIGNvbnN0IHBpY2tlZFByb21pc2UgPSBuZXcgUHJvbWlzZSgocmVzb2x2ZSkgPT4gewogICAgaW5wdXRFbGVtZW50LmFkZEV2ZW50TGlzdGVuZXIoJ2NoYW5nZScsIChlKSA9PiB7CiAgICAgIHJlc29sdmUoZS50YXJnZXQuZmlsZXMpOwogICAgfSk7CiAgfSk7CgogIGNvbnN0IGNhbmNlbCA9IGRvY3VtZW50LmNyZWF0ZUVsZW1lbnQoJ2J1dHRvbicpOwogIGlucHV0RWxlbWVudC5wYXJlbnRFbGVtZW50LmFwcGVuZENoaWxkKGNhbmNlbCk7CiAgY2FuY2VsLnRleHRDb250ZW50ID0gJ0NhbmNlbCB1cGxvYWQnOwogIGNvbnN0IGNhbmNlbFByb21pc2UgPSBuZXcgUHJvbWlzZSgocmVzb2x2ZSkgPT4gewogICAgY2FuY2VsLm9uY2xpY2sgPSAoKSA9PiB7CiAgICAgIHJlc29sdmUobnVsbCk7CiAgICB9OwogIH0pOwoKICAvLyBXYWl0IGZvciB0aGUgdXNlciB0byBwaWNrIHRoZSBmaWxlcy4KICBjb25zdCBmaWxlcyA9IHlpZWxkIHsKICAgIHByb21pc2U6IFByb21pc2UucmFjZShbcGlja2VkUHJvbWlzZSwgY2FuY2VsUHJvbWlzZV0pLAogICAgcmVzcG9uc2U6IHsKICAgICAgYWN0aW9uOiAnc3RhcnRpbmcnLAogICAgfQogIH07CgogIGNhbmNlbC5yZW1vdmUoKTsKCiAgLy8gRGlzYWJsZSB0aGUgaW5wdXQgZWxlbWVudCBzaW5jZSBmdXJ0aGVyIHBpY2tzIGFyZSBub3QgYWxsb3dlZC4KICBpbnB1dEVsZW1lbnQuZGlzYWJsZWQgPSB0cnVlOwoKICBpZiAoIWZpbGVzKSB7CiAgICByZXR1cm4gewogICAgICByZXNwb25zZTogewogICAgICAgIGFjdGlvbjogJ2NvbXBsZXRlJywKICAgICAgfQogICAgfTsKICB9CgogIGZvciAoY29uc3QgZmlsZSBvZiBmaWxlcykgewogICAgY29uc3QgbGkgPSBkb2N1bWVudC5jcmVhdGVFbGVtZW50KCdsaScpOwogICAgbGkuYXBwZW5kKHNwYW4oZmlsZS5uYW1lLCB7Zm9udFdlaWdodDogJ2JvbGQnfSkpOwogICAgbGkuYXBwZW5kKHNwYW4oCiAgICAgICAgYCgke2ZpbGUudHlwZSB8fCAnbi9hJ30pIC0gJHtmaWxlLnNpemV9IGJ5dGVzLCBgICsKICAgICAgICBgbGFzdCBtb2RpZmllZDogJHsKICAgICAgICAgICAgZmlsZS5sYXN0TW9kaWZpZWREYXRlID8gZmlsZS5sYXN0TW9kaWZpZWREYXRlLnRvTG9jYWxlRGF0ZVN0cmluZygpIDoKICAgICAgICAgICAgICAgICAgICAgICAgICAgICAgICAgICAgJ24vYSd9IC0gYCkpOwogICAgY29uc3QgcGVyY2VudCA9IHNwYW4oJzAlIGRvbmUnKTsKICAgIGxpLmFwcGVuZENoaWxkKHBlcmNlbnQpOwoKICAgIG91dHB1dEVsZW1lbnQuYXBwZW5kQ2hpbGQobGkpOwoKICAgIGNvbnN0IGZpbGVEYXRhUHJvbWlzZSA9IG5ldyBQcm9taXNlKChyZXNvbHZlKSA9PiB7CiAgICAgIGNvbnN0IHJlYWRlciA9IG5ldyBGaWxlUmVhZGVyKCk7CiAgICAgIHJlYWRlci5vbmxvYWQgPSAoZSkgPT4gewogICAgICAgIHJlc29sdmUoZS50YXJnZXQucmVzdWx0KTsKICAgICAgfTsKICAgICAgcmVhZGVyLnJlYWRBc0FycmF5QnVmZmVyKGZpbGUpOwogICAgfSk7CiAgICAvLyBXYWl0IGZvciB0aGUgZGF0YSB0byBiZSByZWFkeS4KICAgIGxldCBmaWxlRGF0YSA9IHlpZWxkIHsKICAgICAgcHJvbWlzZTogZmlsZURhdGFQcm9taXNlLAogICAgICByZXNwb25zZTogewogICAgICAgIGFjdGlvbjogJ2NvbnRpbnVlJywKICAgICAgfQogICAgfTsKCiAgICAvLyBVc2UgYSBjaHVua2VkIHNlbmRpbmcgdG8gYXZvaWQgbWVzc2FnZSBzaXplIGxpbWl0cy4gU2VlIGIvNjIxMTU2NjAuCiAgICBsZXQgcG9zaXRpb24gPSAwOwogICAgd2hpbGUgKHBvc2l0aW9uIDwgZmlsZURhdGEuYnl0ZUxlbmd0aCkgewogICAgICBjb25zdCBsZW5ndGggPSBNYXRoLm1pbihmaWxlRGF0YS5ieXRlTGVuZ3RoIC0gcG9zaXRpb24sIE1BWF9QQVlMT0FEX1NJWkUpOwogICAgICBjb25zdCBjaHVuayA9IG5ldyBVaW50OEFycmF5KGZpbGVEYXRhLCBwb3NpdGlvbiwgbGVuZ3RoKTsKICAgICAgcG9zaXRpb24gKz0gbGVuZ3RoOwoKICAgICAgY29uc3QgYmFzZTY0ID0gYnRvYShTdHJpbmcuZnJvbUNoYXJDb2RlLmFwcGx5KG51bGwsIGNodW5rKSk7CiAgICAgIHlpZWxkIHsKICAgICAgICByZXNwb25zZTogewogICAgICAgICAgYWN0aW9uOiAnYXBwZW5kJywKICAgICAgICAgIGZpbGU6IGZpbGUubmFtZSwKICAgICAgICAgIGRhdGE6IGJhc2U2NCwKICAgICAgICB9LAogICAgICB9OwogICAgICBwZXJjZW50LnRleHRDb250ZW50ID0KICAgICAgICAgIGAke01hdGgucm91bmQoKHBvc2l0aW9uIC8gZmlsZURhdGEuYnl0ZUxlbmd0aCkgKiAxMDApfSUgZG9uZWA7CiAgICB9CiAgfQoKICAvLyBBbGwgZG9uZS4KICB5aWVsZCB7CiAgICByZXNwb25zZTogewogICAgICBhY3Rpb246ICdjb21wbGV0ZScsCiAgICB9CiAgfTsKfQoKc2NvcGUuZ29vZ2xlID0gc2NvcGUuZ29vZ2xlIHx8IHt9OwpzY29wZS5nb29nbGUuY29sYWIgPSBzY29wZS5nb29nbGUuY29sYWIgfHwge307CnNjb3BlLmdvb2dsZS5jb2xhYi5fZmlsZXMgPSB7CiAgX3VwbG9hZEZpbGVzLAogIF91cGxvYWRGaWxlc0NvbnRpbnVlLAp9Owp9KShzZWxmKTsK",
              "ok": true,
              "headers": [
                [
                  "content-type",
                  "application/javascript"
                ]
              ],
              "status": 200,
              "status_text": "OK"
            }
          },
          "base_uri": "https://localhost:8080/",
          "height": 72
        },
        "id": "IUdQRy3AwFJC",
        "outputId": "8fe3a1e3-b709-4be8-ea50-dfaff5ab4469"
      },
      "source": [
        "# Upload the file in Google Colab\r\n",
        "from google.colab import files\r\n",
        "uploaded = files.upload()"
      ],
      "execution_count": 32,
      "outputs": [
        {
          "output_type": "display_data",
          "data": {
            "text/html": [
              "\n",
              "     <input type=\"file\" id=\"files-c8fd68e1-b790-44c1-9b9c-95ad1778501f\" name=\"files[]\" multiple disabled\n",
              "        style=\"border:none\" />\n",
              "     <output id=\"result-c8fd68e1-b790-44c1-9b9c-95ad1778501f\">\n",
              "      Upload widget is only available when the cell has been executed in the\n",
              "      current browser session. Please rerun this cell to enable.\n",
              "      </output>\n",
              "      <script src=\"/nbextensions/google.colab/files.js\"></script> "
            ],
            "text/plain": [
              "<IPython.core.display.HTML object>"
            ]
          },
          "metadata": {
            "tags": []
          }
        },
        {
          "output_type": "stream",
          "text": [
            "Saving ziptrain.csv to ziptrain.csv\n"
          ],
          "name": "stdout"
        }
      ]
    },
    {
      "cell_type": "code",
      "metadata": {
        "colab": {
          "base_uri": "https://localhost:8080/",
          "height": 253
        },
        "id": "BwOfccmywMCm",
        "outputId": "b8be7c51-bf38-4ac0-8536-889b5368ca32"
      },
      "source": [
        "# Read the cvs file and put in variable ziptrain, add header and delimiter\r\n",
        "ziptrain = pd.read_csv('ziptrain.csv', header=None, delimiter=' ')\r\n",
        "\r\n",
        "# Check the table ziptrain, we see NaN column at 257\r\n",
        "ziptrain.head()"
      ],
      "execution_count": 33,
      "outputs": [
        {
          "output_type": "execute_result",
          "data": {
            "text/html": [
              "<div>\n",
              "<style scoped>\n",
              "    .dataframe tbody tr th:only-of-type {\n",
              "        vertical-align: middle;\n",
              "    }\n",
              "\n",
              "    .dataframe tbody tr th {\n",
              "        vertical-align: top;\n",
              "    }\n",
              "\n",
              "    .dataframe thead th {\n",
              "        text-align: right;\n",
              "    }\n",
              "</style>\n",
              "<table border=\"1\" class=\"dataframe\">\n",
              "  <thead>\n",
              "    <tr style=\"text-align: right;\">\n",
              "      <th></th>\n",
              "      <th>0</th>\n",
              "      <th>1</th>\n",
              "      <th>2</th>\n",
              "      <th>3</th>\n",
              "      <th>4</th>\n",
              "      <th>5</th>\n",
              "      <th>6</th>\n",
              "      <th>7</th>\n",
              "      <th>8</th>\n",
              "      <th>9</th>\n",
              "      <th>10</th>\n",
              "      <th>11</th>\n",
              "      <th>12</th>\n",
              "      <th>13</th>\n",
              "      <th>14</th>\n",
              "      <th>15</th>\n",
              "      <th>16</th>\n",
              "      <th>17</th>\n",
              "      <th>18</th>\n",
              "      <th>19</th>\n",
              "      <th>20</th>\n",
              "      <th>21</th>\n",
              "      <th>22</th>\n",
              "      <th>23</th>\n",
              "      <th>24</th>\n",
              "      <th>25</th>\n",
              "      <th>26</th>\n",
              "      <th>27</th>\n",
              "      <th>28</th>\n",
              "      <th>29</th>\n",
              "      <th>30</th>\n",
              "      <th>31</th>\n",
              "      <th>32</th>\n",
              "      <th>33</th>\n",
              "      <th>34</th>\n",
              "      <th>35</th>\n",
              "      <th>36</th>\n",
              "      <th>37</th>\n",
              "      <th>38</th>\n",
              "      <th>39</th>\n",
              "      <th>...</th>\n",
              "      <th>218</th>\n",
              "      <th>219</th>\n",
              "      <th>220</th>\n",
              "      <th>221</th>\n",
              "      <th>222</th>\n",
              "      <th>223</th>\n",
              "      <th>224</th>\n",
              "      <th>225</th>\n",
              "      <th>226</th>\n",
              "      <th>227</th>\n",
              "      <th>228</th>\n",
              "      <th>229</th>\n",
              "      <th>230</th>\n",
              "      <th>231</th>\n",
              "      <th>232</th>\n",
              "      <th>233</th>\n",
              "      <th>234</th>\n",
              "      <th>235</th>\n",
              "      <th>236</th>\n",
              "      <th>237</th>\n",
              "      <th>238</th>\n",
              "      <th>239</th>\n",
              "      <th>240</th>\n",
              "      <th>241</th>\n",
              "      <th>242</th>\n",
              "      <th>243</th>\n",
              "      <th>244</th>\n",
              "      <th>245</th>\n",
              "      <th>246</th>\n",
              "      <th>247</th>\n",
              "      <th>248</th>\n",
              "      <th>249</th>\n",
              "      <th>250</th>\n",
              "      <th>251</th>\n",
              "      <th>252</th>\n",
              "      <th>253</th>\n",
              "      <th>254</th>\n",
              "      <th>255</th>\n",
              "      <th>256</th>\n",
              "      <th>257</th>\n",
              "    </tr>\n",
              "  </thead>\n",
              "  <tbody>\n",
              "    <tr>\n",
              "      <th>0</th>\n",
              "      <td>6.0</td>\n",
              "      <td>-1.0</td>\n",
              "      <td>-1.0</td>\n",
              "      <td>-1.0</td>\n",
              "      <td>-1.000</td>\n",
              "      <td>-1.000</td>\n",
              "      <td>-1.000</td>\n",
              "      <td>-1.000</td>\n",
              "      <td>-0.631</td>\n",
              "      <td>0.862</td>\n",
              "      <td>-0.167</td>\n",
              "      <td>-1.000</td>\n",
              "      <td>-1.000</td>\n",
              "      <td>-1.000</td>\n",
              "      <td>-1.000</td>\n",
              "      <td>-1.000</td>\n",
              "      <td>-1.0</td>\n",
              "      <td>-1.0</td>\n",
              "      <td>-1.0</td>\n",
              "      <td>-1.0</td>\n",
              "      <td>-1.000</td>\n",
              "      <td>-1.000</td>\n",
              "      <td>-1.000</td>\n",
              "      <td>-0.992</td>\n",
              "      <td>0.297</td>\n",
              "      <td>1.000</td>\n",
              "      <td>0.307</td>\n",
              "      <td>-1.000</td>\n",
              "      <td>-1.000</td>\n",
              "      <td>-1.000</td>\n",
              "      <td>-1.000</td>\n",
              "      <td>-1.000</td>\n",
              "      <td>-1.0</td>\n",
              "      <td>-1.0</td>\n",
              "      <td>-1.0</td>\n",
              "      <td>-1.0</td>\n",
              "      <td>-1.000</td>\n",
              "      <td>-1.000</td>\n",
              "      <td>-1.000</td>\n",
              "      <td>-0.410</td>\n",
              "      <td>...</td>\n",
              "      <td>1.000</td>\n",
              "      <td>1.000</td>\n",
              "      <td>1.000</td>\n",
              "      <td>0.135</td>\n",
              "      <td>-1.0</td>\n",
              "      <td>-1.000</td>\n",
              "      <td>-1.000</td>\n",
              "      <td>-1.0</td>\n",
              "      <td>-1.000</td>\n",
              "      <td>-1.000</td>\n",
              "      <td>-0.483</td>\n",
              "      <td>0.813</td>\n",
              "      <td>1.0</td>\n",
              "      <td>1.000</td>\n",
              "      <td>1.0</td>\n",
              "      <td>1.000</td>\n",
              "      <td>1.000</td>\n",
              "      <td>1.0</td>\n",
              "      <td>0.219</td>\n",
              "      <td>-0.943</td>\n",
              "      <td>-1.000</td>\n",
              "      <td>-1.000</td>\n",
              "      <td>-1.00</td>\n",
              "      <td>-1.0</td>\n",
              "      <td>-1.0</td>\n",
              "      <td>-1.0</td>\n",
              "      <td>-1.000</td>\n",
              "      <td>-0.974</td>\n",
              "      <td>-0.429</td>\n",
              "      <td>0.304</td>\n",
              "      <td>0.823</td>\n",
              "      <td>1.000</td>\n",
              "      <td>0.482</td>\n",
              "      <td>-0.474</td>\n",
              "      <td>-0.991</td>\n",
              "      <td>-1.000</td>\n",
              "      <td>-1.000</td>\n",
              "      <td>-1.000</td>\n",
              "      <td>-1.0</td>\n",
              "      <td>NaN</td>\n",
              "    </tr>\n",
              "    <tr>\n",
              "      <th>1</th>\n",
              "      <td>5.0</td>\n",
              "      <td>-1.0</td>\n",
              "      <td>-1.0</td>\n",
              "      <td>-1.0</td>\n",
              "      <td>-0.813</td>\n",
              "      <td>-0.671</td>\n",
              "      <td>-0.809</td>\n",
              "      <td>-0.887</td>\n",
              "      <td>-0.671</td>\n",
              "      <td>-0.853</td>\n",
              "      <td>-1.000</td>\n",
              "      <td>-1.000</td>\n",
              "      <td>-0.774</td>\n",
              "      <td>-0.180</td>\n",
              "      <td>0.052</td>\n",
              "      <td>-0.241</td>\n",
              "      <td>-1.0</td>\n",
              "      <td>-1.0</td>\n",
              "      <td>-1.0</td>\n",
              "      <td>-1.0</td>\n",
              "      <td>0.392</td>\n",
              "      <td>1.000</td>\n",
              "      <td>0.857</td>\n",
              "      <td>0.727</td>\n",
              "      <td>1.000</td>\n",
              "      <td>0.805</td>\n",
              "      <td>0.613</td>\n",
              "      <td>0.613</td>\n",
              "      <td>0.860</td>\n",
              "      <td>1.000</td>\n",
              "      <td>1.000</td>\n",
              "      <td>0.396</td>\n",
              "      <td>-1.0</td>\n",
              "      <td>-1.0</td>\n",
              "      <td>-1.0</td>\n",
              "      <td>-1.0</td>\n",
              "      <td>-0.548</td>\n",
              "      <td>1.000</td>\n",
              "      <td>1.000</td>\n",
              "      <td>1.000</td>\n",
              "      <td>...</td>\n",
              "      <td>0.970</td>\n",
              "      <td>0.970</td>\n",
              "      <td>0.998</td>\n",
              "      <td>1.000</td>\n",
              "      <td>1.0</td>\n",
              "      <td>1.000</td>\n",
              "      <td>0.109</td>\n",
              "      <td>-1.0</td>\n",
              "      <td>-1.000</td>\n",
              "      <td>-0.830</td>\n",
              "      <td>-0.242</td>\n",
              "      <td>0.350</td>\n",
              "      <td>0.8</td>\n",
              "      <td>1.000</td>\n",
              "      <td>1.0</td>\n",
              "      <td>1.000</td>\n",
              "      <td>1.000</td>\n",
              "      <td>1.0</td>\n",
              "      <td>1.000</td>\n",
              "      <td>1.000</td>\n",
              "      <td>1.000</td>\n",
              "      <td>0.616</td>\n",
              "      <td>-0.93</td>\n",
              "      <td>-1.0</td>\n",
              "      <td>-1.0</td>\n",
              "      <td>-1.0</td>\n",
              "      <td>-1.000</td>\n",
              "      <td>-1.000</td>\n",
              "      <td>-0.858</td>\n",
              "      <td>-0.671</td>\n",
              "      <td>-0.671</td>\n",
              "      <td>-0.033</td>\n",
              "      <td>0.761</td>\n",
              "      <td>0.762</td>\n",
              "      <td>0.126</td>\n",
              "      <td>-0.095</td>\n",
              "      <td>-0.671</td>\n",
              "      <td>-0.828</td>\n",
              "      <td>-1.0</td>\n",
              "      <td>NaN</td>\n",
              "    </tr>\n",
              "    <tr>\n",
              "      <th>2</th>\n",
              "      <td>4.0</td>\n",
              "      <td>-1.0</td>\n",
              "      <td>-1.0</td>\n",
              "      <td>-1.0</td>\n",
              "      <td>-1.000</td>\n",
              "      <td>-1.000</td>\n",
              "      <td>-1.000</td>\n",
              "      <td>-1.000</td>\n",
              "      <td>-1.000</td>\n",
              "      <td>-1.000</td>\n",
              "      <td>-0.996</td>\n",
              "      <td>0.147</td>\n",
              "      <td>1.000</td>\n",
              "      <td>-0.189</td>\n",
              "      <td>-1.000</td>\n",
              "      <td>-1.000</td>\n",
              "      <td>-1.0</td>\n",
              "      <td>-1.0</td>\n",
              "      <td>-1.0</td>\n",
              "      <td>-1.0</td>\n",
              "      <td>-1.000</td>\n",
              "      <td>-1.000</td>\n",
              "      <td>-1.000</td>\n",
              "      <td>-1.000</td>\n",
              "      <td>-1.000</td>\n",
              "      <td>-1.000</td>\n",
              "      <td>-0.882</td>\n",
              "      <td>1.000</td>\n",
              "      <td>0.390</td>\n",
              "      <td>-0.811</td>\n",
              "      <td>-1.000</td>\n",
              "      <td>-1.000</td>\n",
              "      <td>-1.0</td>\n",
              "      <td>-1.0</td>\n",
              "      <td>-1.0</td>\n",
              "      <td>-1.0</td>\n",
              "      <td>-1.000</td>\n",
              "      <td>-1.000</td>\n",
              "      <td>-1.000</td>\n",
              "      <td>-1.000</td>\n",
              "      <td>...</td>\n",
              "      <td>-0.426</td>\n",
              "      <td>1.000</td>\n",
              "      <td>0.555</td>\n",
              "      <td>-1.000</td>\n",
              "      <td>-1.0</td>\n",
              "      <td>-1.000</td>\n",
              "      <td>-1.000</td>\n",
              "      <td>-1.0</td>\n",
              "      <td>-1.000</td>\n",
              "      <td>-1.000</td>\n",
              "      <td>-1.000</td>\n",
              "      <td>-1.000</td>\n",
              "      <td>-1.0</td>\n",
              "      <td>-1.000</td>\n",
              "      <td>-1.0</td>\n",
              "      <td>-1.000</td>\n",
              "      <td>0.024</td>\n",
              "      <td>1.0</td>\n",
              "      <td>0.388</td>\n",
              "      <td>-1.000</td>\n",
              "      <td>-1.000</td>\n",
              "      <td>-1.000</td>\n",
              "      <td>-1.00</td>\n",
              "      <td>-1.0</td>\n",
              "      <td>-1.0</td>\n",
              "      <td>-1.0</td>\n",
              "      <td>-1.000</td>\n",
              "      <td>-1.000</td>\n",
              "      <td>-1.000</td>\n",
              "      <td>-1.000</td>\n",
              "      <td>-1.000</td>\n",
              "      <td>-1.000</td>\n",
              "      <td>-0.109</td>\n",
              "      <td>1.000</td>\n",
              "      <td>-0.179</td>\n",
              "      <td>-1.000</td>\n",
              "      <td>-1.000</td>\n",
              "      <td>-1.000</td>\n",
              "      <td>-1.0</td>\n",
              "      <td>NaN</td>\n",
              "    </tr>\n",
              "    <tr>\n",
              "      <th>3</th>\n",
              "      <td>7.0</td>\n",
              "      <td>-1.0</td>\n",
              "      <td>-1.0</td>\n",
              "      <td>-1.0</td>\n",
              "      <td>-1.000</td>\n",
              "      <td>-1.000</td>\n",
              "      <td>-0.273</td>\n",
              "      <td>0.684</td>\n",
              "      <td>0.960</td>\n",
              "      <td>0.450</td>\n",
              "      <td>-0.067</td>\n",
              "      <td>-0.679</td>\n",
              "      <td>-1.000</td>\n",
              "      <td>-1.000</td>\n",
              "      <td>-1.000</td>\n",
              "      <td>-1.000</td>\n",
              "      <td>-1.0</td>\n",
              "      <td>-1.0</td>\n",
              "      <td>-1.0</td>\n",
              "      <td>-1.0</td>\n",
              "      <td>-1.000</td>\n",
              "      <td>-0.114</td>\n",
              "      <td>0.974</td>\n",
              "      <td>0.917</td>\n",
              "      <td>0.734</td>\n",
              "      <td>0.994</td>\n",
              "      <td>1.000</td>\n",
              "      <td>0.973</td>\n",
              "      <td>0.391</td>\n",
              "      <td>-0.421</td>\n",
              "      <td>-0.976</td>\n",
              "      <td>-1.000</td>\n",
              "      <td>-1.0</td>\n",
              "      <td>-1.0</td>\n",
              "      <td>-1.0</td>\n",
              "      <td>-1.0</td>\n",
              "      <td>-0.323</td>\n",
              "      <td>0.991</td>\n",
              "      <td>0.622</td>\n",
              "      <td>-0.738</td>\n",
              "      <td>...</td>\n",
              "      <td>-1.000</td>\n",
              "      <td>-1.000</td>\n",
              "      <td>-1.000</td>\n",
              "      <td>-1.000</td>\n",
              "      <td>-1.0</td>\n",
              "      <td>-1.000</td>\n",
              "      <td>-1.000</td>\n",
              "      <td>-1.0</td>\n",
              "      <td>-1.000</td>\n",
              "      <td>-1.000</td>\n",
              "      <td>-1.000</td>\n",
              "      <td>-1.000</td>\n",
              "      <td>-1.0</td>\n",
              "      <td>-0.348</td>\n",
              "      <td>1.0</td>\n",
              "      <td>0.798</td>\n",
              "      <td>-0.935</td>\n",
              "      <td>-1.0</td>\n",
              "      <td>-1.000</td>\n",
              "      <td>-1.000</td>\n",
              "      <td>-1.000</td>\n",
              "      <td>-1.000</td>\n",
              "      <td>-1.00</td>\n",
              "      <td>-1.0</td>\n",
              "      <td>-1.0</td>\n",
              "      <td>-1.0</td>\n",
              "      <td>-1.000</td>\n",
              "      <td>-1.000</td>\n",
              "      <td>-1.000</td>\n",
              "      <td>-0.318</td>\n",
              "      <td>1.000</td>\n",
              "      <td>0.536</td>\n",
              "      <td>-0.987</td>\n",
              "      <td>-1.000</td>\n",
              "      <td>-1.000</td>\n",
              "      <td>-1.000</td>\n",
              "      <td>-1.000</td>\n",
              "      <td>-1.000</td>\n",
              "      <td>-1.0</td>\n",
              "      <td>NaN</td>\n",
              "    </tr>\n",
              "    <tr>\n",
              "      <th>4</th>\n",
              "      <td>3.0</td>\n",
              "      <td>-1.0</td>\n",
              "      <td>-1.0</td>\n",
              "      <td>-1.0</td>\n",
              "      <td>-1.000</td>\n",
              "      <td>-1.000</td>\n",
              "      <td>-0.928</td>\n",
              "      <td>-0.204</td>\n",
              "      <td>0.751</td>\n",
              "      <td>0.466</td>\n",
              "      <td>0.234</td>\n",
              "      <td>-0.809</td>\n",
              "      <td>-1.000</td>\n",
              "      <td>-1.000</td>\n",
              "      <td>-1.000</td>\n",
              "      <td>-1.000</td>\n",
              "      <td>-1.0</td>\n",
              "      <td>-1.0</td>\n",
              "      <td>-1.0</td>\n",
              "      <td>-1.0</td>\n",
              "      <td>-1.000</td>\n",
              "      <td>-0.370</td>\n",
              "      <td>0.739</td>\n",
              "      <td>1.000</td>\n",
              "      <td>1.000</td>\n",
              "      <td>1.000</td>\n",
              "      <td>1.000</td>\n",
              "      <td>0.644</td>\n",
              "      <td>-0.890</td>\n",
              "      <td>-1.000</td>\n",
              "      <td>-1.000</td>\n",
              "      <td>-1.000</td>\n",
              "      <td>-1.0</td>\n",
              "      <td>-1.0</td>\n",
              "      <td>-1.0</td>\n",
              "      <td>-1.0</td>\n",
              "      <td>-1.000</td>\n",
              "      <td>0.616</td>\n",
              "      <td>1.000</td>\n",
              "      <td>0.688</td>\n",
              "      <td>...</td>\n",
              "      <td>-0.733</td>\n",
              "      <td>-0.733</td>\n",
              "      <td>-0.433</td>\n",
              "      <td>0.649</td>\n",
              "      <td>1.0</td>\n",
              "      <td>0.093</td>\n",
              "      <td>-1.000</td>\n",
              "      <td>-1.0</td>\n",
              "      <td>-0.959</td>\n",
              "      <td>-0.062</td>\n",
              "      <td>0.821</td>\n",
              "      <td>1.000</td>\n",
              "      <td>1.0</td>\n",
              "      <td>1.000</td>\n",
              "      <td>1.0</td>\n",
              "      <td>1.000</td>\n",
              "      <td>1.000</td>\n",
              "      <td>1.0</td>\n",
              "      <td>1.000</td>\n",
              "      <td>1.000</td>\n",
              "      <td>0.583</td>\n",
              "      <td>-0.843</td>\n",
              "      <td>-1.00</td>\n",
              "      <td>-1.0</td>\n",
              "      <td>-1.0</td>\n",
              "      <td>-1.0</td>\n",
              "      <td>-0.877</td>\n",
              "      <td>-0.326</td>\n",
              "      <td>0.174</td>\n",
              "      <td>0.466</td>\n",
              "      <td>0.639</td>\n",
              "      <td>1.000</td>\n",
              "      <td>1.000</td>\n",
              "      <td>0.791</td>\n",
              "      <td>0.439</td>\n",
              "      <td>-0.199</td>\n",
              "      <td>-0.883</td>\n",
              "      <td>-1.000</td>\n",
              "      <td>-1.0</td>\n",
              "      <td>NaN</td>\n",
              "    </tr>\n",
              "  </tbody>\n",
              "</table>\n",
              "<p>5 rows × 258 columns</p>\n",
              "</div>"
            ],
            "text/plain": [
              "   0    1    2    3      4      5    ...    252    253    254    255  256  257\n",
              "0  6.0 -1.0 -1.0 -1.0 -1.000 -1.000  ... -0.991 -1.000 -1.000 -1.000 -1.0  NaN\n",
              "1  5.0 -1.0 -1.0 -1.0 -0.813 -0.671  ...  0.126 -0.095 -0.671 -0.828 -1.0  NaN\n",
              "2  4.0 -1.0 -1.0 -1.0 -1.000 -1.000  ... -0.179 -1.000 -1.000 -1.000 -1.0  NaN\n",
              "3  7.0 -1.0 -1.0 -1.0 -1.000 -1.000  ... -1.000 -1.000 -1.000 -1.000 -1.0  NaN\n",
              "4  3.0 -1.0 -1.0 -1.0 -1.000 -1.000  ...  0.439 -0.199 -0.883 -1.000 -1.0  NaN\n",
              "\n",
              "[5 rows x 258 columns]"
            ]
          },
          "metadata": {
            "tags": []
          },
          "execution_count": 33
        }
      ]
    },
    {
      "cell_type": "code",
      "metadata": {
        "colab": {
          "base_uri": "https://localhost:8080/",
          "height": 253
        },
        "id": "M-Nd0hVpqt1-",
        "outputId": "acc98aa7-dba4-4814-c6a4-ff6ebd3f806a"
      },
      "source": [
        "# Drop the column NaN\r\n",
        "ziptrain = ziptrain.dropna(axis=1)\r\n",
        "ziptrain.head()"
      ],
      "execution_count": 34,
      "outputs": [
        {
          "output_type": "execute_result",
          "data": {
            "text/html": [
              "<div>\n",
              "<style scoped>\n",
              "    .dataframe tbody tr th:only-of-type {\n",
              "        vertical-align: middle;\n",
              "    }\n",
              "\n",
              "    .dataframe tbody tr th {\n",
              "        vertical-align: top;\n",
              "    }\n",
              "\n",
              "    .dataframe thead th {\n",
              "        text-align: right;\n",
              "    }\n",
              "</style>\n",
              "<table border=\"1\" class=\"dataframe\">\n",
              "  <thead>\n",
              "    <tr style=\"text-align: right;\">\n",
              "      <th></th>\n",
              "      <th>0</th>\n",
              "      <th>1</th>\n",
              "      <th>2</th>\n",
              "      <th>3</th>\n",
              "      <th>4</th>\n",
              "      <th>5</th>\n",
              "      <th>6</th>\n",
              "      <th>7</th>\n",
              "      <th>8</th>\n",
              "      <th>9</th>\n",
              "      <th>10</th>\n",
              "      <th>11</th>\n",
              "      <th>12</th>\n",
              "      <th>13</th>\n",
              "      <th>14</th>\n",
              "      <th>15</th>\n",
              "      <th>16</th>\n",
              "      <th>17</th>\n",
              "      <th>18</th>\n",
              "      <th>19</th>\n",
              "      <th>20</th>\n",
              "      <th>21</th>\n",
              "      <th>22</th>\n",
              "      <th>23</th>\n",
              "      <th>24</th>\n",
              "      <th>25</th>\n",
              "      <th>26</th>\n",
              "      <th>27</th>\n",
              "      <th>28</th>\n",
              "      <th>29</th>\n",
              "      <th>30</th>\n",
              "      <th>31</th>\n",
              "      <th>32</th>\n",
              "      <th>33</th>\n",
              "      <th>34</th>\n",
              "      <th>35</th>\n",
              "      <th>36</th>\n",
              "      <th>37</th>\n",
              "      <th>38</th>\n",
              "      <th>39</th>\n",
              "      <th>...</th>\n",
              "      <th>217</th>\n",
              "      <th>218</th>\n",
              "      <th>219</th>\n",
              "      <th>220</th>\n",
              "      <th>221</th>\n",
              "      <th>222</th>\n",
              "      <th>223</th>\n",
              "      <th>224</th>\n",
              "      <th>225</th>\n",
              "      <th>226</th>\n",
              "      <th>227</th>\n",
              "      <th>228</th>\n",
              "      <th>229</th>\n",
              "      <th>230</th>\n",
              "      <th>231</th>\n",
              "      <th>232</th>\n",
              "      <th>233</th>\n",
              "      <th>234</th>\n",
              "      <th>235</th>\n",
              "      <th>236</th>\n",
              "      <th>237</th>\n",
              "      <th>238</th>\n",
              "      <th>239</th>\n",
              "      <th>240</th>\n",
              "      <th>241</th>\n",
              "      <th>242</th>\n",
              "      <th>243</th>\n",
              "      <th>244</th>\n",
              "      <th>245</th>\n",
              "      <th>246</th>\n",
              "      <th>247</th>\n",
              "      <th>248</th>\n",
              "      <th>249</th>\n",
              "      <th>250</th>\n",
              "      <th>251</th>\n",
              "      <th>252</th>\n",
              "      <th>253</th>\n",
              "      <th>254</th>\n",
              "      <th>255</th>\n",
              "      <th>256</th>\n",
              "    </tr>\n",
              "  </thead>\n",
              "  <tbody>\n",
              "    <tr>\n",
              "      <th>0</th>\n",
              "      <td>6.0</td>\n",
              "      <td>-1.0</td>\n",
              "      <td>-1.0</td>\n",
              "      <td>-1.0</td>\n",
              "      <td>-1.000</td>\n",
              "      <td>-1.000</td>\n",
              "      <td>-1.000</td>\n",
              "      <td>-1.000</td>\n",
              "      <td>-0.631</td>\n",
              "      <td>0.862</td>\n",
              "      <td>-0.167</td>\n",
              "      <td>-1.000</td>\n",
              "      <td>-1.000</td>\n",
              "      <td>-1.000</td>\n",
              "      <td>-1.000</td>\n",
              "      <td>-1.000</td>\n",
              "      <td>-1.0</td>\n",
              "      <td>-1.0</td>\n",
              "      <td>-1.0</td>\n",
              "      <td>-1.0</td>\n",
              "      <td>-1.000</td>\n",
              "      <td>-1.000</td>\n",
              "      <td>-1.000</td>\n",
              "      <td>-0.992</td>\n",
              "      <td>0.297</td>\n",
              "      <td>1.000</td>\n",
              "      <td>0.307</td>\n",
              "      <td>-1.000</td>\n",
              "      <td>-1.000</td>\n",
              "      <td>-1.000</td>\n",
              "      <td>-1.000</td>\n",
              "      <td>-1.000</td>\n",
              "      <td>-1.0</td>\n",
              "      <td>-1.0</td>\n",
              "      <td>-1.0</td>\n",
              "      <td>-1.0</td>\n",
              "      <td>-1.000</td>\n",
              "      <td>-1.000</td>\n",
              "      <td>-1.000</td>\n",
              "      <td>-0.410</td>\n",
              "      <td>...</td>\n",
              "      <td>1.000</td>\n",
              "      <td>1.000</td>\n",
              "      <td>1.000</td>\n",
              "      <td>1.000</td>\n",
              "      <td>0.135</td>\n",
              "      <td>-1.0</td>\n",
              "      <td>-1.000</td>\n",
              "      <td>-1.000</td>\n",
              "      <td>-1.0</td>\n",
              "      <td>-1.000</td>\n",
              "      <td>-1.000</td>\n",
              "      <td>-0.483</td>\n",
              "      <td>0.813</td>\n",
              "      <td>1.0</td>\n",
              "      <td>1.000</td>\n",
              "      <td>1.0</td>\n",
              "      <td>1.000</td>\n",
              "      <td>1.000</td>\n",
              "      <td>1.0</td>\n",
              "      <td>0.219</td>\n",
              "      <td>-0.943</td>\n",
              "      <td>-1.000</td>\n",
              "      <td>-1.000</td>\n",
              "      <td>-1.00</td>\n",
              "      <td>-1.0</td>\n",
              "      <td>-1.0</td>\n",
              "      <td>-1.0</td>\n",
              "      <td>-1.000</td>\n",
              "      <td>-0.974</td>\n",
              "      <td>-0.429</td>\n",
              "      <td>0.304</td>\n",
              "      <td>0.823</td>\n",
              "      <td>1.000</td>\n",
              "      <td>0.482</td>\n",
              "      <td>-0.474</td>\n",
              "      <td>-0.991</td>\n",
              "      <td>-1.000</td>\n",
              "      <td>-1.000</td>\n",
              "      <td>-1.000</td>\n",
              "      <td>-1.0</td>\n",
              "    </tr>\n",
              "    <tr>\n",
              "      <th>1</th>\n",
              "      <td>5.0</td>\n",
              "      <td>-1.0</td>\n",
              "      <td>-1.0</td>\n",
              "      <td>-1.0</td>\n",
              "      <td>-0.813</td>\n",
              "      <td>-0.671</td>\n",
              "      <td>-0.809</td>\n",
              "      <td>-0.887</td>\n",
              "      <td>-0.671</td>\n",
              "      <td>-0.853</td>\n",
              "      <td>-1.000</td>\n",
              "      <td>-1.000</td>\n",
              "      <td>-0.774</td>\n",
              "      <td>-0.180</td>\n",
              "      <td>0.052</td>\n",
              "      <td>-0.241</td>\n",
              "      <td>-1.0</td>\n",
              "      <td>-1.0</td>\n",
              "      <td>-1.0</td>\n",
              "      <td>-1.0</td>\n",
              "      <td>0.392</td>\n",
              "      <td>1.000</td>\n",
              "      <td>0.857</td>\n",
              "      <td>0.727</td>\n",
              "      <td>1.000</td>\n",
              "      <td>0.805</td>\n",
              "      <td>0.613</td>\n",
              "      <td>0.613</td>\n",
              "      <td>0.860</td>\n",
              "      <td>1.000</td>\n",
              "      <td>1.000</td>\n",
              "      <td>0.396</td>\n",
              "      <td>-1.0</td>\n",
              "      <td>-1.0</td>\n",
              "      <td>-1.0</td>\n",
              "      <td>-1.0</td>\n",
              "      <td>-0.548</td>\n",
              "      <td>1.000</td>\n",
              "      <td>1.000</td>\n",
              "      <td>1.000</td>\n",
              "      <td>...</td>\n",
              "      <td>0.970</td>\n",
              "      <td>0.970</td>\n",
              "      <td>0.970</td>\n",
              "      <td>0.998</td>\n",
              "      <td>1.000</td>\n",
              "      <td>1.0</td>\n",
              "      <td>1.000</td>\n",
              "      <td>0.109</td>\n",
              "      <td>-1.0</td>\n",
              "      <td>-1.000</td>\n",
              "      <td>-0.830</td>\n",
              "      <td>-0.242</td>\n",
              "      <td>0.350</td>\n",
              "      <td>0.8</td>\n",
              "      <td>1.000</td>\n",
              "      <td>1.0</td>\n",
              "      <td>1.000</td>\n",
              "      <td>1.000</td>\n",
              "      <td>1.0</td>\n",
              "      <td>1.000</td>\n",
              "      <td>1.000</td>\n",
              "      <td>1.000</td>\n",
              "      <td>0.616</td>\n",
              "      <td>-0.93</td>\n",
              "      <td>-1.0</td>\n",
              "      <td>-1.0</td>\n",
              "      <td>-1.0</td>\n",
              "      <td>-1.000</td>\n",
              "      <td>-1.000</td>\n",
              "      <td>-0.858</td>\n",
              "      <td>-0.671</td>\n",
              "      <td>-0.671</td>\n",
              "      <td>-0.033</td>\n",
              "      <td>0.761</td>\n",
              "      <td>0.762</td>\n",
              "      <td>0.126</td>\n",
              "      <td>-0.095</td>\n",
              "      <td>-0.671</td>\n",
              "      <td>-0.828</td>\n",
              "      <td>-1.0</td>\n",
              "    </tr>\n",
              "    <tr>\n",
              "      <th>2</th>\n",
              "      <td>4.0</td>\n",
              "      <td>-1.0</td>\n",
              "      <td>-1.0</td>\n",
              "      <td>-1.0</td>\n",
              "      <td>-1.000</td>\n",
              "      <td>-1.000</td>\n",
              "      <td>-1.000</td>\n",
              "      <td>-1.000</td>\n",
              "      <td>-1.000</td>\n",
              "      <td>-1.000</td>\n",
              "      <td>-0.996</td>\n",
              "      <td>0.147</td>\n",
              "      <td>1.000</td>\n",
              "      <td>-0.189</td>\n",
              "      <td>-1.000</td>\n",
              "      <td>-1.000</td>\n",
              "      <td>-1.0</td>\n",
              "      <td>-1.0</td>\n",
              "      <td>-1.0</td>\n",
              "      <td>-1.0</td>\n",
              "      <td>-1.000</td>\n",
              "      <td>-1.000</td>\n",
              "      <td>-1.000</td>\n",
              "      <td>-1.000</td>\n",
              "      <td>-1.000</td>\n",
              "      <td>-1.000</td>\n",
              "      <td>-0.882</td>\n",
              "      <td>1.000</td>\n",
              "      <td>0.390</td>\n",
              "      <td>-0.811</td>\n",
              "      <td>-1.000</td>\n",
              "      <td>-1.000</td>\n",
              "      <td>-1.0</td>\n",
              "      <td>-1.0</td>\n",
              "      <td>-1.0</td>\n",
              "      <td>-1.0</td>\n",
              "      <td>-1.000</td>\n",
              "      <td>-1.000</td>\n",
              "      <td>-1.000</td>\n",
              "      <td>-1.000</td>\n",
              "      <td>...</td>\n",
              "      <td>-1.000</td>\n",
              "      <td>-0.426</td>\n",
              "      <td>1.000</td>\n",
              "      <td>0.555</td>\n",
              "      <td>-1.000</td>\n",
              "      <td>-1.0</td>\n",
              "      <td>-1.000</td>\n",
              "      <td>-1.000</td>\n",
              "      <td>-1.0</td>\n",
              "      <td>-1.000</td>\n",
              "      <td>-1.000</td>\n",
              "      <td>-1.000</td>\n",
              "      <td>-1.000</td>\n",
              "      <td>-1.0</td>\n",
              "      <td>-1.000</td>\n",
              "      <td>-1.0</td>\n",
              "      <td>-1.000</td>\n",
              "      <td>0.024</td>\n",
              "      <td>1.0</td>\n",
              "      <td>0.388</td>\n",
              "      <td>-1.000</td>\n",
              "      <td>-1.000</td>\n",
              "      <td>-1.000</td>\n",
              "      <td>-1.00</td>\n",
              "      <td>-1.0</td>\n",
              "      <td>-1.0</td>\n",
              "      <td>-1.0</td>\n",
              "      <td>-1.000</td>\n",
              "      <td>-1.000</td>\n",
              "      <td>-1.000</td>\n",
              "      <td>-1.000</td>\n",
              "      <td>-1.000</td>\n",
              "      <td>-1.000</td>\n",
              "      <td>-0.109</td>\n",
              "      <td>1.000</td>\n",
              "      <td>-0.179</td>\n",
              "      <td>-1.000</td>\n",
              "      <td>-1.000</td>\n",
              "      <td>-1.000</td>\n",
              "      <td>-1.0</td>\n",
              "    </tr>\n",
              "    <tr>\n",
              "      <th>3</th>\n",
              "      <td>7.0</td>\n",
              "      <td>-1.0</td>\n",
              "      <td>-1.0</td>\n",
              "      <td>-1.0</td>\n",
              "      <td>-1.000</td>\n",
              "      <td>-1.000</td>\n",
              "      <td>-0.273</td>\n",
              "      <td>0.684</td>\n",
              "      <td>0.960</td>\n",
              "      <td>0.450</td>\n",
              "      <td>-0.067</td>\n",
              "      <td>-0.679</td>\n",
              "      <td>-1.000</td>\n",
              "      <td>-1.000</td>\n",
              "      <td>-1.000</td>\n",
              "      <td>-1.000</td>\n",
              "      <td>-1.0</td>\n",
              "      <td>-1.0</td>\n",
              "      <td>-1.0</td>\n",
              "      <td>-1.0</td>\n",
              "      <td>-1.000</td>\n",
              "      <td>-0.114</td>\n",
              "      <td>0.974</td>\n",
              "      <td>0.917</td>\n",
              "      <td>0.734</td>\n",
              "      <td>0.994</td>\n",
              "      <td>1.000</td>\n",
              "      <td>0.973</td>\n",
              "      <td>0.391</td>\n",
              "      <td>-0.421</td>\n",
              "      <td>-0.976</td>\n",
              "      <td>-1.000</td>\n",
              "      <td>-1.0</td>\n",
              "      <td>-1.0</td>\n",
              "      <td>-1.0</td>\n",
              "      <td>-1.0</td>\n",
              "      <td>-0.323</td>\n",
              "      <td>0.991</td>\n",
              "      <td>0.622</td>\n",
              "      <td>-0.738</td>\n",
              "      <td>...</td>\n",
              "      <td>0.432</td>\n",
              "      <td>-1.000</td>\n",
              "      <td>-1.000</td>\n",
              "      <td>-1.000</td>\n",
              "      <td>-1.000</td>\n",
              "      <td>-1.0</td>\n",
              "      <td>-1.000</td>\n",
              "      <td>-1.000</td>\n",
              "      <td>-1.0</td>\n",
              "      <td>-1.000</td>\n",
              "      <td>-1.000</td>\n",
              "      <td>-1.000</td>\n",
              "      <td>-1.000</td>\n",
              "      <td>-1.0</td>\n",
              "      <td>-0.348</td>\n",
              "      <td>1.0</td>\n",
              "      <td>0.798</td>\n",
              "      <td>-0.935</td>\n",
              "      <td>-1.0</td>\n",
              "      <td>-1.000</td>\n",
              "      <td>-1.000</td>\n",
              "      <td>-1.000</td>\n",
              "      <td>-1.000</td>\n",
              "      <td>-1.00</td>\n",
              "      <td>-1.0</td>\n",
              "      <td>-1.0</td>\n",
              "      <td>-1.0</td>\n",
              "      <td>-1.000</td>\n",
              "      <td>-1.000</td>\n",
              "      <td>-1.000</td>\n",
              "      <td>-0.318</td>\n",
              "      <td>1.000</td>\n",
              "      <td>0.536</td>\n",
              "      <td>-0.987</td>\n",
              "      <td>-1.000</td>\n",
              "      <td>-1.000</td>\n",
              "      <td>-1.000</td>\n",
              "      <td>-1.000</td>\n",
              "      <td>-1.000</td>\n",
              "      <td>-1.0</td>\n",
              "    </tr>\n",
              "    <tr>\n",
              "      <th>4</th>\n",
              "      <td>3.0</td>\n",
              "      <td>-1.0</td>\n",
              "      <td>-1.0</td>\n",
              "      <td>-1.0</td>\n",
              "      <td>-1.000</td>\n",
              "      <td>-1.000</td>\n",
              "      <td>-0.928</td>\n",
              "      <td>-0.204</td>\n",
              "      <td>0.751</td>\n",
              "      <td>0.466</td>\n",
              "      <td>0.234</td>\n",
              "      <td>-0.809</td>\n",
              "      <td>-1.000</td>\n",
              "      <td>-1.000</td>\n",
              "      <td>-1.000</td>\n",
              "      <td>-1.000</td>\n",
              "      <td>-1.0</td>\n",
              "      <td>-1.0</td>\n",
              "      <td>-1.0</td>\n",
              "      <td>-1.0</td>\n",
              "      <td>-1.000</td>\n",
              "      <td>-0.370</td>\n",
              "      <td>0.739</td>\n",
              "      <td>1.000</td>\n",
              "      <td>1.000</td>\n",
              "      <td>1.000</td>\n",
              "      <td>1.000</td>\n",
              "      <td>0.644</td>\n",
              "      <td>-0.890</td>\n",
              "      <td>-1.000</td>\n",
              "      <td>-1.000</td>\n",
              "      <td>-1.000</td>\n",
              "      <td>-1.0</td>\n",
              "      <td>-1.0</td>\n",
              "      <td>-1.0</td>\n",
              "      <td>-1.0</td>\n",
              "      <td>-1.000</td>\n",
              "      <td>0.616</td>\n",
              "      <td>1.000</td>\n",
              "      <td>0.688</td>\n",
              "      <td>...</td>\n",
              "      <td>-0.733</td>\n",
              "      <td>-0.733</td>\n",
              "      <td>-0.733</td>\n",
              "      <td>-0.433</td>\n",
              "      <td>0.649</td>\n",
              "      <td>1.0</td>\n",
              "      <td>0.093</td>\n",
              "      <td>-1.000</td>\n",
              "      <td>-1.0</td>\n",
              "      <td>-0.959</td>\n",
              "      <td>-0.062</td>\n",
              "      <td>0.821</td>\n",
              "      <td>1.000</td>\n",
              "      <td>1.0</td>\n",
              "      <td>1.000</td>\n",
              "      <td>1.0</td>\n",
              "      <td>1.000</td>\n",
              "      <td>1.000</td>\n",
              "      <td>1.0</td>\n",
              "      <td>1.000</td>\n",
              "      <td>1.000</td>\n",
              "      <td>0.583</td>\n",
              "      <td>-0.843</td>\n",
              "      <td>-1.00</td>\n",
              "      <td>-1.0</td>\n",
              "      <td>-1.0</td>\n",
              "      <td>-1.0</td>\n",
              "      <td>-0.877</td>\n",
              "      <td>-0.326</td>\n",
              "      <td>0.174</td>\n",
              "      <td>0.466</td>\n",
              "      <td>0.639</td>\n",
              "      <td>1.000</td>\n",
              "      <td>1.000</td>\n",
              "      <td>0.791</td>\n",
              "      <td>0.439</td>\n",
              "      <td>-0.199</td>\n",
              "      <td>-0.883</td>\n",
              "      <td>-1.000</td>\n",
              "      <td>-1.0</td>\n",
              "    </tr>\n",
              "  </tbody>\n",
              "</table>\n",
              "<p>5 rows × 257 columns</p>\n",
              "</div>"
            ],
            "text/plain": [
              "   0    1    2    3      4      5    ...    251    252    253    254    255  256\n",
              "0  6.0 -1.0 -1.0 -1.0 -1.000 -1.000  ... -0.474 -0.991 -1.000 -1.000 -1.000 -1.0\n",
              "1  5.0 -1.0 -1.0 -1.0 -0.813 -0.671  ...  0.762  0.126 -0.095 -0.671 -0.828 -1.0\n",
              "2  4.0 -1.0 -1.0 -1.0 -1.000 -1.000  ...  1.000 -0.179 -1.000 -1.000 -1.000 -1.0\n",
              "3  7.0 -1.0 -1.0 -1.0 -1.000 -1.000  ... -1.000 -1.000 -1.000 -1.000 -1.000 -1.0\n",
              "4  3.0 -1.0 -1.0 -1.0 -1.000 -1.000  ...  0.791  0.439 -0.199 -0.883 -1.000 -1.0\n",
              "\n",
              "[5 rows x 257 columns]"
            ]
          },
          "metadata": {
            "tags": []
          },
          "execution_count": 34
        }
      ]
    },
    {
      "cell_type": "code",
      "metadata": {
        "colab": {
          "base_uri": "https://localhost:8080/"
        },
        "id": "XLLhQiub32fO",
        "outputId": "096f05f1-b295-499d-8229-95120f7f9aa5"
      },
      "source": [
        "# Check if we have other NaN. No it's clean\r\n",
        "ziptrain.isnull().values.any()"
      ],
      "execution_count": 35,
      "outputs": [
        {
          "output_type": "execute_result",
          "data": {
            "text/plain": [
              "False"
            ]
          },
          "metadata": {
            "tags": []
          },
          "execution_count": 35
        }
      ]
    },
    {
      "cell_type": "code",
      "metadata": {
        "colab": {
          "resources": {
            "http://localhost:8080/nbextensions/google.colab/files.js": {
              "data": "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",
              "ok": true,
              "headers": [
                [
                  "content-type",
                  "application/javascript"
                ]
              ],
              "status": 200,
              "status_text": "OK"
            }
          },
          "base_uri": "https://localhost:8080/",
          "height": 72
        },
        "id": "i19tWjwOwMQ8",
        "outputId": "767cfb74-eec8-46af-a186-59223ee50b9c"
      },
      "source": [
        "# Upload the file in Google Colab\r\n",
        "from google.colab import files\r\n",
        "uploaded = files.upload()"
      ],
      "execution_count": 36,
      "outputs": [
        {
          "output_type": "display_data",
          "data": {
            "text/html": [
              "\n",
              "     <input type=\"file\" id=\"files-b9de7807-befa-41c8-9c72-20079791d4bf\" name=\"files[]\" multiple disabled\n",
              "        style=\"border:none\" />\n",
              "     <output id=\"result-b9de7807-befa-41c8-9c72-20079791d4bf\">\n",
              "      Upload widget is only available when the cell has been executed in the\n",
              "      current browser session. Please rerun this cell to enable.\n",
              "      </output>\n",
              "      <script src=\"/nbextensions/google.colab/files.js\"></script> "
            ],
            "text/plain": [
              "<IPython.core.display.HTML object>"
            ]
          },
          "metadata": {
            "tags": []
          }
        },
        {
          "output_type": "stream",
          "text": [
            "Saving ziptest.csv to ziptest.csv\n"
          ],
          "name": "stdout"
        }
      ]
    },
    {
      "cell_type": "code",
      "metadata": {
        "colab": {
          "base_uri": "https://localhost:8080/",
          "height": 253
        },
        "id": "_XI8Z0hWwcEz",
        "outputId": "820809a5-e903-40a0-f656-57adef86100c"
      },
      "source": [
        "# Read the cvs file and put in variable ziptest, add header and delimiter\r\n",
        "ziptest = pd.read_csv('ziptest.csv', header=None, delimiter=' ')\r\n",
        "ziptest.head()"
      ],
      "execution_count": 37,
      "outputs": [
        {
          "output_type": "execute_result",
          "data": {
            "text/html": [
              "<div>\n",
              "<style scoped>\n",
              "    .dataframe tbody tr th:only-of-type {\n",
              "        vertical-align: middle;\n",
              "    }\n",
              "\n",
              "    .dataframe tbody tr th {\n",
              "        vertical-align: top;\n",
              "    }\n",
              "\n",
              "    .dataframe thead th {\n",
              "        text-align: right;\n",
              "    }\n",
              "</style>\n",
              "<table border=\"1\" class=\"dataframe\">\n",
              "  <thead>\n",
              "    <tr style=\"text-align: right;\">\n",
              "      <th></th>\n",
              "      <th>0</th>\n",
              "      <th>1</th>\n",
              "      <th>2</th>\n",
              "      <th>3</th>\n",
              "      <th>4</th>\n",
              "      <th>5</th>\n",
              "      <th>6</th>\n",
              "      <th>7</th>\n",
              "      <th>8</th>\n",
              "      <th>9</th>\n",
              "      <th>10</th>\n",
              "      <th>11</th>\n",
              "      <th>12</th>\n",
              "      <th>13</th>\n",
              "      <th>14</th>\n",
              "      <th>15</th>\n",
              "      <th>16</th>\n",
              "      <th>17</th>\n",
              "      <th>18</th>\n",
              "      <th>19</th>\n",
              "      <th>20</th>\n",
              "      <th>21</th>\n",
              "      <th>22</th>\n",
              "      <th>23</th>\n",
              "      <th>24</th>\n",
              "      <th>25</th>\n",
              "      <th>26</th>\n",
              "      <th>27</th>\n",
              "      <th>28</th>\n",
              "      <th>29</th>\n",
              "      <th>30</th>\n",
              "      <th>31</th>\n",
              "      <th>32</th>\n",
              "      <th>33</th>\n",
              "      <th>34</th>\n",
              "      <th>35</th>\n",
              "      <th>36</th>\n",
              "      <th>37</th>\n",
              "      <th>38</th>\n",
              "      <th>39</th>\n",
              "      <th>...</th>\n",
              "      <th>217</th>\n",
              "      <th>218</th>\n",
              "      <th>219</th>\n",
              "      <th>220</th>\n",
              "      <th>221</th>\n",
              "      <th>222</th>\n",
              "      <th>223</th>\n",
              "      <th>224</th>\n",
              "      <th>225</th>\n",
              "      <th>226</th>\n",
              "      <th>227</th>\n",
              "      <th>228</th>\n",
              "      <th>229</th>\n",
              "      <th>230</th>\n",
              "      <th>231</th>\n",
              "      <th>232</th>\n",
              "      <th>233</th>\n",
              "      <th>234</th>\n",
              "      <th>235</th>\n",
              "      <th>236</th>\n",
              "      <th>237</th>\n",
              "      <th>238</th>\n",
              "      <th>239</th>\n",
              "      <th>240</th>\n",
              "      <th>241</th>\n",
              "      <th>242</th>\n",
              "      <th>243</th>\n",
              "      <th>244</th>\n",
              "      <th>245</th>\n",
              "      <th>246</th>\n",
              "      <th>247</th>\n",
              "      <th>248</th>\n",
              "      <th>249</th>\n",
              "      <th>250</th>\n",
              "      <th>251</th>\n",
              "      <th>252</th>\n",
              "      <th>253</th>\n",
              "      <th>254</th>\n",
              "      <th>255</th>\n",
              "      <th>256</th>\n",
              "    </tr>\n",
              "  </thead>\n",
              "  <tbody>\n",
              "    <tr>\n",
              "      <th>0</th>\n",
              "      <td>9</td>\n",
              "      <td>-1.0</td>\n",
              "      <td>-1.0</td>\n",
              "      <td>-1.0</td>\n",
              "      <td>-1.000</td>\n",
              "      <td>-1.0</td>\n",
              "      <td>-0.948</td>\n",
              "      <td>-0.561</td>\n",
              "      <td>0.148</td>\n",
              "      <td>0.384</td>\n",
              "      <td>0.904</td>\n",
              "      <td>0.290</td>\n",
              "      <td>-0.782</td>\n",
              "      <td>-1.0</td>\n",
              "      <td>-1.0</td>\n",
              "      <td>-1.0</td>\n",
              "      <td>-1.0</td>\n",
              "      <td>-1.0</td>\n",
              "      <td>-1.0</td>\n",
              "      <td>-1.000</td>\n",
              "      <td>-1.000</td>\n",
              "      <td>-0.748</td>\n",
              "      <td>0.588</td>\n",
              "      <td>1.000</td>\n",
              "      <td>1.000</td>\n",
              "      <td>0.991</td>\n",
              "      <td>0.915</td>\n",
              "      <td>1.000</td>\n",
              "      <td>0.931</td>\n",
              "      <td>-0.476</td>\n",
              "      <td>-1.000</td>\n",
              "      <td>-1.0</td>\n",
              "      <td>-1.0</td>\n",
              "      <td>-1.0</td>\n",
              "      <td>-1.0</td>\n",
              "      <td>-1.000</td>\n",
              "      <td>-0.787</td>\n",
              "      <td>0.794</td>\n",
              "      <td>1.000</td>\n",
              "      <td>0.727</td>\n",
              "      <td>...</td>\n",
              "      <td>0.998</td>\n",
              "      <td>0.841</td>\n",
              "      <td>-0.932</td>\n",
              "      <td>-1.000</td>\n",
              "      <td>-1.0</td>\n",
              "      <td>-1.000</td>\n",
              "      <td>-1.000</td>\n",
              "      <td>-1.0</td>\n",
              "      <td>-1.000</td>\n",
              "      <td>-1.000</td>\n",
              "      <td>-1.000</td>\n",
              "      <td>-1.000</td>\n",
              "      <td>-1.000</td>\n",
              "      <td>-1.000</td>\n",
              "      <td>-1.000</td>\n",
              "      <td>-0.424</td>\n",
              "      <td>1.0</td>\n",
              "      <td>0.732</td>\n",
              "      <td>-1.0</td>\n",
              "      <td>-1.00</td>\n",
              "      <td>-1.000</td>\n",
              "      <td>-1.000</td>\n",
              "      <td>-1.0</td>\n",
              "      <td>-1.0</td>\n",
              "      <td>-1.0</td>\n",
              "      <td>-1.000</td>\n",
              "      <td>-1.000</td>\n",
              "      <td>-1.000</td>\n",
              "      <td>-1.000</td>\n",
              "      <td>-1.000</td>\n",
              "      <td>-1.000</td>\n",
              "      <td>-0.908</td>\n",
              "      <td>0.430</td>\n",
              "      <td>0.622</td>\n",
              "      <td>-0.973</td>\n",
              "      <td>-1.000</td>\n",
              "      <td>-1.0</td>\n",
              "      <td>-1.0</td>\n",
              "      <td>-1.0</td>\n",
              "      <td>-1.0</td>\n",
              "    </tr>\n",
              "    <tr>\n",
              "      <th>1</th>\n",
              "      <td>6</td>\n",
              "      <td>-1.0</td>\n",
              "      <td>-1.0</td>\n",
              "      <td>-1.0</td>\n",
              "      <td>-1.000</td>\n",
              "      <td>-1.0</td>\n",
              "      <td>-1.000</td>\n",
              "      <td>-1.000</td>\n",
              "      <td>-1.000</td>\n",
              "      <td>-1.000</td>\n",
              "      <td>-1.000</td>\n",
              "      <td>-1.000</td>\n",
              "      <td>-1.000</td>\n",
              "      <td>-1.0</td>\n",
              "      <td>-1.0</td>\n",
              "      <td>-1.0</td>\n",
              "      <td>-1.0</td>\n",
              "      <td>-1.0</td>\n",
              "      <td>-1.0</td>\n",
              "      <td>-1.000</td>\n",
              "      <td>-1.000</td>\n",
              "      <td>-1.000</td>\n",
              "      <td>-0.783</td>\n",
              "      <td>-0.973</td>\n",
              "      <td>-1.000</td>\n",
              "      <td>-1.000</td>\n",
              "      <td>-1.000</td>\n",
              "      <td>-1.000</td>\n",
              "      <td>-1.000</td>\n",
              "      <td>-1.000</td>\n",
              "      <td>-1.000</td>\n",
              "      <td>-1.0</td>\n",
              "      <td>-1.0</td>\n",
              "      <td>-1.0</td>\n",
              "      <td>-1.0</td>\n",
              "      <td>-1.000</td>\n",
              "      <td>-1.000</td>\n",
              "      <td>-0.364</td>\n",
              "      <td>0.789</td>\n",
              "      <td>-0.371</td>\n",
              "      <td>...</td>\n",
              "      <td>0.774</td>\n",
              "      <td>0.774</td>\n",
              "      <td>0.302</td>\n",
              "      <td>-0.522</td>\n",
              "      <td>-1.0</td>\n",
              "      <td>-1.000</td>\n",
              "      <td>-1.000</td>\n",
              "      <td>-1.0</td>\n",
              "      <td>-1.000</td>\n",
              "      <td>-1.000</td>\n",
              "      <td>-1.000</td>\n",
              "      <td>-0.663</td>\n",
              "      <td>-0.606</td>\n",
              "      <td>-0.606</td>\n",
              "      <td>-0.606</td>\n",
              "      <td>-0.688</td>\n",
              "      <td>-1.0</td>\n",
              "      <td>-1.000</td>\n",
              "      <td>-1.0</td>\n",
              "      <td>-1.00</td>\n",
              "      <td>-1.000</td>\n",
              "      <td>-1.000</td>\n",
              "      <td>-1.0</td>\n",
              "      <td>-1.0</td>\n",
              "      <td>-1.0</td>\n",
              "      <td>-1.000</td>\n",
              "      <td>-1.000</td>\n",
              "      <td>-1.000</td>\n",
              "      <td>-1.000</td>\n",
              "      <td>-1.000</td>\n",
              "      <td>-1.000</td>\n",
              "      <td>-1.000</td>\n",
              "      <td>-1.000</td>\n",
              "      <td>-1.000</td>\n",
              "      <td>-1.000</td>\n",
              "      <td>-1.000</td>\n",
              "      <td>-1.0</td>\n",
              "      <td>-1.0</td>\n",
              "      <td>-1.0</td>\n",
              "      <td>-1.0</td>\n",
              "    </tr>\n",
              "    <tr>\n",
              "      <th>2</th>\n",
              "      <td>3</td>\n",
              "      <td>-1.0</td>\n",
              "      <td>-1.0</td>\n",
              "      <td>-1.0</td>\n",
              "      <td>-0.593</td>\n",
              "      <td>0.7</td>\n",
              "      <td>1.000</td>\n",
              "      <td>1.000</td>\n",
              "      <td>1.000</td>\n",
              "      <td>1.000</td>\n",
              "      <td>0.853</td>\n",
              "      <td>0.075</td>\n",
              "      <td>-0.925</td>\n",
              "      <td>-1.0</td>\n",
              "      <td>-1.0</td>\n",
              "      <td>-1.0</td>\n",
              "      <td>-1.0</td>\n",
              "      <td>-1.0</td>\n",
              "      <td>-1.0</td>\n",
              "      <td>-0.553</td>\n",
              "      <td>0.998</td>\n",
              "      <td>1.000</td>\n",
              "      <td>1.000</td>\n",
              "      <td>1.000</td>\n",
              "      <td>1.000</td>\n",
              "      <td>1.000</td>\n",
              "      <td>1.000</td>\n",
              "      <td>1.000</td>\n",
              "      <td>0.961</td>\n",
              "      <td>-0.076</td>\n",
              "      <td>-0.999</td>\n",
              "      <td>-1.0</td>\n",
              "      <td>-1.0</td>\n",
              "      <td>-1.0</td>\n",
              "      <td>-1.0</td>\n",
              "      <td>0.228</td>\n",
              "      <td>1.000</td>\n",
              "      <td>0.849</td>\n",
              "      <td>-0.150</td>\n",
              "      <td>-0.705</td>\n",
              "      <td>...</td>\n",
              "      <td>0.389</td>\n",
              "      <td>1.000</td>\n",
              "      <td>1.000</td>\n",
              "      <td>1.000</td>\n",
              "      <td>1.0</td>\n",
              "      <td>0.497</td>\n",
              "      <td>-1.000</td>\n",
              "      <td>-1.0</td>\n",
              "      <td>-1.000</td>\n",
              "      <td>-1.000</td>\n",
              "      <td>0.507</td>\n",
              "      <td>1.000</td>\n",
              "      <td>1.000</td>\n",
              "      <td>1.000</td>\n",
              "      <td>1.000</td>\n",
              "      <td>1.000</td>\n",
              "      <td>1.0</td>\n",
              "      <td>1.000</td>\n",
              "      <td>1.0</td>\n",
              "      <td>0.83</td>\n",
              "      <td>0.053</td>\n",
              "      <td>-0.946</td>\n",
              "      <td>-1.0</td>\n",
              "      <td>-1.0</td>\n",
              "      <td>-1.0</td>\n",
              "      <td>-1.000</td>\n",
              "      <td>-0.941</td>\n",
              "      <td>0.059</td>\n",
              "      <td>0.615</td>\n",
              "      <td>1.000</td>\n",
              "      <td>1.000</td>\n",
              "      <td>0.717</td>\n",
              "      <td>0.333</td>\n",
              "      <td>0.162</td>\n",
              "      <td>-0.393</td>\n",
              "      <td>-1.000</td>\n",
              "      <td>-1.0</td>\n",
              "      <td>-1.0</td>\n",
              "      <td>-1.0</td>\n",
              "      <td>-1.0</td>\n",
              "    </tr>\n",
              "    <tr>\n",
              "      <th>3</th>\n",
              "      <td>6</td>\n",
              "      <td>-1.0</td>\n",
              "      <td>-1.0</td>\n",
              "      <td>-1.0</td>\n",
              "      <td>-1.000</td>\n",
              "      <td>-1.0</td>\n",
              "      <td>-1.000</td>\n",
              "      <td>-1.000</td>\n",
              "      <td>-1.000</td>\n",
              "      <td>-1.000</td>\n",
              "      <td>-1.000</td>\n",
              "      <td>-1.000</td>\n",
              "      <td>-1.000</td>\n",
              "      <td>-1.0</td>\n",
              "      <td>-1.0</td>\n",
              "      <td>-1.0</td>\n",
              "      <td>-1.0</td>\n",
              "      <td>-1.0</td>\n",
              "      <td>-1.0</td>\n",
              "      <td>-1.000</td>\n",
              "      <td>-1.000</td>\n",
              "      <td>-1.000</td>\n",
              "      <td>-1.000</td>\n",
              "      <td>-1.000</td>\n",
              "      <td>-1.000</td>\n",
              "      <td>-1.000</td>\n",
              "      <td>-1.000</td>\n",
              "      <td>-1.000</td>\n",
              "      <td>-1.000</td>\n",
              "      <td>-1.000</td>\n",
              "      <td>-1.000</td>\n",
              "      <td>-1.0</td>\n",
              "      <td>-1.0</td>\n",
              "      <td>-1.0</td>\n",
              "      <td>-1.0</td>\n",
              "      <td>-1.000</td>\n",
              "      <td>-1.000</td>\n",
              "      <td>-1.000</td>\n",
              "      <td>-0.417</td>\n",
              "      <td>-0.330</td>\n",
              "      <td>...</td>\n",
              "      <td>-0.021</td>\n",
              "      <td>-0.182</td>\n",
              "      <td>-0.648</td>\n",
              "      <td>-0.780</td>\n",
              "      <td>-1.0</td>\n",
              "      <td>-1.000</td>\n",
              "      <td>-1.000</td>\n",
              "      <td>-1.0</td>\n",
              "      <td>-1.000</td>\n",
              "      <td>-1.000</td>\n",
              "      <td>-1.000</td>\n",
              "      <td>-1.000</td>\n",
              "      <td>-1.000</td>\n",
              "      <td>-1.000</td>\n",
              "      <td>-1.000</td>\n",
              "      <td>-1.000</td>\n",
              "      <td>-1.0</td>\n",
              "      <td>-1.000</td>\n",
              "      <td>-1.0</td>\n",
              "      <td>-1.00</td>\n",
              "      <td>-1.000</td>\n",
              "      <td>-1.000</td>\n",
              "      <td>-1.0</td>\n",
              "      <td>-1.0</td>\n",
              "      <td>-1.0</td>\n",
              "      <td>-1.000</td>\n",
              "      <td>-1.000</td>\n",
              "      <td>-1.000</td>\n",
              "      <td>-1.000</td>\n",
              "      <td>-1.000</td>\n",
              "      <td>-1.000</td>\n",
              "      <td>-1.000</td>\n",
              "      <td>-1.000</td>\n",
              "      <td>-1.000</td>\n",
              "      <td>-1.000</td>\n",
              "      <td>-1.000</td>\n",
              "      <td>-1.0</td>\n",
              "      <td>-1.0</td>\n",
              "      <td>-1.0</td>\n",
              "      <td>-1.0</td>\n",
              "    </tr>\n",
              "    <tr>\n",
              "      <th>4</th>\n",
              "      <td>6</td>\n",
              "      <td>-1.0</td>\n",
              "      <td>-1.0</td>\n",
              "      <td>-1.0</td>\n",
              "      <td>-1.000</td>\n",
              "      <td>-1.0</td>\n",
              "      <td>-1.000</td>\n",
              "      <td>-1.000</td>\n",
              "      <td>-0.858</td>\n",
              "      <td>-0.106</td>\n",
              "      <td>0.802</td>\n",
              "      <td>-0.210</td>\n",
              "      <td>-1.000</td>\n",
              "      <td>-1.0</td>\n",
              "      <td>-1.0</td>\n",
              "      <td>-1.0</td>\n",
              "      <td>-1.0</td>\n",
              "      <td>-1.0</td>\n",
              "      <td>-1.0</td>\n",
              "      <td>-1.000</td>\n",
              "      <td>-1.000</td>\n",
              "      <td>-1.000</td>\n",
              "      <td>-1.000</td>\n",
              "      <td>-0.854</td>\n",
              "      <td>0.597</td>\n",
              "      <td>1.000</td>\n",
              "      <td>0.798</td>\n",
              "      <td>-0.388</td>\n",
              "      <td>-1.000</td>\n",
              "      <td>-1.000</td>\n",
              "      <td>-1.000</td>\n",
              "      <td>-1.0</td>\n",
              "      <td>-1.0</td>\n",
              "      <td>-1.0</td>\n",
              "      <td>-1.0</td>\n",
              "      <td>-1.000</td>\n",
              "      <td>-1.000</td>\n",
              "      <td>-1.000</td>\n",
              "      <td>-0.481</td>\n",
              "      <td>0.600</td>\n",
              "      <td>...</td>\n",
              "      <td>0.142</td>\n",
              "      <td>-0.584</td>\n",
              "      <td>0.075</td>\n",
              "      <td>0.833</td>\n",
              "      <td>1.0</td>\n",
              "      <td>0.123</td>\n",
              "      <td>-0.963</td>\n",
              "      <td>-1.0</td>\n",
              "      <td>-0.537</td>\n",
              "      <td>0.896</td>\n",
              "      <td>1.000</td>\n",
              "      <td>1.000</td>\n",
              "      <td>1.000</td>\n",
              "      <td>1.000</td>\n",
              "      <td>1.000</td>\n",
              "      <td>1.000</td>\n",
              "      <td>1.0</td>\n",
              "      <td>1.000</td>\n",
              "      <td>1.0</td>\n",
              "      <td>0.83</td>\n",
              "      <td>-0.387</td>\n",
              "      <td>-0.976</td>\n",
              "      <td>-1.0</td>\n",
              "      <td>-1.0</td>\n",
              "      <td>-1.0</td>\n",
              "      <td>-0.697</td>\n",
              "      <td>-0.108</td>\n",
              "      <td>0.312</td>\n",
              "      <td>0.901</td>\n",
              "      <td>0.901</td>\n",
              "      <td>0.901</td>\n",
              "      <td>0.901</td>\n",
              "      <td>0.901</td>\n",
              "      <td>0.290</td>\n",
              "      <td>-0.369</td>\n",
              "      <td>-0.867</td>\n",
              "      <td>-1.0</td>\n",
              "      <td>-1.0</td>\n",
              "      <td>-1.0</td>\n",
              "      <td>-1.0</td>\n",
              "    </tr>\n",
              "  </tbody>\n",
              "</table>\n",
              "<p>5 rows × 257 columns</p>\n",
              "</div>"
            ],
            "text/plain": [
              "   0    1    2    3      4    5    ...    251    252  253  254  255  256\n",
              "0    9 -1.0 -1.0 -1.0 -1.000 -1.0  ... -0.973 -1.000 -1.0 -1.0 -1.0 -1.0\n",
              "1    6 -1.0 -1.0 -1.0 -1.000 -1.0  ... -1.000 -1.000 -1.0 -1.0 -1.0 -1.0\n",
              "2    3 -1.0 -1.0 -1.0 -0.593  0.7  ... -0.393 -1.000 -1.0 -1.0 -1.0 -1.0\n",
              "3    6 -1.0 -1.0 -1.0 -1.000 -1.0  ... -1.000 -1.000 -1.0 -1.0 -1.0 -1.0\n",
              "4    6 -1.0 -1.0 -1.0 -1.000 -1.0  ... -0.369 -0.867 -1.0 -1.0 -1.0 -1.0\n",
              "\n",
              "[5 rows x 257 columns]"
            ]
          },
          "metadata": {
            "tags": []
          },
          "execution_count": 37
        }
      ]
    },
    {
      "cell_type": "code",
      "metadata": {
        "colab": {
          "base_uri": "https://localhost:8080/"
        },
        "id": "a--mG3X_3i39",
        "outputId": "43477646-fae4-4796-e059-6670b20cedd9"
      },
      "source": [
        "# Check if we have other NaN. No it's clean\r\n",
        "ziptest.isnull().values.any()"
      ],
      "execution_count": 38,
      "outputs": [
        {
          "output_type": "execute_result",
          "data": {
            "text/plain": [
              "False"
            ]
          },
          "metadata": {
            "tags": []
          },
          "execution_count": 38
        }
      ]
    },
    {
      "cell_type": "markdown",
      "metadata": {
        "id": "V9_4UDUww74w"
      },
      "source": [
        "**<font color=blue>Part B.1**  <font color=black>From ziptrain dataset select only the rows corresponding to digits  2  and  7  and save them in a new dataset called binar_train. Do the same thing in ziptest and call it binar_test."
      ]
    },
    {
      "cell_type": "code",
      "metadata": {
        "colab": {
          "base_uri": "https://localhost:8080/",
          "height": 253
        },
        "id": "XnODWCzgyQvV",
        "outputId": "6df28b27-5e95-479f-9f9d-bb4b0a90a814"
      },
      "source": [
        "# Select the rows corresponding to digits 2 and 7. Save in variable binar_train\r\n",
        "binar_train = ziptrain[(ziptrain.iloc[:, 0]==7) | (ziptrain.iloc[:, 0]==2)]\r\n",
        "binar_train.tail()"
      ],
      "execution_count": 39,
      "outputs": [
        {
          "output_type": "execute_result",
          "data": {
            "text/html": [
              "<div>\n",
              "<style scoped>\n",
              "    .dataframe tbody tr th:only-of-type {\n",
              "        vertical-align: middle;\n",
              "    }\n",
              "\n",
              "    .dataframe tbody tr th {\n",
              "        vertical-align: top;\n",
              "    }\n",
              "\n",
              "    .dataframe thead th {\n",
              "        text-align: right;\n",
              "    }\n",
              "</style>\n",
              "<table border=\"1\" class=\"dataframe\">\n",
              "  <thead>\n",
              "    <tr style=\"text-align: right;\">\n",
              "      <th></th>\n",
              "      <th>0</th>\n",
              "      <th>1</th>\n",
              "      <th>2</th>\n",
              "      <th>3</th>\n",
              "      <th>4</th>\n",
              "      <th>5</th>\n",
              "      <th>6</th>\n",
              "      <th>7</th>\n",
              "      <th>8</th>\n",
              "      <th>9</th>\n",
              "      <th>10</th>\n",
              "      <th>11</th>\n",
              "      <th>12</th>\n",
              "      <th>13</th>\n",
              "      <th>14</th>\n",
              "      <th>15</th>\n",
              "      <th>16</th>\n",
              "      <th>17</th>\n",
              "      <th>18</th>\n",
              "      <th>19</th>\n",
              "      <th>20</th>\n",
              "      <th>21</th>\n",
              "      <th>22</th>\n",
              "      <th>23</th>\n",
              "      <th>24</th>\n",
              "      <th>25</th>\n",
              "      <th>26</th>\n",
              "      <th>27</th>\n",
              "      <th>28</th>\n",
              "      <th>29</th>\n",
              "      <th>30</th>\n",
              "      <th>31</th>\n",
              "      <th>32</th>\n",
              "      <th>33</th>\n",
              "      <th>34</th>\n",
              "      <th>35</th>\n",
              "      <th>36</th>\n",
              "      <th>37</th>\n",
              "      <th>38</th>\n",
              "      <th>39</th>\n",
              "      <th>...</th>\n",
              "      <th>217</th>\n",
              "      <th>218</th>\n",
              "      <th>219</th>\n",
              "      <th>220</th>\n",
              "      <th>221</th>\n",
              "      <th>222</th>\n",
              "      <th>223</th>\n",
              "      <th>224</th>\n",
              "      <th>225</th>\n",
              "      <th>226</th>\n",
              "      <th>227</th>\n",
              "      <th>228</th>\n",
              "      <th>229</th>\n",
              "      <th>230</th>\n",
              "      <th>231</th>\n",
              "      <th>232</th>\n",
              "      <th>233</th>\n",
              "      <th>234</th>\n",
              "      <th>235</th>\n",
              "      <th>236</th>\n",
              "      <th>237</th>\n",
              "      <th>238</th>\n",
              "      <th>239</th>\n",
              "      <th>240</th>\n",
              "      <th>241</th>\n",
              "      <th>242</th>\n",
              "      <th>243</th>\n",
              "      <th>244</th>\n",
              "      <th>245</th>\n",
              "      <th>246</th>\n",
              "      <th>247</th>\n",
              "      <th>248</th>\n",
              "      <th>249</th>\n",
              "      <th>250</th>\n",
              "      <th>251</th>\n",
              "      <th>252</th>\n",
              "      <th>253</th>\n",
              "      <th>254</th>\n",
              "      <th>255</th>\n",
              "      <th>256</th>\n",
              "    </tr>\n",
              "  </thead>\n",
              "  <tbody>\n",
              "    <tr>\n",
              "      <th>7206</th>\n",
              "      <td>7.0</td>\n",
              "      <td>-1.0</td>\n",
              "      <td>-1.0</td>\n",
              "      <td>-1.0</td>\n",
              "      <td>-0.752</td>\n",
              "      <td>0.189</td>\n",
              "      <td>0.073</td>\n",
              "      <td>-1.000</td>\n",
              "      <td>-1.000</td>\n",
              "      <td>-1.000</td>\n",
              "      <td>-1.000</td>\n",
              "      <td>-1.000</td>\n",
              "      <td>-1.000</td>\n",
              "      <td>-1.0</td>\n",
              "      <td>-1.0</td>\n",
              "      <td>-1.0</td>\n",
              "      <td>-1.0</td>\n",
              "      <td>-1.0</td>\n",
              "      <td>-1.0</td>\n",
              "      <td>-0.856</td>\n",
              "      <td>0.650</td>\n",
              "      <td>1.000</td>\n",
              "      <td>0.452</td>\n",
              "      <td>-1.000</td>\n",
              "      <td>-1.000</td>\n",
              "      <td>-1.000</td>\n",
              "      <td>-1.000</td>\n",
              "      <td>-1.0</td>\n",
              "      <td>-1.000</td>\n",
              "      <td>-1.000</td>\n",
              "      <td>-1.0</td>\n",
              "      <td>-0.888</td>\n",
              "      <td>-0.761</td>\n",
              "      <td>-1.0</td>\n",
              "      <td>-1.000</td>\n",
              "      <td>-0.006</td>\n",
              "      <td>1.000</td>\n",
              "      <td>1.000</td>\n",
              "      <td>0.678</td>\n",
              "      <td>-0.951</td>\n",
              "      <td>...</td>\n",
              "      <td>-0.995</td>\n",
              "      <td>-1.000</td>\n",
              "      <td>-1.000</td>\n",
              "      <td>-1.00</td>\n",
              "      <td>-1.000</td>\n",
              "      <td>-1.000</td>\n",
              "      <td>-1.000</td>\n",
              "      <td>-1.0</td>\n",
              "      <td>-1.0</td>\n",
              "      <td>-1.000</td>\n",
              "      <td>-1.000</td>\n",
              "      <td>-1.000</td>\n",
              "      <td>-0.365</td>\n",
              "      <td>0.903</td>\n",
              "      <td>0.687</td>\n",
              "      <td>-0.898</td>\n",
              "      <td>-1.000</td>\n",
              "      <td>-1.000</td>\n",
              "      <td>-1.000</td>\n",
              "      <td>-1.0</td>\n",
              "      <td>-1.0</td>\n",
              "      <td>-1.000</td>\n",
              "      <td>-1.000</td>\n",
              "      <td>-1.0</td>\n",
              "      <td>-1.0</td>\n",
              "      <td>-1.000</td>\n",
              "      <td>-1.00</td>\n",
              "      <td>-0.959</td>\n",
              "      <td>0.423</td>\n",
              "      <td>-0.166</td>\n",
              "      <td>-0.952</td>\n",
              "      <td>-1.000</td>\n",
              "      <td>-1.000</td>\n",
              "      <td>-1.0</td>\n",
              "      <td>-1.0</td>\n",
              "      <td>-1.0</td>\n",
              "      <td>-1.0</td>\n",
              "      <td>-1.0</td>\n",
              "      <td>-1.0</td>\n",
              "      <td>-1.0</td>\n",
              "    </tr>\n",
              "    <tr>\n",
              "      <th>7238</th>\n",
              "      <td>2.0</td>\n",
              "      <td>-1.0</td>\n",
              "      <td>-1.0</td>\n",
              "      <td>-1.0</td>\n",
              "      <td>-1.000</td>\n",
              "      <td>-0.112</td>\n",
              "      <td>0.893</td>\n",
              "      <td>-0.042</td>\n",
              "      <td>-0.979</td>\n",
              "      <td>-1.000</td>\n",
              "      <td>-1.000</td>\n",
              "      <td>-1.000</td>\n",
              "      <td>-1.000</td>\n",
              "      <td>-1.0</td>\n",
              "      <td>-1.0</td>\n",
              "      <td>-1.0</td>\n",
              "      <td>-1.0</td>\n",
              "      <td>-1.0</td>\n",
              "      <td>-1.0</td>\n",
              "      <td>-0.744</td>\n",
              "      <td>0.396</td>\n",
              "      <td>0.980</td>\n",
              "      <td>1.000</td>\n",
              "      <td>1.000</td>\n",
              "      <td>0.417</td>\n",
              "      <td>-0.628</td>\n",
              "      <td>-1.000</td>\n",
              "      <td>-1.0</td>\n",
              "      <td>-1.000</td>\n",
              "      <td>-1.000</td>\n",
              "      <td>-1.0</td>\n",
              "      <td>-1.000</td>\n",
              "      <td>-1.000</td>\n",
              "      <td>-1.0</td>\n",
              "      <td>-1.000</td>\n",
              "      <td>0.403</td>\n",
              "      <td>1.000</td>\n",
              "      <td>1.000</td>\n",
              "      <td>1.000</td>\n",
              "      <td>1.000</td>\n",
              "      <td>...</td>\n",
              "      <td>0.610</td>\n",
              "      <td>-0.479</td>\n",
              "      <td>-1.000</td>\n",
              "      <td>-0.98</td>\n",
              "      <td>0.088</td>\n",
              "      <td>0.801</td>\n",
              "      <td>0.521</td>\n",
              "      <td>-1.0</td>\n",
              "      <td>-1.0</td>\n",
              "      <td>0.363</td>\n",
              "      <td>1.000</td>\n",
              "      <td>1.000</td>\n",
              "      <td>1.000</td>\n",
              "      <td>1.000</td>\n",
              "      <td>0.977</td>\n",
              "      <td>-0.069</td>\n",
              "      <td>-0.760</td>\n",
              "      <td>-1.000</td>\n",
              "      <td>-1.000</td>\n",
              "      <td>-1.0</td>\n",
              "      <td>-1.0</td>\n",
              "      <td>-0.925</td>\n",
              "      <td>-0.855</td>\n",
              "      <td>-1.0</td>\n",
              "      <td>-1.0</td>\n",
              "      <td>-0.908</td>\n",
              "      <td>0.16</td>\n",
              "      <td>0.662</td>\n",
              "      <td>1.000</td>\n",
              "      <td>0.581</td>\n",
              "      <td>-0.280</td>\n",
              "      <td>-1.000</td>\n",
              "      <td>-1.000</td>\n",
              "      <td>-1.0</td>\n",
              "      <td>-1.0</td>\n",
              "      <td>-1.0</td>\n",
              "      <td>-1.0</td>\n",
              "      <td>-1.0</td>\n",
              "      <td>-1.0</td>\n",
              "      <td>-1.0</td>\n",
              "    </tr>\n",
              "    <tr>\n",
              "      <th>7243</th>\n",
              "      <td>2.0</td>\n",
              "      <td>-1.0</td>\n",
              "      <td>-1.0</td>\n",
              "      <td>-1.0</td>\n",
              "      <td>-1.000</td>\n",
              "      <td>-0.750</td>\n",
              "      <td>-0.066</td>\n",
              "      <td>0.529</td>\n",
              "      <td>0.357</td>\n",
              "      <td>-0.734</td>\n",
              "      <td>-1.000</td>\n",
              "      <td>-1.000</td>\n",
              "      <td>-1.000</td>\n",
              "      <td>-1.0</td>\n",
              "      <td>-1.0</td>\n",
              "      <td>-1.0</td>\n",
              "      <td>-1.0</td>\n",
              "      <td>-1.0</td>\n",
              "      <td>-1.0</td>\n",
              "      <td>-1.000</td>\n",
              "      <td>-0.435</td>\n",
              "      <td>0.890</td>\n",
              "      <td>1.000</td>\n",
              "      <td>1.000</td>\n",
              "      <td>1.000</td>\n",
              "      <td>0.932</td>\n",
              "      <td>-0.563</td>\n",
              "      <td>-1.0</td>\n",
              "      <td>-1.000</td>\n",
              "      <td>-1.000</td>\n",
              "      <td>-1.0</td>\n",
              "      <td>-1.000</td>\n",
              "      <td>-1.000</td>\n",
              "      <td>-1.0</td>\n",
              "      <td>-0.786</td>\n",
              "      <td>-0.139</td>\n",
              "      <td>0.929</td>\n",
              "      <td>1.000</td>\n",
              "      <td>1.000</td>\n",
              "      <td>0.787</td>\n",
              "      <td>...</td>\n",
              "      <td>1.000</td>\n",
              "      <td>0.997</td>\n",
              "      <td>-0.603</td>\n",
              "      <td>-1.00</td>\n",
              "      <td>-1.000</td>\n",
              "      <td>-1.000</td>\n",
              "      <td>-1.000</td>\n",
              "      <td>-1.0</td>\n",
              "      <td>-1.0</td>\n",
              "      <td>-0.959</td>\n",
              "      <td>-0.024</td>\n",
              "      <td>0.883</td>\n",
              "      <td>1.000</td>\n",
              "      <td>1.000</td>\n",
              "      <td>1.000</td>\n",
              "      <td>1.000</td>\n",
              "      <td>0.946</td>\n",
              "      <td>0.024</td>\n",
              "      <td>-0.989</td>\n",
              "      <td>-1.0</td>\n",
              "      <td>-1.0</td>\n",
              "      <td>-1.000</td>\n",
              "      <td>-1.000</td>\n",
              "      <td>-1.0</td>\n",
              "      <td>-1.0</td>\n",
              "      <td>-1.000</td>\n",
              "      <td>-1.00</td>\n",
              "      <td>-0.901</td>\n",
              "      <td>-0.293</td>\n",
              "      <td>0.427</td>\n",
              "      <td>0.599</td>\n",
              "      <td>0.387</td>\n",
              "      <td>-0.645</td>\n",
              "      <td>-1.0</td>\n",
              "      <td>-1.0</td>\n",
              "      <td>-1.0</td>\n",
              "      <td>-1.0</td>\n",
              "      <td>-1.0</td>\n",
              "      <td>-1.0</td>\n",
              "      <td>-1.0</td>\n",
              "    </tr>\n",
              "    <tr>\n",
              "      <th>7244</th>\n",
              "      <td>7.0</td>\n",
              "      <td>-1.0</td>\n",
              "      <td>-1.0</td>\n",
              "      <td>-1.0</td>\n",
              "      <td>-1.000</td>\n",
              "      <td>-1.000</td>\n",
              "      <td>-0.954</td>\n",
              "      <td>0.125</td>\n",
              "      <td>0.709</td>\n",
              "      <td>0.647</td>\n",
              "      <td>0.457</td>\n",
              "      <td>0.095</td>\n",
              "      <td>-0.663</td>\n",
              "      <td>-1.0</td>\n",
              "      <td>-1.0</td>\n",
              "      <td>-1.0</td>\n",
              "      <td>-1.0</td>\n",
              "      <td>-1.0</td>\n",
              "      <td>-1.0</td>\n",
              "      <td>-1.000</td>\n",
              "      <td>-1.000</td>\n",
              "      <td>-0.968</td>\n",
              "      <td>0.007</td>\n",
              "      <td>1.000</td>\n",
              "      <td>1.000</td>\n",
              "      <td>1.000</td>\n",
              "      <td>1.000</td>\n",
              "      <td>1.0</td>\n",
              "      <td>0.901</td>\n",
              "      <td>-0.547</td>\n",
              "      <td>-1.0</td>\n",
              "      <td>-1.000</td>\n",
              "      <td>-1.000</td>\n",
              "      <td>-1.0</td>\n",
              "      <td>-1.000</td>\n",
              "      <td>-1.000</td>\n",
              "      <td>-0.993</td>\n",
              "      <td>0.043</td>\n",
              "      <td>1.000</td>\n",
              "      <td>0.991</td>\n",
              "      <td>...</td>\n",
              "      <td>0.998</td>\n",
              "      <td>-0.616</td>\n",
              "      <td>-1.000</td>\n",
              "      <td>-1.00</td>\n",
              "      <td>-1.000</td>\n",
              "      <td>-1.000</td>\n",
              "      <td>-1.000</td>\n",
              "      <td>-1.0</td>\n",
              "      <td>-1.0</td>\n",
              "      <td>-1.000</td>\n",
              "      <td>-1.000</td>\n",
              "      <td>-1.000</td>\n",
              "      <td>-1.000</td>\n",
              "      <td>-1.000</td>\n",
              "      <td>0.232</td>\n",
              "      <td>1.000</td>\n",
              "      <td>0.485</td>\n",
              "      <td>-0.974</td>\n",
              "      <td>-1.000</td>\n",
              "      <td>-1.0</td>\n",
              "      <td>-1.0</td>\n",
              "      <td>-1.000</td>\n",
              "      <td>-1.000</td>\n",
              "      <td>-1.0</td>\n",
              "      <td>-1.0</td>\n",
              "      <td>-1.000</td>\n",
              "      <td>-1.00</td>\n",
              "      <td>-1.000</td>\n",
              "      <td>-1.000</td>\n",
              "      <td>-1.000</td>\n",
              "      <td>-0.491</td>\n",
              "      <td>0.866</td>\n",
              "      <td>-0.065</td>\n",
              "      <td>-1.0</td>\n",
              "      <td>-1.0</td>\n",
              "      <td>-1.0</td>\n",
              "      <td>-1.0</td>\n",
              "      <td>-1.0</td>\n",
              "      <td>-1.0</td>\n",
              "      <td>-1.0</td>\n",
              "    </tr>\n",
              "    <tr>\n",
              "      <th>7255</th>\n",
              "      <td>2.0</td>\n",
              "      <td>-1.0</td>\n",
              "      <td>-1.0</td>\n",
              "      <td>-1.0</td>\n",
              "      <td>-1.000</td>\n",
              "      <td>-1.000</td>\n",
              "      <td>-1.000</td>\n",
              "      <td>-1.000</td>\n",
              "      <td>-1.000</td>\n",
              "      <td>-1.000</td>\n",
              "      <td>-1.000</td>\n",
              "      <td>-1.000</td>\n",
              "      <td>-1.000</td>\n",
              "      <td>-1.0</td>\n",
              "      <td>-1.0</td>\n",
              "      <td>-1.0</td>\n",
              "      <td>-1.0</td>\n",
              "      <td>-1.0</td>\n",
              "      <td>-1.0</td>\n",
              "      <td>-1.000</td>\n",
              "      <td>-1.000</td>\n",
              "      <td>-1.000</td>\n",
              "      <td>-0.828</td>\n",
              "      <td>-0.917</td>\n",
              "      <td>-1.000</td>\n",
              "      <td>-1.000</td>\n",
              "      <td>-1.000</td>\n",
              "      <td>-1.0</td>\n",
              "      <td>-1.000</td>\n",
              "      <td>-1.000</td>\n",
              "      <td>-1.0</td>\n",
              "      <td>-1.000</td>\n",
              "      <td>-1.000</td>\n",
              "      <td>-1.0</td>\n",
              "      <td>-0.999</td>\n",
              "      <td>-0.604</td>\n",
              "      <td>0.268</td>\n",
              "      <td>0.787</td>\n",
              "      <td>0.973</td>\n",
              "      <td>0.777</td>\n",
              "      <td>...</td>\n",
              "      <td>-1.000</td>\n",
              "      <td>-1.000</td>\n",
              "      <td>-1.000</td>\n",
              "      <td>-1.00</td>\n",
              "      <td>-1.000</td>\n",
              "      <td>-1.000</td>\n",
              "      <td>-1.000</td>\n",
              "      <td>-1.0</td>\n",
              "      <td>-1.0</td>\n",
              "      <td>-1.000</td>\n",
              "      <td>-0.792</td>\n",
              "      <td>-0.771</td>\n",
              "      <td>-0.964</td>\n",
              "      <td>-1.000</td>\n",
              "      <td>-1.000</td>\n",
              "      <td>-1.000</td>\n",
              "      <td>-1.000</td>\n",
              "      <td>-1.000</td>\n",
              "      <td>-1.000</td>\n",
              "      <td>-1.0</td>\n",
              "      <td>-1.0</td>\n",
              "      <td>-1.000</td>\n",
              "      <td>-1.000</td>\n",
              "      <td>-1.0</td>\n",
              "      <td>-1.0</td>\n",
              "      <td>-1.000</td>\n",
              "      <td>-1.00</td>\n",
              "      <td>-1.000</td>\n",
              "      <td>-1.000</td>\n",
              "      <td>-1.000</td>\n",
              "      <td>-1.000</td>\n",
              "      <td>-1.000</td>\n",
              "      <td>-1.000</td>\n",
              "      <td>-1.0</td>\n",
              "      <td>-1.0</td>\n",
              "      <td>-1.0</td>\n",
              "      <td>-1.0</td>\n",
              "      <td>-1.0</td>\n",
              "      <td>-1.0</td>\n",
              "      <td>-1.0</td>\n",
              "    </tr>\n",
              "  </tbody>\n",
              "</table>\n",
              "<p>5 rows × 257 columns</p>\n",
              "</div>"
            ],
            "text/plain": [
              "      0    1    2    3      4      5    ...  251  252  253  254  255  256\n",
              "7206  7.0 -1.0 -1.0 -1.0 -0.752  0.189  ... -1.0 -1.0 -1.0 -1.0 -1.0 -1.0\n",
              "7238  2.0 -1.0 -1.0 -1.0 -1.000 -0.112  ... -1.0 -1.0 -1.0 -1.0 -1.0 -1.0\n",
              "7243  2.0 -1.0 -1.0 -1.0 -1.000 -0.750  ... -1.0 -1.0 -1.0 -1.0 -1.0 -1.0\n",
              "7244  7.0 -1.0 -1.0 -1.0 -1.000 -1.000  ... -1.0 -1.0 -1.0 -1.0 -1.0 -1.0\n",
              "7255  2.0 -1.0 -1.0 -1.0 -1.000 -1.000  ... -1.0 -1.0 -1.0 -1.0 -1.0 -1.0\n",
              "\n",
              "[5 rows x 257 columns]"
            ]
          },
          "metadata": {
            "tags": []
          },
          "execution_count": 39
        }
      ]
    },
    {
      "cell_type": "code",
      "metadata": {
        "colab": {
          "base_uri": "https://localhost:8080/"
        },
        "id": "lS_K7pEmOU89",
        "outputId": "2205bd78-227c-4d29-81cd-a133fc2724bf"
      },
      "source": [
        "# Check number rows & columns\r\n",
        "binar_train.shape"
      ],
      "execution_count": 40,
      "outputs": [
        {
          "output_type": "execute_result",
          "data": {
            "text/plain": [
              "(1376, 257)"
            ]
          },
          "metadata": {
            "tags": []
          },
          "execution_count": 40
        }
      ]
    },
    {
      "cell_type": "code",
      "metadata": {
        "colab": {
          "base_uri": "https://localhost:8080/",
          "height": 253
        },
        "id": "JpLowYCX0sMh",
        "outputId": "55fba975-674c-4b3e-cbaf-215b8bf8c5fd"
      },
      "source": [
        "# Select the rows corresponding to digits 2 and 7. Save in variable binar_test\r\n",
        "binar_test = ziptest[(ziptest.iloc[:, 0]==7) | (ziptest.iloc[:, 0]==2)]\r\n",
        "binar_test.tail()"
      ],
      "execution_count": 41,
      "outputs": [
        {
          "output_type": "execute_result",
          "data": {
            "text/html": [
              "<div>\n",
              "<style scoped>\n",
              "    .dataframe tbody tr th:only-of-type {\n",
              "        vertical-align: middle;\n",
              "    }\n",
              "\n",
              "    .dataframe tbody tr th {\n",
              "        vertical-align: top;\n",
              "    }\n",
              "\n",
              "    .dataframe thead th {\n",
              "        text-align: right;\n",
              "    }\n",
              "</style>\n",
              "<table border=\"1\" class=\"dataframe\">\n",
              "  <thead>\n",
              "    <tr style=\"text-align: right;\">\n",
              "      <th></th>\n",
              "      <th>0</th>\n",
              "      <th>1</th>\n",
              "      <th>2</th>\n",
              "      <th>3</th>\n",
              "      <th>4</th>\n",
              "      <th>5</th>\n",
              "      <th>6</th>\n",
              "      <th>7</th>\n",
              "      <th>8</th>\n",
              "      <th>9</th>\n",
              "      <th>10</th>\n",
              "      <th>11</th>\n",
              "      <th>12</th>\n",
              "      <th>13</th>\n",
              "      <th>14</th>\n",
              "      <th>15</th>\n",
              "      <th>16</th>\n",
              "      <th>17</th>\n",
              "      <th>18</th>\n",
              "      <th>19</th>\n",
              "      <th>20</th>\n",
              "      <th>21</th>\n",
              "      <th>22</th>\n",
              "      <th>23</th>\n",
              "      <th>24</th>\n",
              "      <th>25</th>\n",
              "      <th>26</th>\n",
              "      <th>27</th>\n",
              "      <th>28</th>\n",
              "      <th>29</th>\n",
              "      <th>30</th>\n",
              "      <th>31</th>\n",
              "      <th>32</th>\n",
              "      <th>33</th>\n",
              "      <th>34</th>\n",
              "      <th>35</th>\n",
              "      <th>36</th>\n",
              "      <th>37</th>\n",
              "      <th>38</th>\n",
              "      <th>39</th>\n",
              "      <th>...</th>\n",
              "      <th>217</th>\n",
              "      <th>218</th>\n",
              "      <th>219</th>\n",
              "      <th>220</th>\n",
              "      <th>221</th>\n",
              "      <th>222</th>\n",
              "      <th>223</th>\n",
              "      <th>224</th>\n",
              "      <th>225</th>\n",
              "      <th>226</th>\n",
              "      <th>227</th>\n",
              "      <th>228</th>\n",
              "      <th>229</th>\n",
              "      <th>230</th>\n",
              "      <th>231</th>\n",
              "      <th>232</th>\n",
              "      <th>233</th>\n",
              "      <th>234</th>\n",
              "      <th>235</th>\n",
              "      <th>236</th>\n",
              "      <th>237</th>\n",
              "      <th>238</th>\n",
              "      <th>239</th>\n",
              "      <th>240</th>\n",
              "      <th>241</th>\n",
              "      <th>242</th>\n",
              "      <th>243</th>\n",
              "      <th>244</th>\n",
              "      <th>245</th>\n",
              "      <th>246</th>\n",
              "      <th>247</th>\n",
              "      <th>248</th>\n",
              "      <th>249</th>\n",
              "      <th>250</th>\n",
              "      <th>251</th>\n",
              "      <th>252</th>\n",
              "      <th>253</th>\n",
              "      <th>254</th>\n",
              "      <th>255</th>\n",
              "      <th>256</th>\n",
              "    </tr>\n",
              "  </thead>\n",
              "  <tbody>\n",
              "    <tr>\n",
              "      <th>1962</th>\n",
              "      <td>7</td>\n",
              "      <td>-1.000</td>\n",
              "      <td>-1.0</td>\n",
              "      <td>-1.000</td>\n",
              "      <td>-1.00</td>\n",
              "      <td>-1.000</td>\n",
              "      <td>-1.000</td>\n",
              "      <td>-0.982</td>\n",
              "      <td>-0.629</td>\n",
              "      <td>0.059</td>\n",
              "      <td>0.571</td>\n",
              "      <td>1.0</td>\n",
              "      <td>1.0</td>\n",
              "      <td>0.940</td>\n",
              "      <td>0.050</td>\n",
              "      <td>-1.000</td>\n",
              "      <td>-1.000</td>\n",
              "      <td>-1.000</td>\n",
              "      <td>-1.000</td>\n",
              "      <td>-1.000</td>\n",
              "      <td>-0.867</td>\n",
              "      <td>-0.319</td>\n",
              "      <td>0.272</td>\n",
              "      <td>0.767</td>\n",
              "      <td>1.000</td>\n",
              "      <td>1.000</td>\n",
              "      <td>0.532</td>\n",
              "      <td>0.155</td>\n",
              "      <td>0.155</td>\n",
              "      <td>0.810</td>\n",
              "      <td>0.976</td>\n",
              "      <td>-0.502</td>\n",
              "      <td>-1.000</td>\n",
              "      <td>-1.000</td>\n",
              "      <td>-0.529</td>\n",
              "      <td>-0.033</td>\n",
              "      <td>0.775</td>\n",
              "      <td>1.000</td>\n",
              "      <td>0.796</td>\n",
              "      <td>0.295</td>\n",
              "      <td>...</td>\n",
              "      <td>0.979</td>\n",
              "      <td>0.564</td>\n",
              "      <td>-1.000</td>\n",
              "      <td>-1.000</td>\n",
              "      <td>-1.000</td>\n",
              "      <td>-1.000</td>\n",
              "      <td>-1.000</td>\n",
              "      <td>-1.000</td>\n",
              "      <td>-1.000</td>\n",
              "      <td>-1.000</td>\n",
              "      <td>-1.000</td>\n",
              "      <td>-1.000</td>\n",
              "      <td>-1.000</td>\n",
              "      <td>-1.000</td>\n",
              "      <td>-1.000</td>\n",
              "      <td>0.199</td>\n",
              "      <td>1.000</td>\n",
              "      <td>-0.302</td>\n",
              "      <td>-1.000</td>\n",
              "      <td>-1.000</td>\n",
              "      <td>-1.000</td>\n",
              "      <td>-1.000</td>\n",
              "      <td>-1.000</td>\n",
              "      <td>-1.0</td>\n",
              "      <td>-1.0</td>\n",
              "      <td>-1.000</td>\n",
              "      <td>-1.000</td>\n",
              "      <td>-1.000</td>\n",
              "      <td>-1.000</td>\n",
              "      <td>-1.000</td>\n",
              "      <td>-1.000</td>\n",
              "      <td>0.189</td>\n",
              "      <td>0.373</td>\n",
              "      <td>-0.972</td>\n",
              "      <td>-1.000</td>\n",
              "      <td>-1.000</td>\n",
              "      <td>-1.000</td>\n",
              "      <td>-1.00</td>\n",
              "      <td>-1.000</td>\n",
              "      <td>-1.0</td>\n",
              "    </tr>\n",
              "    <tr>\n",
              "      <th>1964</th>\n",
              "      <td>2</td>\n",
              "      <td>-0.281</td>\n",
              "      <td>1.0</td>\n",
              "      <td>-0.123</td>\n",
              "      <td>-1.00</td>\n",
              "      <td>-1.000</td>\n",
              "      <td>-1.000</td>\n",
              "      <td>-1.000</td>\n",
              "      <td>-1.000</td>\n",
              "      <td>-1.000</td>\n",
              "      <td>-1.000</td>\n",
              "      <td>-1.0</td>\n",
              "      <td>-1.0</td>\n",
              "      <td>-0.775</td>\n",
              "      <td>0.986</td>\n",
              "      <td>0.909</td>\n",
              "      <td>-0.742</td>\n",
              "      <td>-0.157</td>\n",
              "      <td>1.000</td>\n",
              "      <td>-0.046</td>\n",
              "      <td>-1.000</td>\n",
              "      <td>-1.000</td>\n",
              "      <td>-1.000</td>\n",
              "      <td>-1.000</td>\n",
              "      <td>-1.000</td>\n",
              "      <td>-1.000</td>\n",
              "      <td>-1.000</td>\n",
              "      <td>-1.000</td>\n",
              "      <td>-1.000</td>\n",
              "      <td>-0.598</td>\n",
              "      <td>1.000</td>\n",
              "      <td>0.900</td>\n",
              "      <td>-0.923</td>\n",
              "      <td>-0.980</td>\n",
              "      <td>-0.035</td>\n",
              "      <td>0.325</td>\n",
              "      <td>-0.796</td>\n",
              "      <td>-1.000</td>\n",
              "      <td>-1.000</td>\n",
              "      <td>-1.000</td>\n",
              "      <td>...</td>\n",
              "      <td>1.000</td>\n",
              "      <td>1.000</td>\n",
              "      <td>1.000</td>\n",
              "      <td>1.000</td>\n",
              "      <td>1.000</td>\n",
              "      <td>0.904</td>\n",
              "      <td>0.871</td>\n",
              "      <td>-0.332</td>\n",
              "      <td>-0.739</td>\n",
              "      <td>0.789</td>\n",
              "      <td>1.000</td>\n",
              "      <td>1.000</td>\n",
              "      <td>1.000</td>\n",
              "      <td>1.000</td>\n",
              "      <td>1.000</td>\n",
              "      <td>1.000</td>\n",
              "      <td>1.000</td>\n",
              "      <td>1.000</td>\n",
              "      <td>0.889</td>\n",
              "      <td>-0.542</td>\n",
              "      <td>-0.613</td>\n",
              "      <td>-0.874</td>\n",
              "      <td>-1.000</td>\n",
              "      <td>-0.8</td>\n",
              "      <td>-1.0</td>\n",
              "      <td>-0.877</td>\n",
              "      <td>-0.086</td>\n",
              "      <td>0.469</td>\n",
              "      <td>0.261</td>\n",
              "      <td>0.440</td>\n",
              "      <td>0.487</td>\n",
              "      <td>0.983</td>\n",
              "      <td>1.000</td>\n",
              "      <td>0.651</td>\n",
              "      <td>-0.711</td>\n",
              "      <td>-1.000</td>\n",
              "      <td>-1.000</td>\n",
              "      <td>-1.00</td>\n",
              "      <td>-1.000</td>\n",
              "      <td>-1.0</td>\n",
              "    </tr>\n",
              "    <tr>\n",
              "      <th>1986</th>\n",
              "      <td>2</td>\n",
              "      <td>-1.000</td>\n",
              "      <td>-1.0</td>\n",
              "      <td>-1.000</td>\n",
              "      <td>-1.00</td>\n",
              "      <td>-1.000</td>\n",
              "      <td>-1.000</td>\n",
              "      <td>-1.000</td>\n",
              "      <td>-1.000</td>\n",
              "      <td>-1.000</td>\n",
              "      <td>-1.000</td>\n",
              "      <td>-1.0</td>\n",
              "      <td>-1.0</td>\n",
              "      <td>-1.000</td>\n",
              "      <td>-1.000</td>\n",
              "      <td>-1.000</td>\n",
              "      <td>-1.000</td>\n",
              "      <td>-1.000</td>\n",
              "      <td>-1.000</td>\n",
              "      <td>-0.988</td>\n",
              "      <td>-0.514</td>\n",
              "      <td>0.202</td>\n",
              "      <td>0.400</td>\n",
              "      <td>0.964</td>\n",
              "      <td>0.488</td>\n",
              "      <td>0.240</td>\n",
              "      <td>-0.582</td>\n",
              "      <td>-1.000</td>\n",
              "      <td>-1.000</td>\n",
              "      <td>-1.000</td>\n",
              "      <td>-1.000</td>\n",
              "      <td>-1.000</td>\n",
              "      <td>-1.000</td>\n",
              "      <td>-1.000</td>\n",
              "      <td>-0.896</td>\n",
              "      <td>0.279</td>\n",
              "      <td>0.983</td>\n",
              "      <td>1.000</td>\n",
              "      <td>1.000</td>\n",
              "      <td>1.000</td>\n",
              "      <td>...</td>\n",
              "      <td>0.142</td>\n",
              "      <td>-0.044</td>\n",
              "      <td>-0.591</td>\n",
              "      <td>-0.859</td>\n",
              "      <td>-1.000</td>\n",
              "      <td>-1.000</td>\n",
              "      <td>-1.000</td>\n",
              "      <td>-1.000</td>\n",
              "      <td>0.554</td>\n",
              "      <td>0.976</td>\n",
              "      <td>0.604</td>\n",
              "      <td>0.065</td>\n",
              "      <td>-0.474</td>\n",
              "      <td>-0.808</td>\n",
              "      <td>-0.825</td>\n",
              "      <td>-1.000</td>\n",
              "      <td>-1.000</td>\n",
              "      <td>-1.000</td>\n",
              "      <td>-1.000</td>\n",
              "      <td>-1.000</td>\n",
              "      <td>-1.000</td>\n",
              "      <td>-1.000</td>\n",
              "      <td>-1.000</td>\n",
              "      <td>-1.0</td>\n",
              "      <td>-1.0</td>\n",
              "      <td>-1.000</td>\n",
              "      <td>-1.000</td>\n",
              "      <td>-1.000</td>\n",
              "      <td>-1.000</td>\n",
              "      <td>-1.000</td>\n",
              "      <td>-1.000</td>\n",
              "      <td>-1.000</td>\n",
              "      <td>-1.000</td>\n",
              "      <td>-1.000</td>\n",
              "      <td>-1.000</td>\n",
              "      <td>-1.000</td>\n",
              "      <td>-1.000</td>\n",
              "      <td>-1.00</td>\n",
              "      <td>-1.000</td>\n",
              "      <td>-1.0</td>\n",
              "    </tr>\n",
              "    <tr>\n",
              "      <th>1997</th>\n",
              "      <td>7</td>\n",
              "      <td>-1.000</td>\n",
              "      <td>-1.0</td>\n",
              "      <td>-1.000</td>\n",
              "      <td>-1.00</td>\n",
              "      <td>-0.766</td>\n",
              "      <td>-0.883</td>\n",
              "      <td>-0.465</td>\n",
              "      <td>0.115</td>\n",
              "      <td>0.492</td>\n",
              "      <td>0.946</td>\n",
              "      <td>1.0</td>\n",
              "      <td>1.0</td>\n",
              "      <td>0.828</td>\n",
              "      <td>0.019</td>\n",
              "      <td>-0.928</td>\n",
              "      <td>-1.000</td>\n",
              "      <td>-1.000</td>\n",
              "      <td>-0.926</td>\n",
              "      <td>-0.556</td>\n",
              "      <td>0.127</td>\n",
              "      <td>0.982</td>\n",
              "      <td>0.976</td>\n",
              "      <td>1.000</td>\n",
              "      <td>0.742</td>\n",
              "      <td>0.556</td>\n",
              "      <td>0.556</td>\n",
              "      <td>0.298</td>\n",
              "      <td>0.562</td>\n",
              "      <td>0.997</td>\n",
              "      <td>1.000</td>\n",
              "      <td>-0.037</td>\n",
              "      <td>-1.000</td>\n",
              "      <td>-0.976</td>\n",
              "      <td>0.600</td>\n",
              "      <td>1.000</td>\n",
              "      <td>0.891</td>\n",
              "      <td>0.514</td>\n",
              "      <td>-0.195</td>\n",
              "      <td>-0.518</td>\n",
              "      <td>...</td>\n",
              "      <td>0.668</td>\n",
              "      <td>-0.846</td>\n",
              "      <td>-1.000</td>\n",
              "      <td>-1.000</td>\n",
              "      <td>-1.000</td>\n",
              "      <td>-1.000</td>\n",
              "      <td>-1.000</td>\n",
              "      <td>-1.000</td>\n",
              "      <td>-1.000</td>\n",
              "      <td>-1.000</td>\n",
              "      <td>-1.000</td>\n",
              "      <td>-1.000</td>\n",
              "      <td>-1.000</td>\n",
              "      <td>-0.656</td>\n",
              "      <td>0.765</td>\n",
              "      <td>0.561</td>\n",
              "      <td>-0.847</td>\n",
              "      <td>-1.000</td>\n",
              "      <td>-1.000</td>\n",
              "      <td>-1.000</td>\n",
              "      <td>-1.000</td>\n",
              "      <td>-1.000</td>\n",
              "      <td>-1.000</td>\n",
              "      <td>-1.0</td>\n",
              "      <td>-1.0</td>\n",
              "      <td>-1.000</td>\n",
              "      <td>-1.000</td>\n",
              "      <td>-1.000</td>\n",
              "      <td>-1.000</td>\n",
              "      <td>0.320</td>\n",
              "      <td>0.298</td>\n",
              "      <td>-0.845</td>\n",
              "      <td>-1.000</td>\n",
              "      <td>-1.000</td>\n",
              "      <td>-1.000</td>\n",
              "      <td>-1.000</td>\n",
              "      <td>-1.000</td>\n",
              "      <td>-1.00</td>\n",
              "      <td>-1.000</td>\n",
              "      <td>-1.0</td>\n",
              "    </tr>\n",
              "    <tr>\n",
              "      <th>1999</th>\n",
              "      <td>2</td>\n",
              "      <td>-1.000</td>\n",
              "      <td>-1.0</td>\n",
              "      <td>-1.000</td>\n",
              "      <td>-0.98</td>\n",
              "      <td>0.078</td>\n",
              "      <td>0.360</td>\n",
              "      <td>0.814</td>\n",
              "      <td>0.725</td>\n",
              "      <td>-0.444</td>\n",
              "      <td>-1.000</td>\n",
              "      <td>-1.0</td>\n",
              "      <td>-1.0</td>\n",
              "      <td>-1.000</td>\n",
              "      <td>-1.000</td>\n",
              "      <td>-1.000</td>\n",
              "      <td>-1.000</td>\n",
              "      <td>-1.000</td>\n",
              "      <td>-1.000</td>\n",
              "      <td>-1.000</td>\n",
              "      <td>-0.005</td>\n",
              "      <td>1.000</td>\n",
              "      <td>1.000</td>\n",
              "      <td>1.000</td>\n",
              "      <td>1.000</td>\n",
              "      <td>0.928</td>\n",
              "      <td>-0.174</td>\n",
              "      <td>-0.922</td>\n",
              "      <td>-1.000</td>\n",
              "      <td>-1.000</td>\n",
              "      <td>-1.000</td>\n",
              "      <td>-1.000</td>\n",
              "      <td>-1.000</td>\n",
              "      <td>-1.000</td>\n",
              "      <td>-1.000</td>\n",
              "      <td>-1.000</td>\n",
              "      <td>0.440</td>\n",
              "      <td>1.000</td>\n",
              "      <td>1.000</td>\n",
              "      <td>1.000</td>\n",
              "      <td>...</td>\n",
              "      <td>0.962</td>\n",
              "      <td>1.000</td>\n",
              "      <td>1.000</td>\n",
              "      <td>1.000</td>\n",
              "      <td>0.589</td>\n",
              "      <td>-0.858</td>\n",
              "      <td>-1.000</td>\n",
              "      <td>-1.000</td>\n",
              "      <td>-1.000</td>\n",
              "      <td>-1.000</td>\n",
              "      <td>-0.743</td>\n",
              "      <td>0.733</td>\n",
              "      <td>1.000</td>\n",
              "      <td>0.888</td>\n",
              "      <td>0.856</td>\n",
              "      <td>1.000</td>\n",
              "      <td>1.000</td>\n",
              "      <td>0.572</td>\n",
              "      <td>-0.610</td>\n",
              "      <td>0.554</td>\n",
              "      <td>1.000</td>\n",
              "      <td>0.647</td>\n",
              "      <td>-0.493</td>\n",
              "      <td>-1.0</td>\n",
              "      <td>-1.0</td>\n",
              "      <td>-1.000</td>\n",
              "      <td>-1.000</td>\n",
              "      <td>-0.775</td>\n",
              "      <td>0.328</td>\n",
              "      <td>0.784</td>\n",
              "      <td>1.000</td>\n",
              "      <td>0.524</td>\n",
              "      <td>-0.246</td>\n",
              "      <td>-0.962</td>\n",
              "      <td>-1.000</td>\n",
              "      <td>-0.978</td>\n",
              "      <td>-0.109</td>\n",
              "      <td>0.36</td>\n",
              "      <td>-0.381</td>\n",
              "      <td>-1.0</td>\n",
              "    </tr>\n",
              "  </tbody>\n",
              "</table>\n",
              "<p>5 rows × 257 columns</p>\n",
              "</div>"
            ],
            "text/plain": [
              "      0      1    2      3     4    ...    252    253   254    255  256\n",
              "1962    7 -1.000 -1.0 -1.000 -1.00  ... -1.000 -1.000 -1.00 -1.000 -1.0\n",
              "1964    2 -0.281  1.0 -0.123 -1.00  ... -1.000 -1.000 -1.00 -1.000 -1.0\n",
              "1986    2 -1.000 -1.0 -1.000 -1.00  ... -1.000 -1.000 -1.00 -1.000 -1.0\n",
              "1997    7 -1.000 -1.0 -1.000 -1.00  ... -1.000 -1.000 -1.00 -1.000 -1.0\n",
              "1999    2 -1.000 -1.0 -1.000 -0.98  ... -0.978 -0.109  0.36 -0.381 -1.0\n",
              "\n",
              "[5 rows x 257 columns]"
            ]
          },
          "metadata": {
            "tags": []
          },
          "execution_count": 41
        }
      ]
    },
    {
      "cell_type": "code",
      "metadata": {
        "colab": {
          "base_uri": "https://localhost:8080/"
        },
        "id": "owZ_JSAgSFpb",
        "outputId": "7410d66a-d0d4-44e8-8cb5-3ef8bb7a0799"
      },
      "source": [
        "# Check number rows & columns\r\n",
        "binar_test.shape"
      ],
      "execution_count": 42,
      "outputs": [
        {
          "output_type": "execute_result",
          "data": {
            "text/plain": [
              "(345, 257)"
            ]
          },
          "metadata": {
            "tags": []
          },
          "execution_count": 42
        }
      ]
    },
    {
      "cell_type": "markdown",
      "metadata": {
        "id": "rAxjuJCN4t2J"
      },
      "source": [
        "**<font color=blue>Part B.2** <font color=black>Project binar_train onto the first two principal components and make a scatterplot of the data in the new space (two-dimensional space spanned by the frist two PCs). Use a different color (or marker) for each digit. Based on the plot do you think that these two digits can be separated well using only two PCs? Explain."
      ]
    },
    {
      "cell_type": "code",
      "metadata": {
        "colab": {
          "base_uri": "https://localhost:8080/"
        },
        "id": "g620sS03KIQB",
        "outputId": "68580a38-8d82-48d2-ac78-0bca1dc221ed"
      },
      "source": [
        "from sklearn.preprocessing import scale\r\n",
        "pca = PCA(n_components=2)\r\n",
        "\r\n",
        "# remove the first column (digits)\r\n",
        "X = binar_train.iloc[:, 1:]\r\n",
        "\r\n",
        "# The following independently standardizes each feature (it's the default value 0 for \"axis\" argument)\r\n",
        "X_std = scale(X.values)\r\n",
        "\r\n",
        "# Fitting the model on X_std\r\n",
        "pca.fit(X_std)"
      ],
      "execution_count": 43,
      "outputs": [
        {
          "output_type": "execute_result",
          "data": {
            "text/plain": [
              "PCA(copy=True, iterated_power='auto', n_components=2, random_state=None,\n",
              "    svd_solver='auto', tol=0.0, whiten=False)"
            ]
          },
          "metadata": {
            "tags": []
          },
          "execution_count": 43
        }
      ]
    },
    {
      "cell_type": "code",
      "metadata": {
        "colab": {
          "base_uri": "https://localhost:8080/"
        },
        "id": "FLUDFWfjN1GB",
        "outputId": "e3279568-5c0a-4e5e-b8ae-93cd34b705bb"
      },
      "source": [
        "# Apply the dimensionality reduction on X_std\r\n",
        "Z = pca.transform(X_std)\r\n",
        "print(Z)"
      ],
      "execution_count": 44,
      "outputs": [
        {
          "output_type": "stream",
          "text": [
            "[[-6.11800191 -4.3028646 ]\n",
            " [-5.18644635  4.16744197]\n",
            " [-2.83779909 -5.71463642]\n",
            " ...\n",
            " [ 7.04391443  2.4533297 ]\n",
            " [-5.8675928  -4.5470665 ]\n",
            " [ 7.10953625 -0.99112905]]\n"
          ],
          "name": "stdout"
        }
      ]
    },
    {
      "cell_type": "code",
      "metadata": {
        "colab": {
          "base_uri": "https://localhost:8080/",
          "height": 282
        },
        "id": "8XrnZuf_Z-Yf",
        "outputId": "d5b9b37a-24b8-4839-9b45-734ce56475cf"
      },
      "source": [
        "# Scatterplot of the data in the new space\r\n",
        "import matplotlib.patches as mpatches\r\n",
        "\r\n",
        "categorie = np.array(binar_train.iloc[:,0])\r\n",
        "categories = np.where(categorie == 2, 0, 1)\r\n",
        "colormap = np.array(['#0b559f', '#89bedc'])\r\n",
        "c=colormap[categories]\r\n",
        "#print(c)\r\n",
        "#print(categorie)\r\n",
        "\r\n",
        "plt.scatter(Z[:,0], Z[:,1], c=colormap[categories] , alpha=0.9);\r\n",
        "pop_a = mpatches.Patch(color='#0b559f', label='2')\r\n",
        "pop_b = mpatches.Patch(color='#89bedc', label='7')\r\n",
        "plt.legend(handles=[pop_a,pop_b])"
      ],
      "execution_count": 45,
      "outputs": [
        {
          "output_type": "execute_result",
          "data": {
            "text/plain": [
              "<matplotlib.collections.PathCollection at 0x7f4afaf659d0>"
            ]
          },
          "metadata": {
            "tags": []
          },
          "execution_count": 45
        },
        {
          "output_type": "execute_result",
          "data": {
            "text/plain": [
              "<matplotlib.legend.Legend at 0x7f4afaf651d0>"
            ]
          },
          "metadata": {
            "tags": []
          },
          "execution_count": 45
        },
        {
          "output_type": "display_data",
          "data": {
            "image/png": "[encoded data removed]",
            "text/plain": [
              "<Figure size 432x288 with 1 Axes>"
            ]
          },
          "metadata": {
            "tags": [],
            "needs_background": "light"
          }
        }
      ]
    },
    {
      "cell_type": "markdown",
      "metadata": {
        "id": "HVQi2VFBRmep"
      },
      "source": [
        "\r\n",
        "\r\n",
        "---\r\n",
        "\r\n",
        "<font color=blue> Based on the scatterplot, the two digits can be separeted well unsing two PC. We can see 2 separate class in the graph.\r\n",
        "\r\n",
        "---\r\n",
        "\r\n",
        "\r\n",
        "\r\n"
      ]
    },
    {
      "cell_type": "markdown",
      "metadata": {
        "id": "yiKybsnjfCzx"
      },
      "source": [
        "**<font color=blue>Part B.3** <font color=black>Fit a logistic regression, in the new space, to separate digits  2  and  7 ."
      ]
    },
    {
      "cell_type": "code",
      "metadata": {
        "colab": {
          "base_uri": "https://localhost:8080/"
        },
        "id": "-4eOf0JAe9Vx",
        "outputId": "1884a927-cce5-4096-e404-53ce7b3b40ff"
      },
      "source": [
        "# Logistic Regression\r\n",
        "\r\n",
        "# Response variable, use first column and put 0 if digit = 2 or 1 if digit = 7\r\n",
        "y = np.where(binar_train.iloc[:,0] == 2, 0, 1)\r\n",
        "\r\n",
        "lr = LogisticRegression()\r\n",
        "lr.fit(Z, y)\r\n",
        "print(f'\\nThe intercept is: {lr.intercept_}')\r\n",
        "print(f'The coefficients are: {lr.coef_}')"
      ],
      "execution_count": 47,
      "outputs": [
        {
          "output_type": "execute_result",
          "data": {
            "text/plain": [
              "LogisticRegression(C=1.0, class_weight=None, dual=False, fit_intercept=True,\n",
              "                   intercept_scaling=1, l1_ratio=None, max_iter=100,\n",
              "                   multi_class='auto', n_jobs=None, penalty='l2',\n",
              "                   random_state=None, solver='lbfgs', tol=0.0001, verbose=0,\n",
              "                   warm_start=False)"
            ]
          },
          "metadata": {
            "tags": []
          },
          "execution_count": 47
        },
        {
          "output_type": "stream",
          "text": [
            "\n",
            "The intercept is: [-1.27589118]\n",
            "The coefficients are: [[-1.13494142 -0.11286676]]\n"
          ],
          "name": "stdout"
        }
      ]
    },
    {
      "cell_type": "code",
      "metadata": {
        "id": "7JbDLJ-d054I"
      },
      "source": [
        "# Evaluate x and y predictive with the logistic regression\r\n",
        "X_pred = np.linspace(start = -15, stop = 20, num = 60).reshape(-1,1)\r\n",
        "y_pred = (1+np.exp(-(lr.intercept_ + lr.coef_*X_pred)))**(-1)"
      ],
      "execution_count": 48,
      "outputs": []
    },
    {
      "cell_type": "code",
      "metadata": {
        "colab": {
          "base_uri": "https://localhost:8080/",
          "height": 329
        },
        "id": "RpWvFv-12DTY",
        "outputId": "e6f4dd64-2693-435f-c0e4-feb4452e0da7"
      },
      "source": [
        "# Graph of Logistic Regression\r\n",
        "plt.plot(Z, y, 'or', mfc='none');\r\n",
        "plt.plot(X_pred, y_pred[:,0], '-b');\r\n",
        "plt.ylabel('Probability of digit 7');\r\n",
        "plt.xlabel('Dimensionality Reduction on X')\r\n",
        "plt.title('Logistic Regression')"
      ],
      "execution_count": 49,
      "outputs": [
        {
          "output_type": "execute_result",
          "data": {
            "text/plain": [
              "[<matplotlib.lines.Line2D at 0x7f4afe966850>,\n",
              " <matplotlib.lines.Line2D at 0x7f4af8675fd0>]"
            ]
          },
          "metadata": {
            "tags": []
          },
          "execution_count": 49
        },
        {
          "output_type": "execute_result",
          "data": {
            "text/plain": [
              "[<matplotlib.lines.Line2D at 0x7f4af86808d0>]"
            ]
          },
          "metadata": {
            "tags": []
          },
          "execution_count": 49
        },
        {
          "output_type": "execute_result",
          "data": {
            "text/plain": [
              "Text(0, 0.5, 'Probability of digit 7')"
            ]
          },
          "metadata": {
            "tags": []
          },
          "execution_count": 49
        },
        {
          "output_type": "execute_result",
          "data": {
            "text/plain": [
              "Text(0.5, 0, 'Dimensionality Reduction on X')"
            ]
          },
          "metadata": {
            "tags": []
          },
          "execution_count": 49
        },
        {
          "output_type": "execute_result",
          "data": {
            "text/plain": [
              "Text(0.5, 1.0, 'Logistic Regression')"
            ]
          },
          "metadata": {
            "tags": []
          },
          "execution_count": 49
        },
        {
          "output_type": "display_data",
          "data": {
            "image/png": "[encoded data removed]",
            "text/plain": [
              "<Figure size 432x288 with 1 Axes>"
            ]
          },
          "metadata": {
            "tags": [],
            "needs_background": "light"
          }
        }
      ]
    },
    {
      "cell_type": "markdown",
      "metadata": {
        "id": "_c5BYOqO3loq"
      },
      "source": [
        "**<font color=blue>Part B.4** <font color=black>Evaluate the trainded model on binar_test using accuracy, and an appropriate F-measure."
      ]
    },
    {
      "cell_type": "code",
      "metadata": {
        "colab": {
          "base_uri": "https://localhost:8080/"
        },
        "id": "y9x_QmHLJYOU",
        "outputId": "2e819208-b7c0-4bd2-cca3-17f5cc086f88"
      },
      "source": [
        "pca = PCA(n_components=2)\r\n",
        "\r\n",
        "# remove the first column (digits)\r\n",
        "X_test = binar_test.iloc[:, 1:]\r\n",
        "\r\n",
        "# The following independently standardizes each feature (it's the default value 0 for \"axis\" argument)\r\n",
        "X_test_std = scale(X_test.values)\r\n",
        "\r\n",
        "# Fitting the model with X_test_std \r\n",
        "pca.fit(X_test_std)"
      ],
      "execution_count": 50,
      "outputs": [
        {
          "output_type": "execute_result",
          "data": {
            "text/plain": [
              "PCA(copy=True, iterated_power='auto', n_components=2, random_state=None,\n",
              "    svd_solver='auto', tol=0.0, whiten=False)"
            ]
          },
          "metadata": {
            "tags": []
          },
          "execution_count": 50
        }
      ]
    },
    {
      "cell_type": "code",
      "metadata": {
        "colab": {
          "base_uri": "https://localhost:8080/"
        },
        "id": "LTkxElB6JdZv",
        "outputId": "1f22ea9a-675e-4b9f-bfad-bc5cb67c2737"
      },
      "source": [
        "# Apply the dimensionality reduction on X_test_std\r\n",
        "Z_test = pca.transform(X_test_std)\r\n",
        "print(Z_test.shape)"
      ],
      "execution_count": 51,
      "outputs": [
        {
          "output_type": "stream",
          "text": [
            "(345, 2)\n"
          ],
          "name": "stdout"
        }
      ]
    },
    {
      "cell_type": "code",
      "metadata": {
        "colab": {
          "base_uri": "https://localhost:8080/"
        },
        "id": "1UixrvvbJN0N",
        "outputId": "da793201-1c1a-4d71-e3ac-6b8cd22dd7e9"
      },
      "source": [
        "# Logistic Regression\r\n",
        "from sklearn.metrics import accuracy_score\r\n",
        "\r\n",
        "digits_test = np.array(binar_test.iloc[:,0])\r\n",
        "y_test = np.where(digits_test == 2, 0, 1)\r\n",
        "\r\n",
        "lr = LogisticRegression()\r\n",
        "lr.fit(Z_test, y_test)\r\n",
        "y_pred_test = lr.predict(Z_test)\r\n",
        "\r\n",
        "print(f'\\nThe intercept is: {lr.intercept_}')\r\n",
        "print(f'The coefficients are: {lr.coef_}')"
      ],
      "execution_count": 53,
      "outputs": [
        {
          "output_type": "execute_result",
          "data": {
            "text/plain": [
              "LogisticRegression(C=1.0, class_weight=None, dual=False, fit_intercept=True,\n",
              "                   intercept_scaling=1, l1_ratio=None, max_iter=100,\n",
              "                   multi_class='auto', n_jobs=None, penalty='l2',\n",
              "                   random_state=None, solver='lbfgs', tol=0.0001, verbose=0,\n",
              "                   warm_start=False)"
            ]
          },
          "metadata": {
            "tags": []
          },
          "execution_count": 53
        },
        {
          "output_type": "stream",
          "text": [
            "\n",
            "The intercept is: [-1.36088335]\n",
            "The coefficients are: [[-1.06812474  0.3048811 ]]\n"
          ],
          "name": "stdout"
        }
      ]
    },
    {
      "cell_type": "code",
      "metadata": {
        "colab": {
          "base_uri": "https://localhost:8080/"
        },
        "id": "RYwl9NOX5ZcG",
        "outputId": "2eb61447-f217-4c09-be1c-b0ac50a6036f"
      },
      "source": [
        "accuracy_score(y_test, y_pred_test)"
      ],
      "execution_count": 54,
      "outputs": [
        {
          "output_type": "execute_result",
          "data": {
            "text/plain": [
              "0.9681159420289855"
            ]
          },
          "metadata": {
            "tags": []
          },
          "execution_count": 54
        }
      ]
    },
    {
      "cell_type": "markdown",
      "metadata": {
        "id": "JuiBR4jPSuva"
      },
      "source": [
        "\r\n",
        "\r\n",
        "---\r\n",
        "\r\n",
        "\r\n",
        "<font color=blue>F1-score: the traditional F-score, is the harmonic mean of p (precision) ans r (recall). F2-score weighs recall higher precision and F0.5-score does the opposite. In statistical analysis of binary classification, the F-score is a measure of a test's accuracy.\r\n",
        "\r\n",
        "<font color=blue>average = 'micro': Calculate metrics globally by counting the total true positives, false negatives and false positives.\r\n",
        "\r\n",
        "\r\n",
        "---\r\n",
        "\r\n"
      ]
    },
    {
      "cell_type": "code",
      "metadata": {
        "colab": {
          "base_uri": "https://localhost:8080/"
        },
        "id": "heEUUncGHHji",
        "outputId": "c06aba6b-305c-4aa8-c822-6192c17ec8a6"
      },
      "source": [
        "from sklearn.metrics import f1_score\r\n",
        "# F1 Score\r\n",
        "f1_score(y_test, y_pred_test, average='micro')"
      ],
      "execution_count": 56,
      "outputs": [
        {
          "output_type": "execute_result",
          "data": {
            "text/plain": [
              "0.9681159420289855"
            ]
          },
          "metadata": {
            "tags": []
          },
          "execution_count": 56
        }
      ]
    },
    {
      "cell_type": "markdown",
      "metadata": {
        "id": "yxtsBJkbI2rk"
      },
      "source": [
        "**<font color=blue>Part B.5** <font color=black>Build and print a confusion matrix for your predictions."
      ]
    },
    {
      "cell_type": "code",
      "metadata": {
        "colab": {
          "base_uri": "https://localhost:8080/"
        },
        "id": "9OD0y-WDJe9j",
        "outputId": "63c2a1ec-3aca-40a6-ea36-e97aa4ebd7d2"
      },
      "source": [
        "# Confusion Matrix\r\n",
        "conf_matrix_lr = confusion_matrix(y_test, y_pred_test)\r\n",
        "conf_matrix_lr"
      ],
      "execution_count": 57,
      "outputs": [
        {
          "output_type": "execute_result",
          "data": {
            "text/plain": [
              "array([[193,   5],\n",
              "       [  6, 141]])"
            ]
          },
          "metadata": {
            "tags": []
          },
          "execution_count": 57
        }
      ]
    },
    {
      "cell_type": "markdown",
      "metadata": {
        "id": "su147QteJt7U"
      },
      "source": [
        "**For the rest of the questions use the whole training data, i.e., ziptrain (not binar_train).**"
      ]
    },
    {
      "cell_type": "markdown",
      "metadata": {
        "id": "WkytkNxGJz6Q"
      },
      "source": [
        "**<font color=blue>Part B.6** <font color=black>Project the whole data onto the first  m=2,3,4,5  principal components (one  m  at a time)."
      ]
    },
    {
      "cell_type": "code",
      "metadata": {
        "id": "kJtNPsF8Me6U"
      },
      "source": [
        "pca_2 = PCA(n_components=2)\r\n",
        "pca_3 = PCA(n_components=3)\r\n",
        "pca_4 = PCA(n_components=4)\r\n",
        "pca_5 = PCA(n_components=5)"
      ],
      "execution_count": 58,
      "outputs": []
    },
    {
      "cell_type": "code",
      "metadata": {
        "colab": {
          "base_uri": "https://localhost:8080/"
        },
        "id": "9g6JICXkMrla",
        "outputId": "4642def7-6fac-4b0b-f926-38aabe9c79c2"
      },
      "source": [
        "# Remove the first column (digits)\r\n",
        "X_ziptrain = ziptrain.iloc[:, 1:]\r\n",
        "\r\n",
        "# The following independently standardizes each feature (it's the default value 0 for \"axis\" argument)\r\n",
        "X_ziptrain_std = scale(X_ziptrain.values)\r\n",
        "\r\n",
        "# Fitting the model on X_ziptrain_std\r\n",
        "pca_2.fit(X_ziptrain_std)\r\n",
        "pca_3.fit(X_ziptrain_std)\r\n",
        "pca_4.fit(X_ziptrain_std)\r\n",
        "pca_5.fit(X_ziptrain_std)"
      ],
      "execution_count": 59,
      "outputs": [
        {
          "output_type": "execute_result",
          "data": {
            "text/plain": [
              "PCA(copy=True, iterated_power='auto', n_components=2, random_state=None,\n",
              "    svd_solver='auto', tol=0.0, whiten=False)"
            ]
          },
          "metadata": {
            "tags": []
          },
          "execution_count": 59
        },
        {
          "output_type": "execute_result",
          "data": {
            "text/plain": [
              "PCA(copy=True, iterated_power='auto', n_components=3, random_state=None,\n",
              "    svd_solver='auto', tol=0.0, whiten=False)"
            ]
          },
          "metadata": {
            "tags": []
          },
          "execution_count": 59
        },
        {
          "output_type": "execute_result",
          "data": {
            "text/plain": [
              "PCA(copy=True, iterated_power='auto', n_components=4, random_state=None,\n",
              "    svd_solver='auto', tol=0.0, whiten=False)"
            ]
          },
          "metadata": {
            "tags": []
          },
          "execution_count": 59
        },
        {
          "output_type": "execute_result",
          "data": {
            "text/plain": [
              "PCA(copy=True, iterated_power='auto', n_components=5, random_state=None,\n",
              "    svd_solver='auto', tol=0.0, whiten=False)"
            ]
          },
          "metadata": {
            "tags": []
          },
          "execution_count": 59
        }
      ]
    },
    {
      "cell_type": "code",
      "metadata": {
        "id": "MTuwQGgKPVJ2"
      },
      "source": [
        "# Apply the dimensionality reduction on X_ziptrain_std\r\n",
        "Z_std_2 = pca_2.transform(X_ziptrain_std)\r\n",
        "Z_std_3 = pca_3.transform(X_ziptrain_std)\r\n",
        "Z_std_4 = pca_4.transform(X_ziptrain_std)\r\n",
        "Z_std_5 = pca_5.transform(X_ziptrain_std)"
      ],
      "execution_count": 60,
      "outputs": []
    },
    {
      "cell_type": "markdown",
      "metadata": {
        "id": "YdPp84PLJ5YO"
      },
      "source": [
        "**<font color=blue>Part B.7** <font color=black>For each  m , and using  5 -fold cross-validation, train a linear discriminant classifier on ziptrain."
      ]
    },
    {
      "cell_type": "code",
      "metadata": {
        "colab": {
          "base_uri": "https://localhost:8080/"
        },
        "id": "RSRAacuGO0Qj",
        "outputId": "e7cf5bd0-89fb-451e-c4eb-2e6ef35dbfcc"
      },
      "source": [
        "from sklearn.model_selection import cross_val_score\r\n",
        "\r\n",
        "# Take the first column for the response (all digits)\r\n",
        "y = ziptrain.iloc[:,0]\r\n",
        "\r\n",
        "# Using the 5-fold cross-validation and train a linear discriminant\r\n",
        "accuracy_cv_2 = cross_val_score(lda, Z_std_2, y, cv=5)\r\n",
        "\r\n",
        "# Print the accuracy for each 5-fold\r\n",
        "print('Accuracy in each iteration with m = 2:\\n')\r\n",
        "for i in range(len(accuracy_cv_2)):\r\n",
        "    print(accuracy_cv_2[i])"
      ],
      "execution_count": 61,
      "outputs": [
        {
          "output_type": "stream",
          "text": [
            "Accuracy in each iteration with m = 2:\n",
            "\n",
            "0.5257025359835503\n",
            "0.5013717421124828\n",
            "0.5164609053497943\n",
            "0.51440329218107\n",
            "0.5274348422496571\n"
          ],
          "name": "stdout"
        }
      ]
    },
    {
      "cell_type": "code",
      "metadata": {
        "colab": {
          "base_uri": "https://localhost:8080/"
        },
        "id": "RZ5ydCijZRvC",
        "outputId": "dc1c276c-e90d-4030-9c4d-db02462e5741"
      },
      "source": [
        "accuracy_cv_3 = cross_val_score(lda, Z_std_3, y, cv=5)\r\n",
        "print('Accuracy in each iteration with m = 3:\\n')\r\n",
        "for i in range(len(accuracy_cv_3)):\r\n",
        "    print(accuracy_cv_3[i])"
      ],
      "execution_count": 62,
      "outputs": [
        {
          "output_type": "stream",
          "text": [
            "Accuracy in each iteration with m = 3:\n",
            "\n",
            "0.5743660041124058\n",
            "0.5521262002743484\n",
            "0.5555555555555556\n",
            "0.5582990397805213\n",
            "0.5617283950617284\n"
          ],
          "name": "stdout"
        }
      ]
    },
    {
      "cell_type": "code",
      "metadata": {
        "colab": {
          "base_uri": "https://localhost:8080/"
        },
        "id": "4LXcqCjKZSHe",
        "outputId": "db4571b7-9b76-43b7-9bef-00dd42869905"
      },
      "source": [
        "accuracy_cv_4 = cross_val_score(lda, Z_std_4, y, cv=5)\r\n",
        "print('Accuracy in each iteration with m = 4:\\n')\r\n",
        "for i in range(len(accuracy_cv_4)):\r\n",
        "    print(accuracy_cv_4[i])"
      ],
      "execution_count": 63,
      "outputs": [
        {
          "output_type": "stream",
          "text": [
            "Accuracy in each iteration with m = 4:\n",
            "\n",
            "0.6614119259766964\n",
            "0.6529492455418381\n",
            "0.6563786008230452\n",
            "0.6666666666666666\n",
            "0.663923182441701\n"
          ],
          "name": "stdout"
        }
      ]
    },
    {
      "cell_type": "code",
      "metadata": {
        "colab": {
          "base_uri": "https://localhost:8080/"
        },
        "id": "ceAoDjbOZSbd",
        "outputId": "9de7e0f4-d607-45de-81e6-4d71410cb74a"
      },
      "source": [
        "accuracy_cv_5 = cross_val_score(lda, Z_std_5, y, cv=5)\r\n",
        "print('Accuracy in each iteration with m = 5:\\n')\r\n",
        "for i in range(len(accuracy_cv_5)):\r\n",
        "    print(accuracy_cv_5[i])"
      ],
      "execution_count": 64,
      "outputs": [
        {
          "output_type": "stream",
          "text": [
            "Accuracy in each iteration with m = 5:\n",
            "\n",
            "0.7162440027416038\n",
            "0.6989026063100137\n",
            "0.7071330589849109\n",
            "0.710562414266118\n",
            "0.7002743484224966\n"
          ],
          "name": "stdout"
        }
      ]
    },
    {
      "cell_type": "markdown",
      "metadata": {
        "id": "CCse8Yx0J5lc"
      },
      "source": [
        "**<font color=blue>Part B.8** <font color=black>Based on cross-validated accuracy, select the best number of principal components  m ."
      ]
    },
    {
      "cell_type": "code",
      "metadata": {
        "colab": {
          "base_uri": "https://localhost:8080/"
        },
        "id": "hfwLU2SiZuaP",
        "outputId": "e3014cfb-e849-4016-8ba5-b215b6518cdf"
      },
      "source": [
        "print(\"Accuracy with m = 2: %0.2f (+/- %0.2f)\" % (accuracy_cv_2.mean(), accuracy_cv_2.std() * 2))\r\n",
        "print(\"Accuracy with m = 3: %0.2f (+/- %0.2f)\" % (accuracy_cv_3.mean(), accuracy_cv_3.std() * 2))\r\n",
        "print(\"Accuracy with m = 4: %0.2f (+/- %0.2f)\" % (accuracy_cv_4.mean(), accuracy_cv_4.std() * 2))\r\n",
        "print(\"Accuracy with m = 5: %0.2f (+/- %0.2f)\" % (accuracy_cv_5.mean(), accuracy_cv_5.std() * 2))"
      ],
      "execution_count": 65,
      "outputs": [
        {
          "output_type": "stream",
          "text": [
            "Accuracy with m = 2: 0.52 (+/- 0.02)\n",
            "Accuracy with m = 3: 0.56 (+/- 0.02)\n",
            "Accuracy with m = 4: 0.66 (+/- 0.01)\n",
            "Accuracy with m = 5: 0.71 (+/- 0.01)\n"
          ],
          "name": "stdout"
        }
      ]
    },
    {
      "cell_type": "markdown",
      "metadata": {
        "id": "s6rhY8-TqOk_"
      },
      "source": [
        "\r\n",
        "\r\n",
        "---\r\n",
        "\r\n",
        "<font color=blue>We see the mean of accuracy on cross-validation with different number of principal components. The best result it's with m = 5 principal components (accuracy of 0.71 +/- 0.01).\r\n",
        "\r\n",
        "---\r\n",
        "\r\n",
        "\r\n",
        "\r\n"
      ]
    }
  ]
}